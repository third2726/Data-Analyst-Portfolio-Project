{
    "metadata": {
        "kernelspec": {
            "name": "SQL",
            "display_name": "SQL",
            "language": "sql"
        },
        "language_info": {
            "name": "sql",
            "version": ""
        }
    },
    "nbformat_minor": 2,
    "nbformat": 4,
    "cells": [
        {
            "cell_type": "markdown",
            "source": [
                "## 1. Classic American names\n",
                "<p><img src=\"https://assets.datacamp.com/production/project_1441/img/name.jpg\" alt=\"Lots of name tags piled on top of each other.\" width=\"600\"></p>\n",
                "<p>Photo by Travis Wise on <a href=\"https://commons.wikimedia.org/wiki/File:Hello_My_Name_Is_(15283079263).jpg\">Wikimedia</a>.</p>\n",
                "<p>How have American baby name tastes changed since 1920?  Which names have remained popular for over 100 years, and how do those names compare to more recent top baby names? These are considerations for many new parents, but the skills we'll practice while answering these queries are broadly applicable. After all, understanding trends and popularity is important for many businesses, too! </p>\n",
                "<p>We'll be working with data provided by the United States Social Security Administration, which lists first names along with the number and sex of babies they were given to in each year. For processing speed purposes, we've limited the dataset to first names which were given to over 5,000 American babies in a given year. Our data spans 101 years, from 1920 through 2020.</p>\n",
                "<h3 id=\"baby_names\"><code>baby_names</code></h3>\n",
                "<table>\n",
                "<thead>\n",
                "<tr>\n",
                "<th style=\"text-align:left;\">column</th>\n",
                "<th>type</th>\n",
                "<th>meaning</th>\n",
                "</tr>\n",
                "</thead>\n",
                "<tbody>\n",
                "<tr>\n",
                "<td style=\"text-align:left;\"><code>year</code></td>\n",
                "<td>int</td>\n",
                "<td>year</td>\n",
                "</tr>\n",
                "<tr>\n",
                "<td style=\"text-align:left;\"><code>first_name</code></td>\n",
                "<td>varchar</td>\n",
                "<td>first name</td>\n",
                "</tr>\n",
                "<tr>\n",
                "<td style=\"text-align:left;\"><code>sex</code></td>\n",
                "<td>varchar</td>\n",
                "<td><code>sex</code> of babies given <code>first_name</code></td>\n",
                "</tr>\n",
                "<tr>\n",
                "<td style=\"text-align:left;\"><code>num</code></td>\n",
                "<td>int</td>\n",
                "<td>number of babies of <code>sex</code> given <code>first_name</code> in that <code>year</code></td>\n",
                "</tr>\n",
                "</tbody>\n",
                "</table>\n",
                "<p>Let's get oriented to American baby name tastes by looking at the names that have stood the test of time!</p>"
            ],
            "metadata": {
                "dc": {
                    "key": "8"
                },
                "deletable": false,
                "editable": false,
                "run_control": {
                    "frozen": true
                },
                "tags": [
                    "context"
                ],
                "azdata_cell_guid": "85f5b6aa-d470-4765-81af-0d804d919b44"
            }
        },
        {
            "cell_type": "code",
            "source": [
                "SELECT first_name, sum(num)\n",
                "FROM Projects.dbo.usa_baby_names\n",
                "GROUP BY first_name\n",
                "HAVING COUNT(year) = 101\n",
                "ORDER BY SUM(num) DESC"
            ],
            "metadata": {
                "dc": {
                    "key": "8"
                },
                "scrolled": true,
                "tags": [
                    "sample_code"
                ],
                "azdata_cell_guid": "2e9190c5-96f9-4e04-bb47-9aaa84de7619",
                "language": "sql"
            },
            "outputs": [
                {
                    "output_type": "display_data",
                    "data": {
                        "text/html": "(8 rows affected)"
                    },
                    "metadata": {}
                },
                {
                    "output_type": "display_data",
                    "data": {
                        "text/html": "Total execution time: 00:00:00.042"
                    },
                    "metadata": {}
                },
                {
                    "output_type": "execute_result",
                    "metadata": {},
                    "execution_count": 26,
                    "data": {
                        "application/vnd.dataresource+json": {
                            "schema": {
                                "fields": [
                                    {
                                        "name": "first_name"
                                    },
                                    {
                                        "name": "(No column name)"
                                    }
                                ]
                            },
                            "data": [
                                {
                                    "first_name": "James",
                                    "(No column name)": "4748138"
                                },
                                {
                                    "first_name": "John",
                                    "(No column name)": "4510721"
                                },
                                {
                                    "first_name": "William",
                                    "(No column name)": "3614424"
                                },
                                {
                                    "first_name": "David",
                                    "(No column name)": "3571498"
                                },
                                {
                                    "first_name": "Joseph",
                                    "(No column name)": "2361382"
                                },
                                {
                                    "first_name": "Thomas",
                                    "(No column name)": "2166802"
                                },
                                {
                                    "first_name": "Charles",
                                    "(No column name)": "2112352"
                                },
                                {
                                    "first_name": "Elizabeth",
                                    "(No column name)": "1436286"
                                }
                            ]
                        },
                        "text/html": [
                            "<table>",
                            "<tr><th>first_name</th><th>(No column name)</th></tr>",
                            "<tr><td>James</td><td>4748138</td></tr>",
                            "<tr><td>John</td><td>4510721</td></tr>",
                            "<tr><td>William</td><td>3614424</td></tr>",
                            "<tr><td>David</td><td>3571498</td></tr>",
                            "<tr><td>Joseph</td><td>2361382</td></tr>",
                            "<tr><td>Thomas</td><td>2166802</td></tr>",
                            "<tr><td>Charles</td><td>2112352</td></tr>",
                            "<tr><td>Elizabeth</td><td>1436286</td></tr>",
                            "</table>"
                        ]
                    }
                }
            ],
            "execution_count": 26
        },
        {
            "cell_type": "markdown",
            "source": [
                "## 2. Timeless or trendy?\n",
                "<p>Wow, it looks like there are a lot of timeless traditionally male names! Elizabeth is holding her own for the female names, too. </p>\n",
                "<p>Now, let's broaden our understanding of the dataset by looking at all names. We'll attempt to capture the type of popularity that each name in the dataset enjoyed. Was the name classic and popular across many years or trendy, only popular for a few years? Let's find out. </p>"
            ],
            "metadata": {
                "dc": {
                    "key": "15"
                },
                "deletable": false,
                "editable": false,
                "run_control": {
                    "frozen": true
                },
                "tags": [
                    "context"
                ],
                "azdata_cell_guid": "973483b7-2e39-4885-bc45-29d5d3b8bb63"
            }
        },
        {
            "cell_type": "code",
            "source": [
                "SELECT first_name, SUM(num),\n",
                "    CASE WHEN COUNT(year) > 80 THEN 'Classic'\n",
                "        WHEN COUNT(year) > 50 THEN 'Semi-classic'\n",
                "        WHEN COUNT(year) > 20 THEN 'Semi-trendy'\n",
                "        ELSE 'Trendy' END AS popularity_type\n",
                "FROM Projects.dbo.usa_baby_names\n",
                "GROUP BY first_name\n",
                "ORDER BY first_name"
            ],
            "metadata": {
                "dc": {
                    "key": "15"
                },
                "tags": [
                    "sample_code"
                ],
                "azdata_cell_guid": "660a71d3-18a8-41dd-ab11-175e8f8ab8da",
                "language": "sql"
            },
            "outputs": [
                {
                    "output_type": "display_data",
                    "data": {
                        "text/html": "(547 rows affected)"
                    },
                    "metadata": {}
                },
                {
                    "output_type": "display_data",
                    "data": {
                        "text/html": "Total execution time: 00:00:00.028"
                    },
                    "metadata": {}
                },
                {
                    "output_type": "execute_result",
                    "metadata": {},
                    "execution_count": 27,
                    "data": {
                        "application/vnd.dataresource+json": {
                            "schema": {
                                "fields": [
                                    {
                                        "name": "first_name"
                                    },
                                    {
                                        "name": "(No column name)"
                                    },
                                    {
                                        "name": "popularity_type"
                                    }
                                ]
                            },
                            "data": [
                                {
                                    "first_name": "Aaliyah",
                                    "(No column name)": "15870",
                                    "popularity_type": "Trendy"
                                },
                                {
                                    "first_name": "Aaron",
                                    "(No column name)": "530592",
                                    "popularity_type": "Semi-classic"
                                },
                                {
                                    "first_name": "Abigail",
                                    "(No column name)": "338485",
                                    "popularity_type": "Semi-trendy"
                                },
                                {
                                    "first_name": "Adam",
                                    "(No column name)": "497293",
                                    "popularity_type": "Semi-trendy"
                                },
                                {
                                    "first_name": "Addison",
                                    "(No column name)": "107433",
                                    "popularity_type": "Trendy"
                                },
                                {
                                    "first_name": "Adrian",
                                    "(No column name)": "147741",
                                    "popularity_type": "Semi-trendy"
                                },
                                {
                                    "first_name": "Aidan",
                                    "(No column name)": "68566",
                                    "popularity_type": "Trendy"
                                },
                                {
                                    "first_name": "Aiden",
                                    "(No column name)": "216194",
                                    "popularity_type": "Trendy"
                                },
                                {
                                    "first_name": "Alan",
                                    "(No column name)": "162041",
                                    "popularity_type": "Semi-trendy"
                                },
                                {
                                    "first_name": "Albert",
                                    "(No column name)": "260945",
                                    "popularity_type": "Semi-trendy"
                                },
                                {
                                    "first_name": "Alex",
                                    "(No column name)": "158677",
                                    "popularity_type": "Semi-trendy"
                                },
                                {
                                    "first_name": "Alexa",
                                    "(No column name)": "33522",
                                    "popularity_type": "Trendy"
                                },
                                {
                                    "first_name": "Alexander",
                                    "(No column name)": "579854",
                                    "popularity_type": "Semi-trendy"
                                },
                                {
                                    "first_name": "Alexandra",
                                    "(No column name)": "167122",
                                    "popularity_type": "Semi-trendy"
                                },
                                {
                                    "first_name": "Alexandria",
                                    "(No column name)": "5026",
                                    "popularity_type": "Trendy"
                                },
                                {
                                    "first_name": "Alexis",
                                    "(No column name)": "282149",
                                    "popularity_type": "Semi-trendy"
                                },
                                {
                                    "first_name": "Alfred",
                                    "(No column name)": "16260",
                                    "popularity_type": "Trendy"
                                },
                                {
                                    "first_name": "Alice",
                                    "(No column name)": "296559",
                                    "popularity_type": "Semi-trendy"
                                },
                                {
                                    "first_name": "Alicia",
                                    "(No column name)": "84579",
                                    "popularity_type": "Trendy"
                                },
                                {
                                    "first_name": "Allen",
                                    "(No column name)": "10256",
                                    "popularity_type": "Trendy"
                                },
                                {
                                    "first_name": "Allison",
                                    "(No column name)": "214995",
                                    "popularity_type": "Semi-trendy"
                                },
                                {
                                    "first_name": "Alyssa",
                                    "(No column name)": "269134",
                                    "popularity_type": "Semi-trendy"
                                },
                                {
                                    "first_name": "Amanda",
                                    "(No column name)": "699911",
                                    "popularity_type": "Semi-trendy"
                                },
                                {
                                    "first_name": "Amber",
                                    "(No column name)": "313418",
                                    "popularity_type": "Semi-trendy"
                                },
                                {
                                    "first_name": "Amelia",
                                    "(No column name)": "106381",
                                    "popularity_type": "Trendy"
                                },
                                {
                                    "first_name": "Amy",
                                    "(No column name)": "569542",
                                    "popularity_type": "Semi-trendy"
                                },
                                {
                                    "first_name": "Andrea",
                                    "(No column name)": "321655",
                                    "popularity_type": "Semi-trendy"
                                },
                                {
                                    "first_name": "Andrew",
                                    "(No column name)": "1157548",
                                    "popularity_type": "Semi-classic"
                                },
                                {
                                    "first_name": "Angel",
                                    "(No column name)": "157667",
                                    "popularity_type": "Trendy"
                                },
                                {
                                    "first_name": "Angela",
                                    "(No column name)": "541553",
                                    "popularity_type": "Semi-trendy"
                                },
                                {
                                    "first_name": "Angelina",
                                    "(No column name)": "11337",
                                    "popularity_type": "Trendy"
                                },
                                {
                                    "first_name": "Anita",
                                    "(No column name)": "44692",
                                    "popularity_type": "Trendy"
                                },
                                {
                                    "first_name": "Ann",
                                    "(No column name)": "336091",
                                    "popularity_type": "Semi-trendy"
                                },
                                {
                                    "first_name": "Anna",
                                    "(No column name)": "445496",
                                    "popularity_type": "Semi-classic"
                                },
                                {
                                    "first_name": "Anne",
                                    "(No column name)": "70228",
                                    "popularity_type": "Trendy"
                                },
                                {
                                    "first_name": "Annette",
                                    "(No column name)": "49954",
                                    "popularity_type": "Trendy"
                                },
                                {
                                    "first_name": "Annie",
                                    "(No column name)": "95837",
                                    "popularity_type": "Trendy"
                                },
                                {
                                    "first_name": "Anthony",
                                    "(No column name)": "1344352",
                                    "popularity_type": "Classic"
                                },
                                {
                                    "first_name": "Antonio",
                                    "(No column name)": "10097",
                                    "popularity_type": "Trendy"
                                },
                                {
                                    "first_name": "April",
                                    "(No column name)": "138714",
                                    "popularity_type": "Trendy"
                                },
                                {
                                    "first_name": "Aria",
                                    "(No column name)": "52145",
                                    "popularity_type": "Trendy"
                                },
                                {
                                    "first_name": "Ariana",
                                    "(No column name)": "5497",
                                    "popularity_type": "Trendy"
                                },
                                {
                                    "first_name": "Arianna",
                                    "(No column name)": "5270",
                                    "popularity_type": "Trendy"
                                },
                                {
                                    "first_name": "Ariel",
                                    "(No column name)": "5410",
                                    "popularity_type": "Trendy"
                                },
                                {
                                    "first_name": "Arthur",
                                    "(No column name)": "309705",
                                    "popularity_type": "Semi-trendy"
                                },
                                {
                                    "first_name": "Asher",
                                    "(No column name)": "38156",
                                    "popularity_type": "Trendy"
                                },
                                {
                                    "first_name": "Ashley",
                                    "(No column name)": "798738",
                                    "popularity_type": "Semi-trendy"
                                },
                                {
                                    "first_name": "Ashton",
                                    "(No column name)": "5436",
                                    "popularity_type": "Trendy"
                                },
                                {
                                    "first_name": "Aubrey",
                                    "(No column name)": "72220",
                                    "popularity_type": "Trendy"
                                },
                                {
                                    "first_name": "Audrey",
                                    "(No column name)": "48341",
                                    "popularity_type": "Trendy"
                                },
                                {
                                    "first_name": "Aurora",
                                    "(No column name)": "5184",
                                    "popularity_type": "Trendy"
                                },
                                {
                                    "first_name": "Austin",
                                    "(No column name)": "365295",
                                    "popularity_type": "Semi-trendy"
                                },
                                {
                                    "first_name": "Ava",
                                    "(No column name)": "265126",
                                    "popularity_type": "Trendy"
                                },
                                {
                                    "first_name": "Avery",
                                    "(No column name)": "112293",
                                    "popularity_type": "Trendy"
                                },
                                {
                                    "first_name": "Ayden",
                                    "(No column name)": "34244",
                                    "popularity_type": "Trendy"
                                },
                                {
                                    "first_name": "Bailey",
                                    "(No column name)": "10219",
                                    "popularity_type": "Trendy"
                                },
                                {
                                    "first_name": "Barbara",
                                    "(No column name)": "1343901",
                                    "popularity_type": "Semi-classic"
                                },
                                {
                                    "first_name": "Barry",
                                    "(No column name)": "85434",
                                    "popularity_type": "Trendy"
                                },
                                {
                                    "first_name": "Beatrice",
                                    "(No column name)": "27983",
                                    "popularity_type": "Trendy"
                                },
                                {
                                    "first_name": "Bella",
                                    "(No column name)": "5127",
                                    "popularity_type": "Trendy"
                                },
                                {
                                    "first_name": "Benjamin",
                                    "(No column name)": "627696",
                                    "popularity_type": "Semi-trendy"
                                },
                                {
                                    "first_name": "Bentley",
                                    "(No column name)": "16844",
                                    "popularity_type": "Trendy"
                                },
                                {
                                    "first_name": "Bernice",
                                    "(No column name)": "46347",
                                    "popularity_type": "Trendy"
                                },
                                {
                                    "first_name": "Beth",
                                    "(No column name)": "55228",
                                    "popularity_type": "Trendy"
                                },
                                {
                                    "first_name": "Betty",
                                    "(No column name)": "893396",
                                    "popularity_type": "Semi-trendy"
                                },
                                {
                                    "first_name": "Beverly",
                                    "(No column name)": "310683",
                                    "popularity_type": "Semi-trendy"
                                },
                                {
                                    "first_name": "Billy",
                                    "(No column name)": "270759",
                                    "popularity_type": "Semi-trendy"
                                },
                                {
                                    "first_name": "Blake",
                                    "(No column name)": "48795",
                                    "popularity_type": "Trendy"
                                },
                                {
                                    "first_name": "Bobby",
                                    "(No column name)": "203289",
                                    "popularity_type": "Semi-trendy"
                                },
                                {
                                    "first_name": "Bonnie",
                                    "(No column name)": "193352",
                                    "popularity_type": "Semi-trendy"
                                },
                                {
                                    "first_name": "Bradley",
                                    "(No column name)": "147275",
                                    "popularity_type": "Semi-trendy"
                                },
                                {
                                    "first_name": "Brandi",
                                    "(No column name)": "16199",
                                    "popularity_type": "Trendy"
                                },
                                {
                                    "first_name": "Brandon",
                                    "(No column name)": "729832",
                                    "popularity_type": "Semi-trendy"
                                },
                                {
                                    "first_name": "Brandy",
                                    "(No column name)": "48762",
                                    "popularity_type": "Trendy"
                                },
                                {
                                    "first_name": "Brayden",
                                    "(No column name)": "93754",
                                    "popularity_type": "Trendy"
                                },
                                {
                                    "first_name": "Brenda",
                                    "(No column name)": "513283",
                                    "popularity_type": "Semi-trendy"
                                },
                                {
                                    "first_name": "Brian",
                                    "(No column name)": "1107302",
                                    "popularity_type": "Semi-classic"
                                },
                                {
                                    "first_name": "Briana",
                                    "(No column name)": "5001",
                                    "popularity_type": "Trendy"
                                },
                                {
                                    "first_name": "Brianna",
                                    "(No column name)": "210328",
                                    "popularity_type": "Semi-trendy"
                                },
                                {
                                    "first_name": "Brittany",
                                    "(No column name)": "326255",
                                    "popularity_type": "Trendy"
                                },
                                {
                                    "first_name": "Brittney",
                                    "(No column name)": "37878",
                                    "popularity_type": "Trendy"
                                },
                                {
                                    "first_name": "Brody",
                                    "(No column name)": "21815",
                                    "popularity_type": "Trendy"
                                },
                                {
                                    "first_name": "Brooke",
                                    "(No column name)": "110847",
                                    "popularity_type": "Trendy"
                                },
                                {
                                    "first_name": "Brooklyn",
                                    "(No column name)": "62260",
                                    "popularity_type": "Trendy"
                                },
                                {
                                    "first_name": "Bruce",
                                    "(No column name)": "266549",
                                    "popularity_type": "Semi-trendy"
                                },
                                {
                                    "first_name": "Bryan",
                                    "(No column name)": "314250",
                                    "popularity_type": "Semi-trendy"
                                },
                                {
                                    "first_name": "Caden",
                                    "(No column name)": "5052",
                                    "popularity_type": "Trendy"
                                },
                                {
                                    "first_name": "Caitlin",
                                    "(No column name)": "38501",
                                    "popularity_type": "Trendy"
                                },
                                {
                                    "first_name": "Caleb",
                                    "(No column name)": "259439",
                                    "popularity_type": "Semi-trendy"
                                },
                                {
                                    "first_name": "Cameron",
                                    "(No column name)": "253711",
                                    "popularity_type": "Semi-trendy"
                                },
                                {
                                    "first_name": "Camila",
                                    "(No column name)": "51882",
                                    "popularity_type": "Trendy"
                                },
                                {
                                    "first_name": "Carl",
                                    "(No column name)": "334800",
                                    "popularity_type": "Semi-trendy"
                                },
                                {
                                    "first_name": "Carla",
                                    "(No column name)": "22276",
                                    "popularity_type": "Trendy"
                                },
                                {
                                    "first_name": "Carlos",
                                    "(No column name)": "118325",
                                    "popularity_type": "Trendy"
                                },
                                {
                                    "first_name": "Carol",
                                    "(No column name)": "740607",
                                    "popularity_type": "Semi-trendy"
                                },
                                {
                                    "first_name": "Carole",
                                    "(No column name)": "21186",
                                    "popularity_type": "Trendy"
                                },
                                {
                                    "first_name": "Caroline",
                                    "(No column name)": "5021",
                                    "popularity_type": "Trendy"
                                },
                                {
                                    "first_name": "Carolyn",
                                    "(No column name)": "438382",
                                    "popularity_type": "Semi-trendy"
                                },
                                {
                                    "first_name": "Carrie",
                                    "(No column name)": "77899",
                                    "popularity_type": "Trendy"
                                },
                                {
                                    "first_name": "Carson",
                                    "(No column name)": "25598",
                                    "popularity_type": "Trendy"
                                },
                                {
                                    "first_name": "Carter",
                                    "(No column name)": "141274",
                                    "popularity_type": "Trendy"
                                },
                                {
                                    "first_name": "Cassandra",
                                    "(No column name)": "42677",
                                    "popularity_type": "Trendy"
                                },
                                {
                                    "first_name": "Catherine",
                                    "(No column name)": "345852",
                                    "popularity_type": "Semi-trendy"
                                },
                                {
                                    "first_name": "Cathy",
                                    "(No column name)": "119020",
                                    "popularity_type": "Trendy"
                                },
                                {
                                    "first_name": "Chad",
                                    "(No column name)": "177923",
                                    "popularity_type": "Trendy"
                                },
                                {
                                    "first_name": "Charles",
                                    "(No column name)": "2112352",
                                    "popularity_type": "Classic"
                                },
                                {
                                    "first_name": "Charlotte",
                                    "(No column name)": "141540",
                                    "popularity_type": "Trendy"
                                },
                                {
                                    "first_name": "Chase",
                                    "(No column name)": "97684",
                                    "popularity_type": "Trendy"
                                },
                                {
                                    "first_name": "Chelsea",
                                    "(No column name)": "100857",
                                    "popularity_type": "Trendy"
                                },
                                {
                                    "first_name": "Cheryl",
                                    "(No column name)": "392691",
                                    "popularity_type": "Semi-trendy"
                                },
                                {
                                    "first_name": "Chloe",
                                    "(No column name)": "187720",
                                    "popularity_type": "Semi-trendy"
                                },
                                {
                                    "first_name": "Chris",
                                    "(No column name)": "48878",
                                    "popularity_type": "Trendy"
                                },
                                {
                                    "first_name": "Christian",
                                    "(No column name)": "357457",
                                    "popularity_type": "Semi-trendy"
                                },
                                {
                                    "first_name": "Christina",
                                    "(No column name)": "366859",
                                    "popularity_type": "Semi-trendy"
                                },
                                {
                                    "first_name": "Christine",
                                    "(No column name)": "465653",
                                    "popularity_type": "Semi-trendy"
                                },
                                {
                                    "first_name": "Christopher",
                                    "(No column name)": "2012792",
                                    "popularity_type": "Semi-classic"
                                },
                                {
                                    "first_name": "Christy",
                                    "(No column name)": "10235",
                                    "popularity_type": "Trendy"
                                },
                                {
                                    "first_name": "Cindy",
                                    "(No column name)": "161070",
                                    "popularity_type": "Trendy"
                                },
                                {
                                    "first_name": "Claire",
                                    "(No column name)": "10225",
                                    "popularity_type": "Trendy"
                                },
                                {
                                    "first_name": "Clara",
                                    "(No column name)": "21336",
                                    "popularity_type": "Trendy"
                                },
                                {
                                    "first_name": "Clarence",
                                    "(No column name)": "77134",
                                    "popularity_type": "Trendy"
                                },
                                {
                                    "first_name": "Cody",
                                    "(No column name)": "225952",
                                    "popularity_type": "Semi-trendy"
                                },
                                {
                                    "first_name": "Cole",
                                    "(No column name)": "72461",
                                    "popularity_type": "Trendy"
                                },
                                {
                                    "first_name": "Colin",
                                    "(No column name)": "5122",
                                    "popularity_type": "Trendy"
                                },
                                {
                                    "first_name": "Colton",
                                    "(No column name)": "58377",
                                    "popularity_type": "Trendy"
                                },
                                {
                                    "first_name": "Connie",
                                    "(No column name)": "179476",
                                    "popularity_type": "Semi-trendy"
                                },
                                {
                                    "first_name": "Connor",
                                    "(No column name)": "203106",
                                    "popularity_type": "Semi-trendy"
                                },
                                {
                                    "first_name": "Cooper",
                                    "(No column name)": "31011",
                                    "popularity_type": "Trendy"
                                },
                                {
                                    "first_name": "Corey",
                                    "(No column name)": "70531",
                                    "popularity_type": "Trendy"
                                },
                                {
                                    "first_name": "Cory",
                                    "(No column name)": "29454",
                                    "popularity_type": "Trendy"
                                },
                                {
                                    "first_name": "Courtney",
                                    "(No column name)": "202829",
                                    "popularity_type": "Semi-trendy"
                                },
                                {
                                    "first_name": "Craig",
                                    "(No column name)": "190323",
                                    "popularity_type": "Semi-trendy"
                                },
                                {
                                    "first_name": "Crystal",
                                    "(No column name)": "239999",
                                    "popularity_type": "Semi-trendy"
                                },
                                {
                                    "first_name": "Curtis",
                                    "(No column name)": "48098",
                                    "popularity_type": "Trendy"
                                },
                                {
                                    "first_name": "Cynthia",
                                    "(No column name)": "577859",
                                    "popularity_type": "Semi-trendy"
                                },
                                {
                                    "first_name": "Dakota",
                                    "(No column name)": "34334",
                                    "popularity_type": "Trendy"
                                },
                                {
                                    "first_name": "Dale",
                                    "(No column name)": "130919",
                                    "popularity_type": "Trendy"
                                },
                                {
                                    "first_name": "Dana",
                                    "(No column name)": "51558",
                                    "popularity_type": "Trendy"
                                },
                                {
                                    "first_name": "Daniel",
                                    "(No column name)": "1824274",
                                    "popularity_type": "Classic"
                                },
                                {
                                    "first_name": "Danielle",
                                    "(No column name)": "299683",
                                    "popularity_type": "Semi-trendy"
                                },
                                {
                                    "first_name": "Danny",
                                    "(No column name)": "161078",
                                    "popularity_type": "Trendy"
                                },
                                {
                                    "first_name": "Darlene",
                                    "(No column name)": "89561",
                                    "popularity_type": "Trendy"
                                },
                                {
                                    "first_name": "Darren",
                                    "(No column name)": "5935",
                                    "popularity_type": "Trendy"
                                },
                                {
                                    "first_name": "Darryl",
                                    "(No column name)": "10142",
                                    "popularity_type": "Trendy"
                                },
                                {
                                    "first_name": "David",
                                    "(No column name)": "3571498",
                                    "popularity_type": "Classic"
                                },
                                {
                                    "first_name": "Dawn",
                                    "(No column name)": "225877",
                                    "popularity_type": "Semi-trendy"
                                },
                                {
                                    "first_name": "Debbie",
                                    "(No column name)": "138846",
                                    "popularity_type": "Trendy"
                                },
                                {
                                    "first_name": "Deborah",
                                    "(No column name)": "675049",
                                    "popularity_type": "Semi-trendy"
                                },
                                {
                                    "first_name": "Debra",
                                    "(No column name)": "508230",
                                    "popularity_type": "Semi-trendy"
                                },
                                {
                                    "first_name": "Denise",
                                    "(No column name)": "285039",
                                    "popularity_type": "Semi-trendy"
                                },
                                {
                                    "first_name": "Dennis",
                                    "(No column name)": "492221",
                                    "popularity_type": "Semi-trendy"
                                },
                                {
                                    "first_name": "Derek",
                                    "(No column name)": "105026",
                                    "popularity_type": "Trendy"
                                },
                                {
                                    "first_name": "Destiny",
                                    "(No column name)": "100465",
                                    "popularity_type": "Trendy"
                                },
                                {
                                    "first_name": "Devin",
                                    "(No column name)": "70280",
                                    "popularity_type": "Trendy"
                                },
                                {
                                    "first_name": "Diana",
                                    "(No column name)": "172195",
                                    "popularity_type": "Semi-trendy"
                                },
                                {
                                    "first_name": "Diane",
                                    "(No column name)": "453135",
                                    "popularity_type": "Semi-trendy"
                                },
                                {
                                    "first_name": "Diego",
                                    "(No column name)": "46535",
                                    "popularity_type": "Trendy"
                                },
                                {
                                    "first_name": "Dillon",
                                    "(No column name)": "5062",
                                    "popularity_type": "Trendy"
                                },
                                {
                                    "first_name": "Dolores",
                                    "(No column name)": "101453",
                                    "popularity_type": "Trendy"
                                },
                                {
                                    "first_name": "Dominic",
                                    "(No column name)": "67420",
                                    "popularity_type": "Trendy"
                                },
                                {
                                    "first_name": "Donald",
                                    "(No column name)": "1280236",
                                    "popularity_type": "Semi-classic"
                                },
                                {
                                    "first_name": "Donna",
                                    "(No column name)": "762594",
                                    "popularity_type": "Semi-trendy"
                                },
                                {
                                    "first_name": "Doris",
                                    "(No column name)": "336062",
                                    "popularity_type": "Semi-trendy"
                                },
                                {
                                    "first_name": "Dorothy",
                                    "(No column name)": "791084",
                                    "popularity_type": "Semi-trendy"
                                },
                                {
                                    "first_name": "Douglas",
                                    "(No column name)": "426439",
                                    "popularity_type": "Semi-trendy"
                                },
                                {
                                    "first_name": "Dustin",
                                    "(No column name)": "138651",
                                    "popularity_type": "Trendy"
                                },
                                {
                                    "first_name": "Dylan",
                                    "(No column name)": "360776",
                                    "popularity_type": "Semi-trendy"
                                },
                                {
                                    "first_name": "Earl",
                                    "(No column name)": "74214",
                                    "popularity_type": "Trendy"
                                },
                                {
                                    "first_name": "Easton",
                                    "(No column name)": "21820",
                                    "popularity_type": "Trendy"
                                },
                                {
                                    "first_name": "Edith",
                                    "(No column name)": "53687",
                                    "popularity_type": "Trendy"
                                },
                                {
                                    "first_name": "Edna",
                                    "(No column name)": "63698",
                                    "popularity_type": "Trendy"
                                },
                                {
                                    "first_name": "Edward",
                                    "(No column name)": "1013143",
                                    "popularity_type": "Semi-classic"
                                },
                                {
                                    "first_name": "Elaine",
                                    "(No column name)": "100359",
                                    "popularity_type": "Trendy"
                                },
                                {
                                    "first_name": "Eleanor",
                                    "(No column name)": "119863",
                                    "popularity_type": "Trendy"
                                },
                                {
                                    "first_name": "Eli",
                                    "(No column name)": "74938",
                                    "popularity_type": "Trendy"
                                },
                                {
                                    "first_name": "Elias",
                                    "(No column name)": "16965",
                                    "popularity_type": "Trendy"
                                },
                                {
                                    "first_name": "Elijah",
                                    "(No column name)": "277457",
                                    "popularity_type": "Semi-trendy"
                                },
                                {
                                    "first_name": "Elizabeth",
                                    "(No column name)": "1436286",
                                    "popularity_type": "Classic"
                                },
                                {
                                    "first_name": "Ella",
                                    "(No column name)": "154079",
                                    "popularity_type": "Trendy"
                                },
                                {
                                    "first_name": "Ellen",
                                    "(No column name)": "82403",
                                    "popularity_type": "Trendy"
                                },
                                {
                                    "first_name": "Ellie",
                                    "(No column name)": "26266",
                                    "popularity_type": "Trendy"
                                },
                                {
                                    "first_name": "Emily",
                                    "(No column name)": "750420",
                                    "popularity_type": "Semi-trendy"
                                },
                                {
                                    "first_name": "Emma",
                                    "(No column name)": "448087",
                                    "popularity_type": "Semi-trendy"
                                },
                                {
                                    "first_name": "Eric",
                                    "(No column name)": "797880",
                                    "popularity_type": "Semi-classic"
                                },
                                {
                                    "first_name": "Erica",
                                    "(No column name)": "156158",
                                    "popularity_type": "Trendy"
                                },
                                {
                                    "first_name": "Erin",
                                    "(No column name)": "239718",
                                    "popularity_type": "Semi-trendy"
                                },
                                {
                                    "first_name": "Ernest",
                                    "(No column name)": "43959",
                                    "popularity_type": "Trendy"
                                },
                                {
                                    "first_name": "Esther",
                                    "(No column name)": "28040",
                                    "popularity_type": "Trendy"
                                },
                                {
                                    "first_name": "Ethan",
                                    "(No column name)": "408918",
                                    "popularity_type": "Semi-trendy"
                                },
                                {
                                    "first_name": "Ethel",
                                    "(No column name)": "53359",
                                    "popularity_type": "Trendy"
                                },
                                {
                                    "first_name": "Eugene",
                                    "(No column name)": "239512",
                                    "popularity_type": "Semi-trendy"
                                },
                                {
                                    "first_name": "Evan",
                                    "(No column name)": "203165",
                                    "popularity_type": "Semi-trendy"
                                },
                                {
                                    "first_name": "Evelyn",
                                    "(No column name)": "310824",
                                    "popularity_type": "Semi-trendy"
                                },
                                {
                                    "first_name": "Ezekiel",
                                    "(No column name)": "5013",
                                    "popularity_type": "Trendy"
                                },
                                {
                                    "first_name": "Ezra",
                                    "(No column name)": "24632",
                                    "popularity_type": "Trendy"
                                },
                                {
                                    "first_name": "Faith",
                                    "(No column name)": "27204",
                                    "popularity_type": "Trendy"
                                },
                                {
                                    "first_name": "Florence",
                                    "(No column name)": "99171",
                                    "popularity_type": "Trendy"
                                },
                                {
                                    "first_name": "Frances",
                                    "(No column name)": "348520",
                                    "popularity_type": "Semi-trendy"
                                },
                                {
                                    "first_name": "Francis",
                                    "(No column name)": "59097",
                                    "popularity_type": "Trendy"
                                },
                                {
                                    "first_name": "Frank",
                                    "(No column name)": "596887",
                                    "popularity_type": "Semi-classic"
                                },
                                {
                                    "first_name": "Franklin",
                                    "(No column name)": "5364",
                                    "popularity_type": "Trendy"
                                },
                                {
                                    "first_name": "Fred",
                                    "(No column name)": "170837",
                                    "popularity_type": "Semi-trendy"
                                },
                                {
                                    "first_name": "Gabriel",
                                    "(No column name)": "270207",
                                    "popularity_type": "Semi-trendy"
                                },
                                {
                                    "first_name": "Gabriella",
                                    "(No column name)": "51486",
                                    "popularity_type": "Trendy"
                                },
                                {
                                    "first_name": "Gabrielle",
                                    "(No column name)": "51144",
                                    "popularity_type": "Trendy"
                                },
                                {
                                    "first_name": "Gail",
                                    "(No column name)": "118334",
                                    "popularity_type": "Trendy"
                                },
                                {
                                    "first_name": "Garrett",
                                    "(No column name)": "15976",
                                    "popularity_type": "Trendy"
                                },
                                {
                                    "first_name": "Gary",
                                    "(No column name)": "817491",
                                    "popularity_type": "Semi-trendy"
                                },
                                {
                                    "first_name": "Gavin",
                                    "(No column name)": "130460",
                                    "popularity_type": "Trendy"
                                },
                                {
                                    "first_name": "George",
                                    "(No column name)": "1032513",
                                    "popularity_type": "Semi-classic"
                                },
                                {
                                    "first_name": "Gerald",
                                    "(No column name)": "327545",
                                    "popularity_type": "Semi-trendy"
                                },
                                {
                                    "first_name": "Geraldine",
                                    "(No column name)": "52850",
                                    "popularity_type": "Trendy"
                                },
                                {
                                    "first_name": "Gertrude",
                                    "(No column name)": "16229",
                                    "popularity_type": "Trendy"
                                },
                                {
                                    "first_name": "Gianna",
                                    "(No column name)": "7826",
                                    "popularity_type": "Trendy"
                                },
                                {
                                    "first_name": "Gina",
                                    "(No column name)": "46380",
                                    "popularity_type": "Trendy"
                                },
                                {
                                    "first_name": "Gladys",
                                    "(No column name)": "77627",
                                    "popularity_type": "Trendy"
                                },
                                {
                                    "first_name": "Glenn",
                                    "(No column name)": "94437",
                                    "popularity_type": "Trendy"
                                },
                                {
                                    "first_name": "Gloria",
                                    "(No column name)": "331698",
                                    "popularity_type": "Semi-trendy"
                                },
                                {
                                    "first_name": "Grace",
                                    "(No column name)": "254573",
                                    "popularity_type": "Semi-trendy"
                                },
                                {
                                    "first_name": "Grayson",
                                    "(No column name)": "61689",
                                    "popularity_type": "Trendy"
                                },
                                {
                                    "first_name": "Greg",
                                    "(No column name)": "15849",
                                    "popularity_type": "Trendy"
                                },
                                {
                                    "first_name": "Gregory",
                                    "(No column name)": "644286",
                                    "popularity_type": "Semi-trendy"
                                },
                                {
                                    "first_name": "Hailey",
                                    "(No column name)": "111571",
                                    "popularity_type": "Trendy"
                                },
                                {
                                    "first_name": "Haley",
                                    "(No column name)": "106119",
                                    "popularity_type": "Trendy"
                                },
                                {
                                    "first_name": "Hannah",
                                    "(No column name)": "392284",
                                    "popularity_type": "Semi-trendy"
                                },
                                {
                                    "first_name": "Harold",
                                    "(No column name)": "368463",
                                    "popularity_type": "Semi-trendy"
                                },
                                {
                                    "first_name": "Harper",
                                    "(No column name)": "86554",
                                    "popularity_type": "Trendy"
                                },
                                {
                                    "first_name": "Harry",
                                    "(No column name)": "182312",
                                    "popularity_type": "Semi-trendy"
                                },
                                {
                                    "first_name": "Hayden",
                                    "(No column name)": "34724",
                                    "popularity_type": "Trendy"
                                },
                                {
                                    "first_name": "Hazel",
                                    "(No column name)": "66103",
                                    "popularity_type": "Trendy"
                                },
                                {
                                    "first_name": "Heather",
                                    "(No column name)": "468165",
                                    "popularity_type": "Semi-trendy"
                                },
                                {
                                    "first_name": "Helen",
                                    "(No column name)": "569998",
                                    "popularity_type": "Semi-trendy"
                                },
                                {
                                    "first_name": "Henry",
                                    "(No column name)": "429656",
                                    "popularity_type": "Semi-classic"
                                },
                                {
                                    "first_name": "Herbert",
                                    "(No column name)": "52341",
                                    "popularity_type": "Trendy"
                                },
                                {
                                    "first_name": "Holly",
                                    "(No column name)": "54634",
                                    "popularity_type": "Trendy"
                                },
                                {
                                    "first_name": "Howard",
                                    "(No column name)": "157144",
                                    "popularity_type": "Semi-trendy"
                                },
                                {
                                    "first_name": "Hudson",
                                    "(No column name)": "43048",
                                    "popularity_type": "Trendy"
                                },
                                {
                                    "first_name": "Hunter",
                                    "(No column name)": "220439",
                                    "popularity_type": "Semi-trendy"
                                },
                                {
                                    "first_name": "Ian",
                                    "(No column name)": "159100",
                                    "popularity_type": "Semi-trendy"
                                },
                                {
                                    "first_name": "Irene",
                                    "(No column name)": "110116",
                                    "popularity_type": "Trendy"
                                },
                                {
                                    "first_name": "Isaac",
                                    "(No column name)": "209563",
                                    "popularity_type": "Semi-trendy"
                                },
                                {
                                    "first_name": "Isabella",
                                    "(No column name)": "336924",
                                    "popularity_type": "Semi-trendy"
                                },
                                {
                                    "first_name": "Isaiah",
                                    "(No column name)": "200116",
                                    "popularity_type": "Semi-trendy"
                                },
                                {
                                    "first_name": "Jace",
                                    "(No column name)": "23233",
                                    "popularity_type": "Trendy"
                                },
                                {
                                    "first_name": "Jack",
                                    "(No column name)": "552411",
                                    "popularity_type": "Semi-classic"
                                },
                                {
                                    "first_name": "Jackson",
                                    "(No column name)": "219588",
                                    "popularity_type": "Semi-trendy"
                                },
                                {
                                    "first_name": "Jacob",
                                    "(No column name)": "888209",
                                    "popularity_type": "Semi-trendy"
                                },
                                {
                                    "first_name": "Jacqueline",
                                    "(No column name)": "223092",
                                    "popularity_type": "Semi-trendy"
                                },
                                {
                                    "first_name": "Jaden",
                                    "(No column name)": "21777",
                                    "popularity_type": "Trendy"
                                },
                                {
                                    "first_name": "Jaime",
                                    "(No column name)": "13744",
                                    "popularity_type": "Trendy"
                                },
                                {
                                    "first_name": "James",
                                    "(No column name)": "4748138",
                                    "popularity_type": "Classic"
                                },
                                {
                                    "first_name": "Jamie",
                                    "(No column name)": "157417",
                                    "popularity_type": "Trendy"
                                },
                                {
                                    "first_name": "Jane",
                                    "(No column name)": "195627",
                                    "popularity_type": "Semi-trendy"
                                },
                                {
                                    "first_name": "Janet",
                                    "(No column name)": "444842",
                                    "popularity_type": "Semi-trendy"
                                },
                                {
                                    "first_name": "Janice",
                                    "(No column name)": "328335",
                                    "popularity_type": "Semi-trendy"
                                },
                                {
                                    "first_name": "Jared",
                                    "(No column name)": "137848",
                                    "popularity_type": "Semi-trendy"
                                },
                                {
                                    "first_name": "Jasmine",
                                    "(No column name)": "192464",
                                    "popularity_type": "Semi-trendy"
                                },
                                {
                                    "first_name": "Jason",
                                    "(No column name)": "998257",
                                    "popularity_type": "Semi-trendy"
                                },
                                {
                                    "first_name": "Jaxon",
                                    "(No column name)": "66542",
                                    "popularity_type": "Trendy"
                                },
                                {
                                    "first_name": "Jaxson",
                                    "(No column name)": "5061",
                                    "popularity_type": "Trendy"
                                },
                                {
                                    "first_name": "Jay",
                                    "(No column name)": "20682",
                                    "popularity_type": "Trendy"
                                },
                                {
                                    "first_name": "Jayden",
                                    "(No column name)": "213005",
                                    "popularity_type": "Trendy"
                                },
                                {
                                    "first_name": "Jean",
                                    "(No column name)": "363812",
                                    "popularity_type": "Semi-trendy"
                                },
                                {
                                    "first_name": "Jeff",
                                    "(No column name)": "61390",
                                    "popularity_type": "Trendy"
                                },
                                {
                                    "first_name": "Jeffery",
                                    "(No column name)": "131241",
                                    "popularity_type": "Trendy"
                                },
                                {
                                    "first_name": "Jeffrey",
                                    "(No column name)": "907378",
                                    "popularity_type": "Semi-trendy"
                                },
                                {
                                    "first_name": "Jenna",
                                    "(No column name)": "60548",
                                    "popularity_type": "Trendy"
                                },
                                {
                                    "first_name": "Jennifer",
                                    "(No column name)": "1404743",
                                    "popularity_type": "Semi-trendy"
                                },
                                {
                                    "first_name": "Jeremiah",
                                    "(No column name)": "104792",
                                    "popularity_type": "Trendy"
                                },
                                {
                                    "first_name": "Jeremy",
                                    "(No column name)": "366271",
                                    "popularity_type": "Semi-trendy"
                                },
                                {
                                    "first_name": "Jerry",
                                    "(No column name)": "494469",
                                    "popularity_type": "Semi-trendy"
                                },
                                {
                                    "first_name": "Jesse",
                                    "(No column name)": "183645",
                                    "popularity_type": "Semi-trendy"
                                },
                                {
                                    "first_name": "Jessica",
                                    "(No column name)": "994210",
                                    "popularity_type": "Semi-trendy"
                                },
                                {
                                    "first_name": "Jesus",
                                    "(No column name)": "82359",
                                    "popularity_type": "Trendy"
                                },
                                {
                                    "first_name": "Jill",
                                    "(No column name)": "120405",
                                    "popularity_type": "Trendy"
                                },
                                {
                                    "first_name": "Jim",
                                    "(No column name)": "16588",
                                    "popularity_type": "Trendy"
                                },
                                {
                                    "first_name": "Jimmy",
                                    "(No column name)": "135558",
                                    "popularity_type": "Semi-trendy"
                                },
                                {
                                    "first_name": "Jo",
                                    "(No column name)": "84238",
                                    "popularity_type": "Trendy"
                                },
                                {
                                    "first_name": "Joan",
                                    "(No column name)": "413286",
                                    "popularity_type": "Semi-trendy"
                                },
                                {
                                    "first_name": "Joanne",
                                    "(No column name)": "77323",
                                    "popularity_type": "Trendy"
                                },
                                {
                                    "first_name": "Jocelyn",
                                    "(No column name)": "5292",
                                    "popularity_type": "Trendy"
                                },
                                {
                                    "first_name": "Joe",
                                    "(No column name)": "302127",
                                    "popularity_type": "Semi-trendy"
                                },
                                {
                                    "first_name": "John",
                                    "(No column name)": "4510721",
                                    "popularity_type": "Classic"
                                },
                                {
                                    "first_name": "Johnny",
                                    "(No column name)": "138737",
                                    "popularity_type": "Semi-trendy"
                                },
                                {
                                    "first_name": "Jonathan",
                                    "(No column name)": "772846",
                                    "popularity_type": "Semi-classic"
                                },
                                {
                                    "first_name": "Jordan",
                                    "(No column name)": "426912",
                                    "popularity_type": "Semi-trendy"
                                },
                                {
                                    "first_name": "Jose",
                                    "(No column name)": "434805",
                                    "popularity_type": "Semi-trendy"
                                },
                                {
                                    "first_name": "Joseph",
                                    "(No column name)": "2361382",
                                    "popularity_type": "Classic"
                                },
                                {
                                    "first_name": "Josephine",
                                    "(No column name)": "69222",
                                    "popularity_type": "Trendy"
                                },
                                {
                                    "first_name": "Joshua",
                                    "(No column name)": "1204236",
                                    "popularity_type": "Semi-trendy"
                                },
                                {
                                    "first_name": "Josiah",
                                    "(No column name)": "74001",
                                    "popularity_type": "Trendy"
                                },
                                {
                                    "first_name": "Joyce",
                                    "(No column name)": "436267",
                                    "popularity_type": "Semi-trendy"
                                },
                                {
                                    "first_name": "Juan",
                                    "(No column name)": "189094",
                                    "popularity_type": "Semi-trendy"
                                },
                                {
                                    "first_name": "Juanita",
                                    "(No column name)": "20758",
                                    "popularity_type": "Trendy"
                                },
                                {
                                    "first_name": "Judith",
                                    "(No column name)": "377449",
                                    "popularity_type": "Semi-trendy"
                                },
                                {
                                    "first_name": "Judy",
                                    "(No column name)": "329356",
                                    "popularity_type": "Semi-trendy"
                                },
                                {
                                    "first_name": "Julia",
                                    "(No column name)": "112397",
                                    "popularity_type": "Trendy"
                                },
                                {
                                    "first_name": "Julian",
                                    "(No column name)": "137742",
                                    "popularity_type": "Trendy"
                                },
                                {
                                    "first_name": "Julie",
                                    "(No column name)": "411989",
                                    "popularity_type": "Semi-trendy"
                                },
                                {
                                    "first_name": "June",
                                    "(No column name)": "61668",
                                    "popularity_type": "Trendy"
                                },
                                {
                                    "first_name": "Justin",
                                    "(No column name)": "729931",
                                    "popularity_type": "Semi-trendy"
                                },
                                {
                                    "first_name": "Kaitlyn",
                                    "(No column name)": "121541",
                                    "popularity_type": "Trendy"
                                },
                                {
                                    "first_name": "Karen",
                                    "(No column name)": "892033",
                                    "popularity_type": "Semi-trendy"
                                },
                                {
                                    "first_name": "Katelyn",
                                    "(No column name)": "65023",
                                    "popularity_type": "Trendy"
                                },
                                {
                                    "first_name": "Katherine",
                                    "(No column name)": "413349",
                                    "popularity_type": "Semi-classic"
                                },
                                {
                                    "first_name": "Kathleen",
                                    "(No column name)": "516918",
                                    "popularity_type": "Semi-trendy"
                                },
                                {
                                    "first_name": "Kathryn",
                                    "(No column name)": "204173",
                                    "popularity_type": "Semi-trendy"
                                },
                                {
                                    "first_name": "Kathy",
                                    "(No column name)": "269922",
                                    "popularity_type": "Semi-trendy"
                                },
                                {
                                    "first_name": "Katie",
                                    "(No column name)": "97378",
                                    "popularity_type": "Trendy"
                                },
                                {
                                    "first_name": "Kayla",
                                    "(No column name)": "294192",
                                    "popularity_type": "Semi-trendy"
                                },
                                {
                                    "first_name": "Kaylee",
                                    "(No column name)": "65209",
                                    "popularity_type": "Trendy"
                                },
                                {
                                    "first_name": "Keith",
                                    "(No column name)": "313978",
                                    "popularity_type": "Semi-trendy"
                                },
                                {
                                    "first_name": "Kelly",
                                    "(No column name)": "417352",
                                    "popularity_type": "Semi-trendy"
                                },
                                {
                                    "first_name": "Kelsey",
                                    "(No column name)": "95434",
                                    "popularity_type": "Trendy"
                                },
                                {
                                    "first_name": "Kenneth",
                                    "(No column name)": "1153846",
                                    "popularity_type": "Semi-classic"
                                },
                                {
                                    "first_name": "Kevin",
                                    "(No column name)": "1140092",
                                    "popularity_type": "Semi-classic"
                                },
                                {
                                    "first_name": "Khloe",
                                    "(No column name)": "5406",
                                    "popularity_type": "Trendy"
                                },
                                {
                                    "first_name": "Kim",
                                    "(No column name)": "143648",
                                    "popularity_type": "Trendy"
                                },
                                {
                                    "first_name": "Kimberly",
                                    "(No column name)": "767543",
                                    "popularity_type": "Semi-trendy"
                                },
                                {
                                    "first_name": "Kristen",
                                    "(No column name)": "127223",
                                    "popularity_type": "Trendy"
                                },
                                {
                                    "first_name": "Kristin",
                                    "(No column name)": "81495",
                                    "popularity_type": "Trendy"
                                },
                                {
                                    "first_name": "Kristina",
                                    "(No column name)": "10585",
                                    "popularity_type": "Trendy"
                                },
                                {
                                    "first_name": "Kristy",
                                    "(No column name)": "5331",
                                    "popularity_type": "Trendy"
                                },
                                {
                                    "first_name": "Krystal",
                                    "(No column name)": "5935",
                                    "popularity_type": "Trendy"
                                },
                                {
                                    "first_name": "Kyle",
                                    "(No column name)": "394877",
                                    "popularity_type": "Semi-trendy"
                                },
                                {
                                    "first_name": "Kylie",
                                    "(No column name)": "16309",
                                    "popularity_type": "Trendy"
                                },
                                {
                                    "first_name": "Landon",
                                    "(No column name)": "129558",
                                    "popularity_type": "Trendy"
                                },
                                {
                                    "first_name": "Larry",
                                    "(No column name)": "700521",
                                    "popularity_type": "Semi-trendy"
                                },
                                {
                                    "first_name": "Latoya",
                                    "(No column name)": "5051",
                                    "popularity_type": "Trendy"
                                },
                                {
                                    "first_name": "Laura",
                                    "(No column name)": "587161",
                                    "popularity_type": "Semi-trendy"
                                },
                                {
                                    "first_name": "Lauren",
                                    "(No column name)": "401513",
                                    "popularity_type": "Semi-trendy"
                                },
                                {
                                    "first_name": "Laurie",
                                    "(No column name)": "87568",
                                    "popularity_type": "Trendy"
                                },
                                {
                                    "first_name": "Lawrence",
                                    "(No column name)": "307238",
                                    "popularity_type": "Semi-trendy"
                                },
                                {
                                    "first_name": "Layla",
                                    "(No column name)": "74474",
                                    "popularity_type": "Trendy"
                                },
                                {
                                    "first_name": "Leah",
                                    "(No column name)": "63600",
                                    "popularity_type": "Trendy"
                                },
                                {
                                    "first_name": "Leo",
                                    "(No column name)": "32643",
                                    "popularity_type": "Trendy"
                                },
                                {
                                    "first_name": "Leonard",
                                    "(No column name)": "54127",
                                    "popularity_type": "Trendy"
                                },
                                {
                                    "first_name": "Leslie",
                                    "(No column name)": "73075",
                                    "popularity_type": "Trendy"
                                },
                                {
                                    "first_name": "Levi",
                                    "(No column name)": "91814",
                                    "popularity_type": "Trendy"
                                },
                                {
                                    "first_name": "Liam",
                                    "(No column name)": "213059",
                                    "popularity_type": "Trendy"
                                },
                                {
                                    "first_name": "Lillian",
                                    "(No column name)": "185120",
                                    "popularity_type": "Semi-trendy"
                                },
                                {
                                    "first_name": "Lily",
                                    "(No column name)": "115354",
                                    "popularity_type": "Trendy"
                                },
                                {
                                    "first_name": "Lincoln",
                                    "(No column name)": "43147",
                                    "popularity_type": "Trendy"
                                },
                                {
                                    "first_name": "Linda",
                                    "(No column name)": "1361021",
                                    "popularity_type": "Semi-trendy"
                                },
                                {
                                    "first_name": "Lindsay",
                                    "(No column name)": "69178",
                                    "popularity_type": "Trendy"
                                },
                                {
                                    "first_name": "Lindsey",
                                    "(No column name)": "88669",
                                    "popularity_type": "Trendy"
                                },
                                {
                                    "first_name": "Lisa",
                                    "(No column name)": "920119",
                                    "popularity_type": "Semi-trendy"
                                },
                                {
                                    "first_name": "Logan",
                                    "(No column name)": "316927",
                                    "popularity_type": "Semi-trendy"
                                },
                                {
                                    "first_name": "Lois",
                                    "(No column name)": "220781",
                                    "popularity_type": "Semi-trendy"
                                },
                                {
                                    "first_name": "Lori",
                                    "(No column name)": "289439",
                                    "popularity_type": "Semi-trendy"
                                },
                                {
                                    "first_name": "Lorraine",
                                    "(No column name)": "27338",
                                    "popularity_type": "Trendy"
                                },
                                {
                                    "first_name": "Louis",
                                    "(No column name)": "115731",
                                    "popularity_type": "Trendy"
                                },
                                {
                                    "first_name": "Louise",
                                    "(No column name)": "106456",
                                    "popularity_type": "Trendy"
                                },
                                {
                                    "first_name": "Lucas",
                                    "(No column name)": "191033",
                                    "popularity_type": "Trendy"
                                },
                                {
                                    "first_name": "Lucille",
                                    "(No column name)": "59379",
                                    "popularity_type": "Trendy"
                                },
                                {
                                    "first_name": "Luis",
                                    "(No column name)": "144176",
                                    "popularity_type": "Semi-trendy"
                                },
                                {
                                    "first_name": "Luke",
                                    "(No column name)": "207795",
                                    "popularity_type": "Semi-trendy"
                                },
                                {
                                    "first_name": "Luna",
                                    "(No column name)": "27822",
                                    "popularity_type": "Trendy"
                                },
                                {
                                    "first_name": "Lynn",
                                    "(No column name)": "97059",
                                    "popularity_type": "Trendy"
                                },
                                {
                                    "first_name": "Mackenzie",
                                    "(No column name)": "46972",
                                    "popularity_type": "Trendy"
                                },
                                {
                                    "first_name": "Madeline",
                                    "(No column name)": "26888",
                                    "popularity_type": "Trendy"
                                },
                                {
                                    "first_name": "Madison",
                                    "(No column name)": "378127",
                                    "popularity_type": "Semi-trendy"
                                },
                                {
                                    "first_name": "Makayla",
                                    "(No column name)": "55446",
                                    "popularity_type": "Trendy"
                                },
                                {
                                    "first_name": "Marc",
                                    "(No column name)": "5013",
                                    "popularity_type": "Trendy"
                                },
                                {
                                    "first_name": "Marcia",
                                    "(No column name)": "15571",
                                    "popularity_type": "Trendy"
                                },
                                {
                                    "first_name": "Marcus",
                                    "(No column name)": "53788",
                                    "popularity_type": "Trendy"
                                },
                                {
                                    "first_name": "Margaret",
                                    "(No column name)": "806838",
                                    "popularity_type": "Semi-trendy"
                                },
                                {
                                    "first_name": "Maria",
                                    "(No column name)": "417502",
                                    "popularity_type": "Semi-classic"
                                },
                                {
                                    "first_name": "Mariah",
                                    "(No column name)": "15723",
                                    "popularity_type": "Trendy"
                                },
                                {
                                    "first_name": "Marie",
                                    "(No column name)": "249462",
                                    "popularity_type": "Semi-trendy"
                                },
                                {
                                    "first_name": "Marilyn",
                                    "(No column name)": "286722",
                                    "popularity_type": "Semi-trendy"
                                },
                                {
                                    "first_name": "Marion",
                                    "(No column name)": "50545",
                                    "popularity_type": "Trendy"
                                },
                                {
                                    "first_name": "Marissa",
                                    "(No column name)": "29003",
                                    "popularity_type": "Trendy"
                                },
                                {
                                    "first_name": "Marjorie",
                                    "(No column name)": "114386",
                                    "popularity_type": "Trendy"
                                },
                                {
                                    "first_name": "Mark",
                                    "(No column name)": "1265910",
                                    "popularity_type": "Semi-classic"
                                },
                                {
                                    "first_name": "Marlene",
                                    "(No column name)": "10368",
                                    "popularity_type": "Trendy"
                                },
                                {
                                    "first_name": "Marsha",
                                    "(No column name)": "21303",
                                    "popularity_type": "Trendy"
                                },
                                {
                                    "first_name": "Martha",
                                    "(No column name)": "359762",
                                    "popularity_type": "Semi-trendy"
                                },
                                {
                                    "first_name": "Martin",
                                    "(No column name)": "56023",
                                    "popularity_type": "Trendy"
                                },
                                {
                                    "first_name": "Mary",
                                    "(No column name)": "3215850",
                                    "popularity_type": "Classic"
                                },
                                {
                                    "first_name": "Mason",
                                    "(No column name)": "263609",
                                    "popularity_type": "Semi-trendy"
                                },
                                {
                                    "first_name": "Mateo",
                                    "(No column name)": "45440",
                                    "popularity_type": "Trendy"
                                },
                                {
                                    "first_name": "Matthew",
                                    "(No column name)": "1567204",
                                    "popularity_type": "Semi-classic"
                                },
                                {
                                    "first_name": "Maverick",
                                    "(No column name)": "16863",
                                    "popularity_type": "Trendy"
                                },
                                {
                                    "first_name": "Maya",
                                    "(No column name)": "5047",
                                    "popularity_type": "Trendy"
                                },
                                {
                                    "first_name": "Megan",
                                    "(No column name)": "384668",
                                    "popularity_type": "Semi-trendy"
                                },
                                {
                                    "first_name": "Melanie",
                                    "(No column name)": "43995",
                                    "popularity_type": "Trendy"
                                },
                                {
                                    "first_name": "Melissa",
                                    "(No column name)": "666250",
                                    "popularity_type": "Semi-trendy"
                                },
                                {
                                    "first_name": "Mia",
                                    "(No column name)": "216167",
                                    "popularity_type": "Trendy"
                                },
                                {
                                    "first_name": "Michael",
                                    "(No column name)": "4278824",
                                    "popularity_type": "Classic"
                                },
                                {
                                    "first_name": "Michele",
                                    "(No column name)": "139690",
                                    "popularity_type": "Trendy"
                                },
                                {
                                    "first_name": "Michelle",
                                    "(No column name)": "736097",
                                    "popularity_type": "Semi-trendy"
                                },
                                {
                                    "first_name": "Mike",
                                    "(No column name)": "97902",
                                    "popularity_type": "Trendy"
                                },
                                {
                                    "first_name": "Mila",
                                    "(No column name)": "28047",
                                    "popularity_type": "Trendy"
                                },
                                {
                                    "first_name": "Mildred",
                                    "(No column name)": "195666",
                                    "popularity_type": "Trendy"
                                },
                                {
                                    "first_name": "Miles",
                                    "(No column name)": "5249",
                                    "popularity_type": "Trendy"
                                },
                                {
                                    "first_name": "Miranda",
                                    "(No column name)": "11434",
                                    "popularity_type": "Trendy"
                                },
                                {
                                    "first_name": "Misty",
                                    "(No column name)": "34935",
                                    "popularity_type": "Trendy"
                                },
                                {
                                    "first_name": "Mitchell",
                                    "(No column name)": "5370",
                                    "popularity_type": "Trendy"
                                },
                                {
                                    "first_name": "Monica",
                                    "(No column name)": "111143",
                                    "popularity_type": "Trendy"
                                },
                                {
                                    "first_name": "Morgan",
                                    "(No column name)": "157320",
                                    "popularity_type": "Trendy"
                                },
                                {
                                    "first_name": "Nancy",
                                    "(No column name)": "854761",
                                    "popularity_type": "Semi-trendy"
                                },
                                {
                                    "first_name": "Natalie",
                                    "(No column name)": "266634",
                                    "popularity_type": "Semi-trendy"
                                },
                                {
                                    "first_name": "Nathan",
                                    "(No column name)": "493746",
                                    "popularity_type": "Semi-trendy"
                                },
                                {
                                    "first_name": "Nathaniel",
                                    "(No column name)": "103671",
                                    "popularity_type": "Trendy"
                                },
                                {
                                    "first_name": "Nevaeh",
                                    "(No column name)": "42926",
                                    "popularity_type": "Trendy"
                                },
                                {
                                    "first_name": "Nicholas",
                                    "(No column name)": "777269",
                                    "popularity_type": "Semi-trendy"
                                },
                                {
                                    "first_name": "Nicole",
                                    "(No column name)": "533803",
                                    "popularity_type": "Semi-trendy"
                                },
                                {
                                    "first_name": "Noah",
                                    "(No column name)": "389490",
                                    "popularity_type": "Semi-trendy"
                                },
                                {
                                    "first_name": "Nolan",
                                    "(No column name)": "38147",
                                    "popularity_type": "Trendy"
                                },
                                {
                                    "first_name": "Nora",
                                    "(No column name)": "34285",
                                    "popularity_type": "Trendy"
                                },
                                {
                                    "first_name": "Norma",
                                    "(No column name)": "144522",
                                    "popularity_type": "Semi-trendy"
                                },
                                {
                                    "first_name": "Norman",
                                    "(No column name)": "47596",
                                    "popularity_type": "Trendy"
                                },
                                {
                                    "first_name": "Oliver",
                                    "(No column name)": "107511",
                                    "popularity_type": "Trendy"
                                },
                                {
                                    "first_name": "Olivia",
                                    "(No column name)": "429118",
                                    "popularity_type": "Semi-trendy"
                                },
                                {
                                    "first_name": "Owen",
                                    "(No column name)": "151569",
                                    "popularity_type": "Trendy"
                                },
                                {
                                    "first_name": "Paige",
                                    "(No column name)": "48894",
                                    "popularity_type": "Trendy"
                                },
                                {
                                    "first_name": "Paisley",
                                    "(No column name)": "5085",
                                    "popularity_type": "Trendy"
                                },
                                {
                                    "first_name": "Pamela",
                                    "(No column name)": "524481",
                                    "popularity_type": "Semi-trendy"
                                },
                                {
                                    "first_name": "Parker",
                                    "(No column name)": "27453",
                                    "popularity_type": "Trendy"
                                },
                                {
                                    "first_name": "Patricia",
                                    "(No column name)": "1479802",
                                    "popularity_type": "Semi-classic"
                                },
                                {
                                    "first_name": "Patrick",
                                    "(No column name)": "559661",
                                    "popularity_type": "Semi-classic"
                                },
                                {
                                    "first_name": "Paul",
                                    "(No column name)": "1218996",
                                    "popularity_type": "Semi-classic"
                                },
                                {
                                    "first_name": "Paula",
                                    "(No column name)": "196090",
                                    "popularity_type": "Semi-trendy"
                                },
                                {
                                    "first_name": "Pauline",
                                    "(No column name)": "64073",
                                    "popularity_type": "Trendy"
                                },
                                {
                                    "first_name": "Peggy",
                                    "(No column name)": "220586",
                                    "popularity_type": "Semi-trendy"
                                },
                                {
                                    "first_name": "Penelope",
                                    "(No column name)": "43409",
                                    "popularity_type": "Trendy"
                                },
                                {
                                    "first_name": "Penny",
                                    "(No column name)": "10128",
                                    "popularity_type": "Trendy"
                                },
                                {
                                    "first_name": "Peter",
                                    "(No column name)": "388795",
                                    "popularity_type": "Semi-classic"
                                },
                                {
                                    "first_name": "Peyton",
                                    "(No column name)": "5315",
                                    "popularity_type": "Trendy"
                                },
                                {
                                    "first_name": "Philip",
                                    "(No column name)": "100415",
                                    "popularity_type": "Trendy"
                                },
                                {
                                    "first_name": "Phillip",
                                    "(No column name)": "86811",
                                    "popularity_type": "Trendy"
                                },
                                {
                                    "first_name": "Phyllis",
                                    "(No column name)": "251517",
                                    "popularity_type": "Semi-trendy"
                                },
                                {
                                    "first_name": "Rachel",
                                    "(No column name)": "434626",
                                    "popularity_type": "Semi-trendy"
                                },
                                {
                                    "first_name": "Ralph",
                                    "(No column name)": "273663",
                                    "popularity_type": "Semi-trendy"
                                },
                                {
                                    "first_name": "Randall",
                                    "(No column name)": "89055",
                                    "popularity_type": "Trendy"
                                },
                                {
                                    "first_name": "Randy",
                                    "(No column name)": "215094",
                                    "popularity_type": "Trendy"
                                },
                                {
                                    "first_name": "Raymond",
                                    "(No column name)": "541922",
                                    "popularity_type": "Semi-classic"
                                },
                                {
                                    "first_name": "Rebecca",
                                    "(No column name)": "638458",
                                    "popularity_type": "Semi-classic"
                                },
                                {
                                    "first_name": "Regina",
                                    "(No column name)": "10003",
                                    "popularity_type": "Trendy"
                                },
                                {
                                    "first_name": "Renee",
                                    "(No column name)": "61185",
                                    "popularity_type": "Trendy"
                                },
                                {
                                    "first_name": "Rhonda",
                                    "(No column name)": "157706",
                                    "popularity_type": "Trendy"
                                },
                                {
                                    "first_name": "Richard",
                                    "(No column name)": "2414838",
                                    "popularity_type": "Classic"
                                },
                                {
                                    "first_name": "Rick",
                                    "(No column name)": "5462",
                                    "popularity_type": "Trendy"
                                },
                                {
                                    "first_name": "Ricky",
                                    "(No column name)": "119547",
                                    "popularity_type": "Trendy"
                                },
                                {
                                    "first_name": "Riley",
                                    "(No column name)": "73607",
                                    "popularity_type": "Trendy"
                                },
                                {
                                    "first_name": "Rita",
                                    "(No column name)": "125877",
                                    "popularity_type": "Semi-trendy"
                                },
                                {
                                    "first_name": "Robert",
                                    "(No column name)": "4495199",
                                    "popularity_type": "Classic"
                                },
                                {
                                    "first_name": "Robin",
                                    "(No column name)": "210806",
                                    "popularity_type": "Trendy"
                                },
                                {
                                    "first_name": "Rodney",
                                    "(No column name)": "125500",
                                    "popularity_type": "Trendy"
                                },
                                {
                                    "first_name": "Roger",
                                    "(No column name)": "314531",
                                    "popularity_type": "Semi-trendy"
                                },
                                {
                                    "first_name": "Ronald",
                                    "(No column name)": "974343",
                                    "popularity_type": "Semi-classic"
                                },
                                {
                                    "first_name": "Ronnie",
                                    "(No column name)": "45564",
                                    "popularity_type": "Trendy"
                                },
                                {
                                    "first_name": "Rose",
                                    "(No column name)": "248527",
                                    "popularity_type": "Semi-trendy"
                                },
                                {
                                    "first_name": "Roy",
                                    "(No column name)": "227920",
                                    "popularity_type": "Semi-trendy"
                                },
                                {
                                    "first_name": "Ruby",
                                    "(No column name)": "93528",
                                    "popularity_type": "Trendy"
                                },
                                {
                                    "first_name": "Russell",
                                    "(No column name)": "128647",
                                    "popularity_type": "Semi-trendy"
                                },
                                {
                                    "first_name": "Ruth",
                                    "(No column name)": "475908",
                                    "popularity_type": "Semi-trendy"
                                },
                                {
                                    "first_name": "Ryan",
                                    "(No column name)": "926995",
                                    "popularity_type": "Semi-trendy"
                                },
                                {
                                    "first_name": "Sabrina",
                                    "(No column name)": "11589",
                                    "popularity_type": "Trendy"
                                },
                                {
                                    "first_name": "Sally",
                                    "(No column name)": "30713",
                                    "popularity_type": "Trendy"
                                },
                                {
                                    "first_name": "Samantha",
                                    "(No column name)": "514826",
                                    "popularity_type": "Semi-trendy"
                                },
                                {
                                    "first_name": "Samuel",
                                    "(No column name)": "539556",
                                    "popularity_type": "Semi-classic"
                                },
                                {
                                    "first_name": "Sandra",
                                    "(No column name)": "783878",
                                    "popularity_type": "Semi-trendy"
                                },
                                {
                                    "first_name": "Santiago",
                                    "(No column name)": "5036",
                                    "popularity_type": "Trendy"
                                },
                                {
                                    "first_name": "Sara",
                                    "(No column name)": "226696",
                                    "popularity_type": "Semi-trendy"
                                },
                                {
                                    "first_name": "Sarah",
                                    "(No column name)": "777519",
                                    "popularity_type": "Semi-trendy"
                                },
                                {
                                    "first_name": "Savannah",
                                    "(No column name)": "134405",
                                    "popularity_type": "Semi-trendy"
                                },
                                {
                                    "first_name": "Scarlett",
                                    "(No column name)": "54329",
                                    "popularity_type": "Trendy"
                                },
                                {
                                    "first_name": "Scott",
                                    "(No column name)": "704468",
                                    "popularity_type": "Semi-trendy"
                                },
                                {
                                    "first_name": "Sean",
                                    "(No column name)": "372082",
                                    "popularity_type": "Semi-trendy"
                                },
                                {
                                    "first_name": "Sebastian",
                                    "(No column name)": "130244",
                                    "popularity_type": "Trendy"
                                },
                                {
                                    "first_name": "Seth",
                                    "(No column name)": "35423",
                                    "popularity_type": "Trendy"
                                },
                                {
                                    "first_name": "Shane",
                                    "(No column name)": "52869",
                                    "popularity_type": "Trendy"
                                },
                                {
                                    "first_name": "Shannon",
                                    "(No column name)": "231132",
                                    "popularity_type": "Semi-trendy"
                                },
                                {
                                    "first_name": "Sharon",
                                    "(No column name)": "647989",
                                    "popularity_type": "Semi-trendy"
                                },
                                {
                                    "first_name": "Shaun",
                                    "(No column name)": "6107",
                                    "popularity_type": "Trendy"
                                },
                                {
                                    "first_name": "Shawn",
                                    "(No column name)": "215326",
                                    "popularity_type": "Semi-trendy"
                                },
                                {
                                    "first_name": "Sheila",
                                    "(No column name)": "154361",
                                    "popularity_type": "Semi-trendy"
                                },
                                {
                                    "first_name": "Shelby",
                                    "(No column name)": "68474",
                                    "popularity_type": "Trendy"
                                },
                                {
                                    "first_name": "Sherri",
                                    "(No column name)": "10819",
                                    "popularity_type": "Trendy"
                                },
                                {
                                    "first_name": "Sherry",
                                    "(No column name)": "173913",
                                    "popularity_type": "Semi-trendy"
                                },
                                {
                                    "first_name": "Shirley",
                                    "(No column name)": "615887",
                                    "popularity_type": "Semi-trendy"
                                },
                                {
                                    "first_name": "Sierra",
                                    "(No column name)": "38980",
                                    "popularity_type": "Trendy"
                                },
                                {
                                    "first_name": "Skylar",
                                    "(No column name)": "10408",
                                    "popularity_type": "Trendy"
                                },
                                {
                                    "first_name": "Sofia",
                                    "(No column name)": "117208",
                                    "popularity_type": "Trendy"
                                },
                                {
                                    "first_name": "Sophia",
                                    "(No column name)": "318523",
                                    "popularity_type": "Semi-trendy"
                                },
                                {
                                    "first_name": "Stacey",
                                    "(No column name)": "67483",
                                    "popularity_type": "Trendy"
                                },
                                {
                                    "first_name": "Stacy",
                                    "(No column name)": "86835",
                                    "popularity_type": "Trendy"
                                },
                                {
                                    "first_name": "Stanley",
                                    "(No column name)": "95152",
                                    "popularity_type": "Trendy"
                                },
                                {
                                    "first_name": "Stella",
                                    "(No column name)": "10217",
                                    "popularity_type": "Trendy"
                                },
                                {
                                    "first_name": "Stephanie",
                                    "(No column name)": "651976",
                                    "popularity_type": "Semi-trendy"
                                },
                                {
                                    "first_name": "Stephen",
                                    "(No column name)": "753958",
                                    "popularity_type": "Semi-classic"
                                },
                                {
                                    "first_name": "Steve",
                                    "(No column name)": "114750",
                                    "popularity_type": "Trendy"
                                },
                                {
                                    "first_name": "Steven",
                                    "(No column name)": "1216819",
                                    "popularity_type": "Semi-classic"
                                },
                                {
                                    "first_name": "Sue",
                                    "(No column name)": "10450",
                                    "popularity_type": "Trendy"
                                },
                                {
                                    "first_name": "Susan",
                                    "(No column name)": "1025728",
                                    "popularity_type": "Semi-trendy"
                                },
                                {
                                    "first_name": "Suzanne",
                                    "(No column name)": "109387",
                                    "popularity_type": "Trendy"
                                },
                                {
                                    "first_name": "Sydney",
                                    "(No column name)": "117279",
                                    "popularity_type": "Trendy"
                                },
                                {
                                    "first_name": "Tammy",
                                    "(No column name)": "296905",
                                    "popularity_type": "Trendy"
                                },
                                {
                                    "first_name": "Tanya",
                                    "(No column name)": "22407",
                                    "popularity_type": "Trendy"
                                },
                                {
                                    "first_name": "Tara",
                                    "(No column name)": "107987",
                                    "popularity_type": "Trendy"
                                },
                                {
                                    "first_name": "Taylor",
                                    "(No column name)": "323699",
                                    "popularity_type": "Semi-trendy"
                                },
                                {
                                    "first_name": "Teresa",
                                    "(No column name)": "298059",
                                    "popularity_type": "Semi-trendy"
                                },
                                {
                                    "first_name": "Terri",
                                    "(No column name)": "80961",
                                    "popularity_type": "Trendy"
                                },
                                {
                                    "first_name": "Terry",
                                    "(No column name)": "346213",
                                    "popularity_type": "Semi-trendy"
                                },
                                {
                                    "first_name": "Thelma",
                                    "(No column name)": "74017",
                                    "popularity_type": "Trendy"
                                },
                                {
                                    "first_name": "Theodore",
                                    "(No column name)": "29464",
                                    "popularity_type": "Trendy"
                                },
                                {
                                    "first_name": "Theresa",
                                    "(No column name)": "225262",
                                    "popularity_type": "Semi-trendy"
                                },
                                {
                                    "first_name": "Thomas",
                                    "(No column name)": "2166802",
                                    "popularity_type": "Classic"
                                },
                                {
                                    "first_name": "Tiffany",
                                    "(No column name)": "283969",
                                    "popularity_type": "Semi-trendy"
                                },
                                {
                                    "first_name": "Tim",
                                    "(No column name)": "36165",
                                    "popularity_type": "Trendy"
                                },
                                {
                                    "first_name": "Timothy",
                                    "(No column name)": "1001771",
                                    "popularity_type": "Semi-classic"
                                },
                                {
                                    "first_name": "Tina",
                                    "(No column name)": "227252",
                                    "popularity_type": "Semi-trendy"
                                },
                                {
                                    "first_name": "Todd",
                                    "(No column name)": "207137",
                                    "popularity_type": "Trendy"
                                },
                                {
                                    "first_name": "Tom",
                                    "(No column name)": "5061",
                                    "popularity_type": "Trendy"
                                },
                                {
                                    "first_name": "Tony",
                                    "(No column name)": "96417",
                                    "popularity_type": "Trendy"
                                },
                                {
                                    "first_name": "Tonya",
                                    "(No column name)": "58234",
                                    "popularity_type": "Trendy"
                                },
                                {
                                    "first_name": "Tracey",
                                    "(No column name)": "16979",
                                    "popularity_type": "Trendy"
                                },
                                {
                                    "first_name": "Tracy",
                                    "(No column name)": "199320",
                                    "popularity_type": "Trendy"
                                },
                                {
                                    "first_name": "Travis",
                                    "(No column name)": "218731",
                                    "popularity_type": "Semi-trendy"
                                },
                                {
                                    "first_name": "Trevor",
                                    "(No column name)": "76138",
                                    "popularity_type": "Trendy"
                                },
                                {
                                    "first_name": "Trinity",
                                    "(No column name)": "16217",
                                    "popularity_type": "Trendy"
                                },
                                {
                                    "first_name": "Tristan",
                                    "(No column name)": "27212",
                                    "popularity_type": "Trendy"
                                },
                                {
                                    "first_name": "Troy",
                                    "(No column name)": "82294",
                                    "popularity_type": "Trendy"
                                },
                                {
                                    "first_name": "Tyler",
                                    "(No column name)": "548624",
                                    "popularity_type": "Semi-trendy"
                                },
                                {
                                    "first_name": "Valerie",
                                    "(No column name)": "70039",
                                    "popularity_type": "Trendy"
                                },
                                {
                                    "first_name": "Vanessa",
                                    "(No column name)": "119596",
                                    "popularity_type": "Trendy"
                                },
                                {
                                    "first_name": "Vicki",
                                    "(No column name)": "94504",
                                    "popularity_type": "Trendy"
                                },
                                {
                                    "first_name": "Vickie",
                                    "(No column name)": "49252",
                                    "popularity_type": "Trendy"
                                },
                                {
                                    "first_name": "Victoria",
                                    "(No column name)": "347794",
                                    "popularity_type": "Semi-trendy"
                                },
                                {
                                    "first_name": "Vincent",
                                    "(No column name)": "23419",
                                    "popularity_type": "Trendy"
                                },
                                {
                                    "first_name": "Violet",
                                    "(No column name)": "10471",
                                    "popularity_type": "Trendy"
                                },
                                {
                                    "first_name": "Virginia",
                                    "(No column name)": "441418",
                                    "popularity_type": "Semi-trendy"
                                },
                                {
                                    "first_name": "Walter",
                                    "(No column name)": "378194",
                                    "popularity_type": "Semi-trendy"
                                },
                                {
                                    "first_name": "Wanda",
                                    "(No column name)": "125458",
                                    "popularity_type": "Trendy"
                                },
                                {
                                    "first_name": "Warren",
                                    "(No column name)": "13290",
                                    "popularity_type": "Trendy"
                                },
                                {
                                    "first_name": "Wayne",
                                    "(No column name)": "211347",
                                    "popularity_type": "Semi-trendy"
                                },
                                {
                                    "first_name": "Wendy",
                                    "(No column name)": "159446",
                                    "popularity_type": "Trendy"
                                },
                                {
                                    "first_name": "Whitney",
                                    "(No column name)": "43759",
                                    "popularity_type": "Trendy"
                                },
                                {
                                    "first_name": "William",
                                    "(No column name)": "3614424",
                                    "popularity_type": "Classic"
                                },
                                {
                                    "first_name": "Willie",
                                    "(No column name)": "274564",
                                    "popularity_type": "Semi-trendy"
                                },
                                {
                                    "first_name": "Wyatt",
                                    "(No column name)": "128168",
                                    "popularity_type": "Trendy"
                                },
                                {
                                    "first_name": "Xavier",
                                    "(No column name)": "51892",
                                    "popularity_type": "Trendy"
                                },
                                {
                                    "first_name": "Zachary",
                                    "(No column name)": "483955",
                                    "popularity_type": "Semi-trendy"
                                },
                                {
                                    "first_name": "Zoe",
                                    "(No column name)": "78773",
                                    "popularity_type": "Trendy"
                                },
                                {
                                    "first_name": "Zoey",
                                    "(No column name)": "70140",
                                    "popularity_type": "Trendy"
                                }
                            ]
                        },
                        "text/html": [
                            "<table>",
                            "<tr><th>first_name</th><th>(No column name)</th><th>popularity_type</th></tr>",
                            "<tr><td>Aaliyah</td><td>15870</td><td>Trendy</td></tr>",
                            "<tr><td>Aaron</td><td>530592</td><td>Semi-classic</td></tr>",
                            "<tr><td>Abigail</td><td>338485</td><td>Semi-trendy</td></tr>",
                            "<tr><td>Adam</td><td>497293</td><td>Semi-trendy</td></tr>",
                            "<tr><td>Addison</td><td>107433</td><td>Trendy</td></tr>",
                            "<tr><td>Adrian</td><td>147741</td><td>Semi-trendy</td></tr>",
                            "<tr><td>Aidan</td><td>68566</td><td>Trendy</td></tr>",
                            "<tr><td>Aiden</td><td>216194</td><td>Trendy</td></tr>",
                            "<tr><td>Alan</td><td>162041</td><td>Semi-trendy</td></tr>",
                            "<tr><td>Albert</td><td>260945</td><td>Semi-trendy</td></tr>",
                            "<tr><td>Alex</td><td>158677</td><td>Semi-trendy</td></tr>",
                            "<tr><td>Alexa</td><td>33522</td><td>Trendy</td></tr>",
                            "<tr><td>Alexander</td><td>579854</td><td>Semi-trendy</td></tr>",
                            "<tr><td>Alexandra</td><td>167122</td><td>Semi-trendy</td></tr>",
                            "<tr><td>Alexandria</td><td>5026</td><td>Trendy</td></tr>",
                            "<tr><td>Alexis</td><td>282149</td><td>Semi-trendy</td></tr>",
                            "<tr><td>Alfred</td><td>16260</td><td>Trendy</td></tr>",
                            "<tr><td>Alice</td><td>296559</td><td>Semi-trendy</td></tr>",
                            "<tr><td>Alicia</td><td>84579</td><td>Trendy</td></tr>",
                            "<tr><td>Allen</td><td>10256</td><td>Trendy</td></tr>",
                            "<tr><td>Allison</td><td>214995</td><td>Semi-trendy</td></tr>",
                            "<tr><td>Alyssa</td><td>269134</td><td>Semi-trendy</td></tr>",
                            "<tr><td>Amanda</td><td>699911</td><td>Semi-trendy</td></tr>",
                            "<tr><td>Amber</td><td>313418</td><td>Semi-trendy</td></tr>",
                            "<tr><td>Amelia</td><td>106381</td><td>Trendy</td></tr>",
                            "<tr><td>Amy</td><td>569542</td><td>Semi-trendy</td></tr>",
                            "<tr><td>Andrea</td><td>321655</td><td>Semi-trendy</td></tr>",
                            "<tr><td>Andrew</td><td>1157548</td><td>Semi-classic</td></tr>",
                            "<tr><td>Angel</td><td>157667</td><td>Trendy</td></tr>",
                            "<tr><td>Angela</td><td>541553</td><td>Semi-trendy</td></tr>",
                            "<tr><td>Angelina</td><td>11337</td><td>Trendy</td></tr>",
                            "<tr><td>Anita</td><td>44692</td><td>Trendy</td></tr>",
                            "<tr><td>Ann</td><td>336091</td><td>Semi-trendy</td></tr>",
                            "<tr><td>Anna</td><td>445496</td><td>Semi-classic</td></tr>",
                            "<tr><td>Anne</td><td>70228</td><td>Trendy</td></tr>",
                            "<tr><td>Annette</td><td>49954</td><td>Trendy</td></tr>",
                            "<tr><td>Annie</td><td>95837</td><td>Trendy</td></tr>",
                            "<tr><td>Anthony</td><td>1344352</td><td>Classic</td></tr>",
                            "<tr><td>Antonio</td><td>10097</td><td>Trendy</td></tr>",
                            "<tr><td>April</td><td>138714</td><td>Trendy</td></tr>",
                            "<tr><td>Aria</td><td>52145</td><td>Trendy</td></tr>",
                            "<tr><td>Ariana</td><td>5497</td><td>Trendy</td></tr>",
                            "<tr><td>Arianna</td><td>5270</td><td>Trendy</td></tr>",
                            "<tr><td>Ariel</td><td>5410</td><td>Trendy</td></tr>",
                            "<tr><td>Arthur</td><td>309705</td><td>Semi-trendy</td></tr>",
                            "<tr><td>Asher</td><td>38156</td><td>Trendy</td></tr>",
                            "<tr><td>Ashley</td><td>798738</td><td>Semi-trendy</td></tr>",
                            "<tr><td>Ashton</td><td>5436</td><td>Trendy</td></tr>",
                            "<tr><td>Aubrey</td><td>72220</td><td>Trendy</td></tr>",
                            "<tr><td>Audrey</td><td>48341</td><td>Trendy</td></tr>",
                            "<tr><td>Aurora</td><td>5184</td><td>Trendy</td></tr>",
                            "<tr><td>Austin</td><td>365295</td><td>Semi-trendy</td></tr>",
                            "<tr><td>Ava</td><td>265126</td><td>Trendy</td></tr>",
                            "<tr><td>Avery</td><td>112293</td><td>Trendy</td></tr>",
                            "<tr><td>Ayden</td><td>34244</td><td>Trendy</td></tr>",
                            "<tr><td>Bailey</td><td>10219</td><td>Trendy</td></tr>",
                            "<tr><td>Barbara</td><td>1343901</td><td>Semi-classic</td></tr>",
                            "<tr><td>Barry</td><td>85434</td><td>Trendy</td></tr>",
                            "<tr><td>Beatrice</td><td>27983</td><td>Trendy</td></tr>",
                            "<tr><td>Bella</td><td>5127</td><td>Trendy</td></tr>",
                            "<tr><td>Benjamin</td><td>627696</td><td>Semi-trendy</td></tr>",
                            "<tr><td>Bentley</td><td>16844</td><td>Trendy</td></tr>",
                            "<tr><td>Bernice</td><td>46347</td><td>Trendy</td></tr>",
                            "<tr><td>Beth</td><td>55228</td><td>Trendy</td></tr>",
                            "<tr><td>Betty</td><td>893396</td><td>Semi-trendy</td></tr>",
                            "<tr><td>Beverly</td><td>310683</td><td>Semi-trendy</td></tr>",
                            "<tr><td>Billy</td><td>270759</td><td>Semi-trendy</td></tr>",
                            "<tr><td>Blake</td><td>48795</td><td>Trendy</td></tr>",
                            "<tr><td>Bobby</td><td>203289</td><td>Semi-trendy</td></tr>",
                            "<tr><td>Bonnie</td><td>193352</td><td>Semi-trendy</td></tr>",
                            "<tr><td>Bradley</td><td>147275</td><td>Semi-trendy</td></tr>",
                            "<tr><td>Brandi</td><td>16199</td><td>Trendy</td></tr>",
                            "<tr><td>Brandon</td><td>729832</td><td>Semi-trendy</td></tr>",
                            "<tr><td>Brandy</td><td>48762</td><td>Trendy</td></tr>",
                            "<tr><td>Brayden</td><td>93754</td><td>Trendy</td></tr>",
                            "<tr><td>Brenda</td><td>513283</td><td>Semi-trendy</td></tr>",
                            "<tr><td>Brian</td><td>1107302</td><td>Semi-classic</td></tr>",
                            "<tr><td>Briana</td><td>5001</td><td>Trendy</td></tr>",
                            "<tr><td>Brianna</td><td>210328</td><td>Semi-trendy</td></tr>",
                            "<tr><td>Brittany</td><td>326255</td><td>Trendy</td></tr>",
                            "<tr><td>Brittney</td><td>37878</td><td>Trendy</td></tr>",
                            "<tr><td>Brody</td><td>21815</td><td>Trendy</td></tr>",
                            "<tr><td>Brooke</td><td>110847</td><td>Trendy</td></tr>",
                            "<tr><td>Brooklyn</td><td>62260</td><td>Trendy</td></tr>",
                            "<tr><td>Bruce</td><td>266549</td><td>Semi-trendy</td></tr>",
                            "<tr><td>Bryan</td><td>314250</td><td>Semi-trendy</td></tr>",
                            "<tr><td>Caden</td><td>5052</td><td>Trendy</td></tr>",
                            "<tr><td>Caitlin</td><td>38501</td><td>Trendy</td></tr>",
                            "<tr><td>Caleb</td><td>259439</td><td>Semi-trendy</td></tr>",
                            "<tr><td>Cameron</td><td>253711</td><td>Semi-trendy</td></tr>",
                            "<tr><td>Camila</td><td>51882</td><td>Trendy</td></tr>",
                            "<tr><td>Carl</td><td>334800</td><td>Semi-trendy</td></tr>",
                            "<tr><td>Carla</td><td>22276</td><td>Trendy</td></tr>",
                            "<tr><td>Carlos</td><td>118325</td><td>Trendy</td></tr>",
                            "<tr><td>Carol</td><td>740607</td><td>Semi-trendy</td></tr>",
                            "<tr><td>Carole</td><td>21186</td><td>Trendy</td></tr>",
                            "<tr><td>Caroline</td><td>5021</td><td>Trendy</td></tr>",
                            "<tr><td>Carolyn</td><td>438382</td><td>Semi-trendy</td></tr>",
                            "<tr><td>Carrie</td><td>77899</td><td>Trendy</td></tr>",
                            "<tr><td>Carson</td><td>25598</td><td>Trendy</td></tr>",
                            "<tr><td>Carter</td><td>141274</td><td>Trendy</td></tr>",
                            "<tr><td>Cassandra</td><td>42677</td><td>Trendy</td></tr>",
                            "<tr><td>Catherine</td><td>345852</td><td>Semi-trendy</td></tr>",
                            "<tr><td>Cathy</td><td>119020</td><td>Trendy</td></tr>",
                            "<tr><td>Chad</td><td>177923</td><td>Trendy</td></tr>",
                            "<tr><td>Charles</td><td>2112352</td><td>Classic</td></tr>",
                            "<tr><td>Charlotte</td><td>141540</td><td>Trendy</td></tr>",
                            "<tr><td>Chase</td><td>97684</td><td>Trendy</td></tr>",
                            "<tr><td>Chelsea</td><td>100857</td><td>Trendy</td></tr>",
                            "<tr><td>Cheryl</td><td>392691</td><td>Semi-trendy</td></tr>",
                            "<tr><td>Chloe</td><td>187720</td><td>Semi-trendy</td></tr>",
                            "<tr><td>Chris</td><td>48878</td><td>Trendy</td></tr>",
                            "<tr><td>Christian</td><td>357457</td><td>Semi-trendy</td></tr>",
                            "<tr><td>Christina</td><td>366859</td><td>Semi-trendy</td></tr>",
                            "<tr><td>Christine</td><td>465653</td><td>Semi-trendy</td></tr>",
                            "<tr><td>Christopher</td><td>2012792</td><td>Semi-classic</td></tr>",
                            "<tr><td>Christy</td><td>10235</td><td>Trendy</td></tr>",
                            "<tr><td>Cindy</td><td>161070</td><td>Trendy</td></tr>",
                            "<tr><td>Claire</td><td>10225</td><td>Trendy</td></tr>",
                            "<tr><td>Clara</td><td>21336</td><td>Trendy</td></tr>",
                            "<tr><td>Clarence</td><td>77134</td><td>Trendy</td></tr>",
                            "<tr><td>Cody</td><td>225952</td><td>Semi-trendy</td></tr>",
                            "<tr><td>Cole</td><td>72461</td><td>Trendy</td></tr>",
                            "<tr><td>Colin</td><td>5122</td><td>Trendy</td></tr>",
                            "<tr><td>Colton</td><td>58377</td><td>Trendy</td></tr>",
                            "<tr><td>Connie</td><td>179476</td><td>Semi-trendy</td></tr>",
                            "<tr><td>Connor</td><td>203106</td><td>Semi-trendy</td></tr>",
                            "<tr><td>Cooper</td><td>31011</td><td>Trendy</td></tr>",
                            "<tr><td>Corey</td><td>70531</td><td>Trendy</td></tr>",
                            "<tr><td>Cory</td><td>29454</td><td>Trendy</td></tr>",
                            "<tr><td>Courtney</td><td>202829</td><td>Semi-trendy</td></tr>",
                            "<tr><td>Craig</td><td>190323</td><td>Semi-trendy</td></tr>",
                            "<tr><td>Crystal</td><td>239999</td><td>Semi-trendy</td></tr>",
                            "<tr><td>Curtis</td><td>48098</td><td>Trendy</td></tr>",
                            "<tr><td>Cynthia</td><td>577859</td><td>Semi-trendy</td></tr>",
                            "<tr><td>Dakota</td><td>34334</td><td>Trendy</td></tr>",
                            "<tr><td>Dale</td><td>130919</td><td>Trendy</td></tr>",
                            "<tr><td>Dana</td><td>51558</td><td>Trendy</td></tr>",
                            "<tr><td>Daniel</td><td>1824274</td><td>Classic</td></tr>",
                            "<tr><td>Danielle</td><td>299683</td><td>Semi-trendy</td></tr>",
                            "<tr><td>Danny</td><td>161078</td><td>Trendy</td></tr>",
                            "<tr><td>Darlene</td><td>89561</td><td>Trendy</td></tr>",
                            "<tr><td>Darren</td><td>5935</td><td>Trendy</td></tr>",
                            "<tr><td>Darryl</td><td>10142</td><td>Trendy</td></tr>",
                            "<tr><td>David</td><td>3571498</td><td>Classic</td></tr>",
                            "<tr><td>Dawn</td><td>225877</td><td>Semi-trendy</td></tr>",
                            "<tr><td>Debbie</td><td>138846</td><td>Trendy</td></tr>",
                            "<tr><td>Deborah</td><td>675049</td><td>Semi-trendy</td></tr>",
                            "<tr><td>Debra</td><td>508230</td><td>Semi-trendy</td></tr>",
                            "<tr><td>Denise</td><td>285039</td><td>Semi-trendy</td></tr>",
                            "<tr><td>Dennis</td><td>492221</td><td>Semi-trendy</td></tr>",
                            "<tr><td>Derek</td><td>105026</td><td>Trendy</td></tr>",
                            "<tr><td>Destiny</td><td>100465</td><td>Trendy</td></tr>",
                            "<tr><td>Devin</td><td>70280</td><td>Trendy</td></tr>",
                            "<tr><td>Diana</td><td>172195</td><td>Semi-trendy</td></tr>",
                            "<tr><td>Diane</td><td>453135</td><td>Semi-trendy</td></tr>",
                            "<tr><td>Diego</td><td>46535</td><td>Trendy</td></tr>",
                            "<tr><td>Dillon</td><td>5062</td><td>Trendy</td></tr>",
                            "<tr><td>Dolores</td><td>101453</td><td>Trendy</td></tr>",
                            "<tr><td>Dominic</td><td>67420</td><td>Trendy</td></tr>",
                            "<tr><td>Donald</td><td>1280236</td><td>Semi-classic</td></tr>",
                            "<tr><td>Donna</td><td>762594</td><td>Semi-trendy</td></tr>",
                            "<tr><td>Doris</td><td>336062</td><td>Semi-trendy</td></tr>",
                            "<tr><td>Dorothy</td><td>791084</td><td>Semi-trendy</td></tr>",
                            "<tr><td>Douglas</td><td>426439</td><td>Semi-trendy</td></tr>",
                            "<tr><td>Dustin</td><td>138651</td><td>Trendy</td></tr>",
                            "<tr><td>Dylan</td><td>360776</td><td>Semi-trendy</td></tr>",
                            "<tr><td>Earl</td><td>74214</td><td>Trendy</td></tr>",
                            "<tr><td>Easton</td><td>21820</td><td>Trendy</td></tr>",
                            "<tr><td>Edith</td><td>53687</td><td>Trendy</td></tr>",
                            "<tr><td>Edna</td><td>63698</td><td>Trendy</td></tr>",
                            "<tr><td>Edward</td><td>1013143</td><td>Semi-classic</td></tr>",
                            "<tr><td>Elaine</td><td>100359</td><td>Trendy</td></tr>",
                            "<tr><td>Eleanor</td><td>119863</td><td>Trendy</td></tr>",
                            "<tr><td>Eli</td><td>74938</td><td>Trendy</td></tr>",
                            "<tr><td>Elias</td><td>16965</td><td>Trendy</td></tr>",
                            "<tr><td>Elijah</td><td>277457</td><td>Semi-trendy</td></tr>",
                            "<tr><td>Elizabeth</td><td>1436286</td><td>Classic</td></tr>",
                            "<tr><td>Ella</td><td>154079</td><td>Trendy</td></tr>",
                            "<tr><td>Ellen</td><td>82403</td><td>Trendy</td></tr>",
                            "<tr><td>Ellie</td><td>26266</td><td>Trendy</td></tr>",
                            "<tr><td>Emily</td><td>750420</td><td>Semi-trendy</td></tr>",
                            "<tr><td>Emma</td><td>448087</td><td>Semi-trendy</td></tr>",
                            "<tr><td>Eric</td><td>797880</td><td>Semi-classic</td></tr>",
                            "<tr><td>Erica</td><td>156158</td><td>Trendy</td></tr>",
                            "<tr><td>Erin</td><td>239718</td><td>Semi-trendy</td></tr>",
                            "<tr><td>Ernest</td><td>43959</td><td>Trendy</td></tr>",
                            "<tr><td>Esther</td><td>28040</td><td>Trendy</td></tr>",
                            "<tr><td>Ethan</td><td>408918</td><td>Semi-trendy</td></tr>",
                            "<tr><td>Ethel</td><td>53359</td><td>Trendy</td></tr>",
                            "<tr><td>Eugene</td><td>239512</td><td>Semi-trendy</td></tr>",
                            "<tr><td>Evan</td><td>203165</td><td>Semi-trendy</td></tr>",
                            "<tr><td>Evelyn</td><td>310824</td><td>Semi-trendy</td></tr>",
                            "<tr><td>Ezekiel</td><td>5013</td><td>Trendy</td></tr>",
                            "<tr><td>Ezra</td><td>24632</td><td>Trendy</td></tr>",
                            "<tr><td>Faith</td><td>27204</td><td>Trendy</td></tr>",
                            "<tr><td>Florence</td><td>99171</td><td>Trendy</td></tr>",
                            "<tr><td>Frances</td><td>348520</td><td>Semi-trendy</td></tr>",
                            "<tr><td>Francis</td><td>59097</td><td>Trendy</td></tr>",
                            "<tr><td>Frank</td><td>596887</td><td>Semi-classic</td></tr>",
                            "<tr><td>Franklin</td><td>5364</td><td>Trendy</td></tr>",
                            "<tr><td>Fred</td><td>170837</td><td>Semi-trendy</td></tr>",
                            "<tr><td>Gabriel</td><td>270207</td><td>Semi-trendy</td></tr>",
                            "<tr><td>Gabriella</td><td>51486</td><td>Trendy</td></tr>",
                            "<tr><td>Gabrielle</td><td>51144</td><td>Trendy</td></tr>",
                            "<tr><td>Gail</td><td>118334</td><td>Trendy</td></tr>",
                            "<tr><td>Garrett</td><td>15976</td><td>Trendy</td></tr>",
                            "<tr><td>Gary</td><td>817491</td><td>Semi-trendy</td></tr>",
                            "<tr><td>Gavin</td><td>130460</td><td>Trendy</td></tr>",
                            "<tr><td>George</td><td>1032513</td><td>Semi-classic</td></tr>",
                            "<tr><td>Gerald</td><td>327545</td><td>Semi-trendy</td></tr>",
                            "<tr><td>Geraldine</td><td>52850</td><td>Trendy</td></tr>",
                            "<tr><td>Gertrude</td><td>16229</td><td>Trendy</td></tr>",
                            "<tr><td>Gianna</td><td>7826</td><td>Trendy</td></tr>",
                            "<tr><td>Gina</td><td>46380</td><td>Trendy</td></tr>",
                            "<tr><td>Gladys</td><td>77627</td><td>Trendy</td></tr>",
                            "<tr><td>Glenn</td><td>94437</td><td>Trendy</td></tr>",
                            "<tr><td>Gloria</td><td>331698</td><td>Semi-trendy</td></tr>",
                            "<tr><td>Grace</td><td>254573</td><td>Semi-trendy</td></tr>",
                            "<tr><td>Grayson</td><td>61689</td><td>Trendy</td></tr>",
                            "<tr><td>Greg</td><td>15849</td><td>Trendy</td></tr>",
                            "<tr><td>Gregory</td><td>644286</td><td>Semi-trendy</td></tr>",
                            "<tr><td>Hailey</td><td>111571</td><td>Trendy</td></tr>",
                            "<tr><td>Haley</td><td>106119</td><td>Trendy</td></tr>",
                            "<tr><td>Hannah</td><td>392284</td><td>Semi-trendy</td></tr>",
                            "<tr><td>Harold</td><td>368463</td><td>Semi-trendy</td></tr>",
                            "<tr><td>Harper</td><td>86554</td><td>Trendy</td></tr>",
                            "<tr><td>Harry</td><td>182312</td><td>Semi-trendy</td></tr>",
                            "<tr><td>Hayden</td><td>34724</td><td>Trendy</td></tr>",
                            "<tr><td>Hazel</td><td>66103</td><td>Trendy</td></tr>",
                            "<tr><td>Heather</td><td>468165</td><td>Semi-trendy</td></tr>",
                            "<tr><td>Helen</td><td>569998</td><td>Semi-trendy</td></tr>",
                            "<tr><td>Henry</td><td>429656</td><td>Semi-classic</td></tr>",
                            "<tr><td>Herbert</td><td>52341</td><td>Trendy</td></tr>",
                            "<tr><td>Holly</td><td>54634</td><td>Trendy</td></tr>",
                            "<tr><td>Howard</td><td>157144</td><td>Semi-trendy</td></tr>",
                            "<tr><td>Hudson</td><td>43048</td><td>Trendy</td></tr>",
                            "<tr><td>Hunter</td><td>220439</td><td>Semi-trendy</td></tr>",
                            "<tr><td>Ian</td><td>159100</td><td>Semi-trendy</td></tr>",
                            "<tr><td>Irene</td><td>110116</td><td>Trendy</td></tr>",
                            "<tr><td>Isaac</td><td>209563</td><td>Semi-trendy</td></tr>",
                            "<tr><td>Isabella</td><td>336924</td><td>Semi-trendy</td></tr>",
                            "<tr><td>Isaiah</td><td>200116</td><td>Semi-trendy</td></tr>",
                            "<tr><td>Jace</td><td>23233</td><td>Trendy</td></tr>",
                            "<tr><td>Jack</td><td>552411</td><td>Semi-classic</td></tr>",
                            "<tr><td>Jackson</td><td>219588</td><td>Semi-trendy</td></tr>",
                            "<tr><td>Jacob</td><td>888209</td><td>Semi-trendy</td></tr>",
                            "<tr><td>Jacqueline</td><td>223092</td><td>Semi-trendy</td></tr>",
                            "<tr><td>Jaden</td><td>21777</td><td>Trendy</td></tr>",
                            "<tr><td>Jaime</td><td>13744</td><td>Trendy</td></tr>",
                            "<tr><td>James</td><td>4748138</td><td>Classic</td></tr>",
                            "<tr><td>Jamie</td><td>157417</td><td>Trendy</td></tr>",
                            "<tr><td>Jane</td><td>195627</td><td>Semi-trendy</td></tr>",
                            "<tr><td>Janet</td><td>444842</td><td>Semi-trendy</td></tr>",
                            "<tr><td>Janice</td><td>328335</td><td>Semi-trendy</td></tr>",
                            "<tr><td>Jared</td><td>137848</td><td>Semi-trendy</td></tr>",
                            "<tr><td>Jasmine</td><td>192464</td><td>Semi-trendy</td></tr>",
                            "<tr><td>Jason</td><td>998257</td><td>Semi-trendy</td></tr>",
                            "<tr><td>Jaxon</td><td>66542</td><td>Trendy</td></tr>",
                            "<tr><td>Jaxson</td><td>5061</td><td>Trendy</td></tr>",
                            "<tr><td>Jay</td><td>20682</td><td>Trendy</td></tr>",
                            "<tr><td>Jayden</td><td>213005</td><td>Trendy</td></tr>",
                            "<tr><td>Jean</td><td>363812</td><td>Semi-trendy</td></tr>",
                            "<tr><td>Jeff</td><td>61390</td><td>Trendy</td></tr>",
                            "<tr><td>Jeffery</td><td>131241</td><td>Trendy</td></tr>",
                            "<tr><td>Jeffrey</td><td>907378</td><td>Semi-trendy</td></tr>",
                            "<tr><td>Jenna</td><td>60548</td><td>Trendy</td></tr>",
                            "<tr><td>Jennifer</td><td>1404743</td><td>Semi-trendy</td></tr>",
                            "<tr><td>Jeremiah</td><td>104792</td><td>Trendy</td></tr>",
                            "<tr><td>Jeremy</td><td>366271</td><td>Semi-trendy</td></tr>",
                            "<tr><td>Jerry</td><td>494469</td><td>Semi-trendy</td></tr>",
                            "<tr><td>Jesse</td><td>183645</td><td>Semi-trendy</td></tr>",
                            "<tr><td>Jessica</td><td>994210</td><td>Semi-trendy</td></tr>",
                            "<tr><td>Jesus</td><td>82359</td><td>Trendy</td></tr>",
                            "<tr><td>Jill</td><td>120405</td><td>Trendy</td></tr>",
                            "<tr><td>Jim</td><td>16588</td><td>Trendy</td></tr>",
                            "<tr><td>Jimmy</td><td>135558</td><td>Semi-trendy</td></tr>",
                            "<tr><td>Jo</td><td>84238</td><td>Trendy</td></tr>",
                            "<tr><td>Joan</td><td>413286</td><td>Semi-trendy</td></tr>",
                            "<tr><td>Joanne</td><td>77323</td><td>Trendy</td></tr>",
                            "<tr><td>Jocelyn</td><td>5292</td><td>Trendy</td></tr>",
                            "<tr><td>Joe</td><td>302127</td><td>Semi-trendy</td></tr>",
                            "<tr><td>John</td><td>4510721</td><td>Classic</td></tr>",
                            "<tr><td>Johnny</td><td>138737</td><td>Semi-trendy</td></tr>",
                            "<tr><td>Jonathan</td><td>772846</td><td>Semi-classic</td></tr>",
                            "<tr><td>Jordan</td><td>426912</td><td>Semi-trendy</td></tr>",
                            "<tr><td>Jose</td><td>434805</td><td>Semi-trendy</td></tr>",
                            "<tr><td>Joseph</td><td>2361382</td><td>Classic</td></tr>",
                            "<tr><td>Josephine</td><td>69222</td><td>Trendy</td></tr>",
                            "<tr><td>Joshua</td><td>1204236</td><td>Semi-trendy</td></tr>",
                            "<tr><td>Josiah</td><td>74001</td><td>Trendy</td></tr>",
                            "<tr><td>Joyce</td><td>436267</td><td>Semi-trendy</td></tr>",
                            "<tr><td>Juan</td><td>189094</td><td>Semi-trendy</td></tr>",
                            "<tr><td>Juanita</td><td>20758</td><td>Trendy</td></tr>",
                            "<tr><td>Judith</td><td>377449</td><td>Semi-trendy</td></tr>",
                            "<tr><td>Judy</td><td>329356</td><td>Semi-trendy</td></tr>",
                            "<tr><td>Julia</td><td>112397</td><td>Trendy</td></tr>",
                            "<tr><td>Julian</td><td>137742</td><td>Trendy</td></tr>",
                            "<tr><td>Julie</td><td>411989</td><td>Semi-trendy</td></tr>",
                            "<tr><td>June</td><td>61668</td><td>Trendy</td></tr>",
                            "<tr><td>Justin</td><td>729931</td><td>Semi-trendy</td></tr>",
                            "<tr><td>Kaitlyn</td><td>121541</td><td>Trendy</td></tr>",
                            "<tr><td>Karen</td><td>892033</td><td>Semi-trendy</td></tr>",
                            "<tr><td>Katelyn</td><td>65023</td><td>Trendy</td></tr>",
                            "<tr><td>Katherine</td><td>413349</td><td>Semi-classic</td></tr>",
                            "<tr><td>Kathleen</td><td>516918</td><td>Semi-trendy</td></tr>",
                            "<tr><td>Kathryn</td><td>204173</td><td>Semi-trendy</td></tr>",
                            "<tr><td>Kathy</td><td>269922</td><td>Semi-trendy</td></tr>",
                            "<tr><td>Katie</td><td>97378</td><td>Trendy</td></tr>",
                            "<tr><td>Kayla</td><td>294192</td><td>Semi-trendy</td></tr>",
                            "<tr><td>Kaylee</td><td>65209</td><td>Trendy</td></tr>",
                            "<tr><td>Keith</td><td>313978</td><td>Semi-trendy</td></tr>",
                            "<tr><td>Kelly</td><td>417352</td><td>Semi-trendy</td></tr>",
                            "<tr><td>Kelsey</td><td>95434</td><td>Trendy</td></tr>",
                            "<tr><td>Kenneth</td><td>1153846</td><td>Semi-classic</td></tr>",
                            "<tr><td>Kevin</td><td>1140092</td><td>Semi-classic</td></tr>",
                            "<tr><td>Khloe</td><td>5406</td><td>Trendy</td></tr>",
                            "<tr><td>Kim</td><td>143648</td><td>Trendy</td></tr>",
                            "<tr><td>Kimberly</td><td>767543</td><td>Semi-trendy</td></tr>",
                            "<tr><td>Kristen</td><td>127223</td><td>Trendy</td></tr>",
                            "<tr><td>Kristin</td><td>81495</td><td>Trendy</td></tr>",
                            "<tr><td>Kristina</td><td>10585</td><td>Trendy</td></tr>",
                            "<tr><td>Kristy</td><td>5331</td><td>Trendy</td></tr>",
                            "<tr><td>Krystal</td><td>5935</td><td>Trendy</td></tr>",
                            "<tr><td>Kyle</td><td>394877</td><td>Semi-trendy</td></tr>",
                            "<tr><td>Kylie</td><td>16309</td><td>Trendy</td></tr>",
                            "<tr><td>Landon</td><td>129558</td><td>Trendy</td></tr>",
                            "<tr><td>Larry</td><td>700521</td><td>Semi-trendy</td></tr>",
                            "<tr><td>Latoya</td><td>5051</td><td>Trendy</td></tr>",
                            "<tr><td>Laura</td><td>587161</td><td>Semi-trendy</td></tr>",
                            "<tr><td>Lauren</td><td>401513</td><td>Semi-trendy</td></tr>",
                            "<tr><td>Laurie</td><td>87568</td><td>Trendy</td></tr>",
                            "<tr><td>Lawrence</td><td>307238</td><td>Semi-trendy</td></tr>",
                            "<tr><td>Layla</td><td>74474</td><td>Trendy</td></tr>",
                            "<tr><td>Leah</td><td>63600</td><td>Trendy</td></tr>",
                            "<tr><td>Leo</td><td>32643</td><td>Trendy</td></tr>",
                            "<tr><td>Leonard</td><td>54127</td><td>Trendy</td></tr>",
                            "<tr><td>Leslie</td><td>73075</td><td>Trendy</td></tr>",
                            "<tr><td>Levi</td><td>91814</td><td>Trendy</td></tr>",
                            "<tr><td>Liam</td><td>213059</td><td>Trendy</td></tr>",
                            "<tr><td>Lillian</td><td>185120</td><td>Semi-trendy</td></tr>",
                            "<tr><td>Lily</td><td>115354</td><td>Trendy</td></tr>",
                            "<tr><td>Lincoln</td><td>43147</td><td>Trendy</td></tr>",
                            "<tr><td>Linda</td><td>1361021</td><td>Semi-trendy</td></tr>",
                            "<tr><td>Lindsay</td><td>69178</td><td>Trendy</td></tr>",
                            "<tr><td>Lindsey</td><td>88669</td><td>Trendy</td></tr>",
                            "<tr><td>Lisa</td><td>920119</td><td>Semi-trendy</td></tr>",
                            "<tr><td>Logan</td><td>316927</td><td>Semi-trendy</td></tr>",
                            "<tr><td>Lois</td><td>220781</td><td>Semi-trendy</td></tr>",
                            "<tr><td>Lori</td><td>289439</td><td>Semi-trendy</td></tr>",
                            "<tr><td>Lorraine</td><td>27338</td><td>Trendy</td></tr>",
                            "<tr><td>Louis</td><td>115731</td><td>Trendy</td></tr>",
                            "<tr><td>Louise</td><td>106456</td><td>Trendy</td></tr>",
                            "<tr><td>Lucas</td><td>191033</td><td>Trendy</td></tr>",
                            "<tr><td>Lucille</td><td>59379</td><td>Trendy</td></tr>",
                            "<tr><td>Luis</td><td>144176</td><td>Semi-trendy</td></tr>",
                            "<tr><td>Luke</td><td>207795</td><td>Semi-trendy</td></tr>",
                            "<tr><td>Luna</td><td>27822</td><td>Trendy</td></tr>",
                            "<tr><td>Lynn</td><td>97059</td><td>Trendy</td></tr>",
                            "<tr><td>Mackenzie</td><td>46972</td><td>Trendy</td></tr>",
                            "<tr><td>Madeline</td><td>26888</td><td>Trendy</td></tr>",
                            "<tr><td>Madison</td><td>378127</td><td>Semi-trendy</td></tr>",
                            "<tr><td>Makayla</td><td>55446</td><td>Trendy</td></tr>",
                            "<tr><td>Marc</td><td>5013</td><td>Trendy</td></tr>",
                            "<tr><td>Marcia</td><td>15571</td><td>Trendy</td></tr>",
                            "<tr><td>Marcus</td><td>53788</td><td>Trendy</td></tr>",
                            "<tr><td>Margaret</td><td>806838</td><td>Semi-trendy</td></tr>",
                            "<tr><td>Maria</td><td>417502</td><td>Semi-classic</td></tr>",
                            "<tr><td>Mariah</td><td>15723</td><td>Trendy</td></tr>",
                            "<tr><td>Marie</td><td>249462</td><td>Semi-trendy</td></tr>",
                            "<tr><td>Marilyn</td><td>286722</td><td>Semi-trendy</td></tr>",
                            "<tr><td>Marion</td><td>50545</td><td>Trendy</td></tr>",
                            "<tr><td>Marissa</td><td>29003</td><td>Trendy</td></tr>",
                            "<tr><td>Marjorie</td><td>114386</td><td>Trendy</td></tr>",
                            "<tr><td>Mark</td><td>1265910</td><td>Semi-classic</td></tr>",
                            "<tr><td>Marlene</td><td>10368</td><td>Trendy</td></tr>",
                            "<tr><td>Marsha</td><td>21303</td><td>Trendy</td></tr>",
                            "<tr><td>Martha</td><td>359762</td><td>Semi-trendy</td></tr>",
                            "<tr><td>Martin</td><td>56023</td><td>Trendy</td></tr>",
                            "<tr><td>Mary</td><td>3215850</td><td>Classic</td></tr>",
                            "<tr><td>Mason</td><td>263609</td><td>Semi-trendy</td></tr>",
                            "<tr><td>Mateo</td><td>45440</td><td>Trendy</td></tr>",
                            "<tr><td>Matthew</td><td>1567204</td><td>Semi-classic</td></tr>",
                            "<tr><td>Maverick</td><td>16863</td><td>Trendy</td></tr>",
                            "<tr><td>Maya</td><td>5047</td><td>Trendy</td></tr>",
                            "<tr><td>Megan</td><td>384668</td><td>Semi-trendy</td></tr>",
                            "<tr><td>Melanie</td><td>43995</td><td>Trendy</td></tr>",
                            "<tr><td>Melissa</td><td>666250</td><td>Semi-trendy</td></tr>",
                            "<tr><td>Mia</td><td>216167</td><td>Trendy</td></tr>",
                            "<tr><td>Michael</td><td>4278824</td><td>Classic</td></tr>",
                            "<tr><td>Michele</td><td>139690</td><td>Trendy</td></tr>",
                            "<tr><td>Michelle</td><td>736097</td><td>Semi-trendy</td></tr>",
                            "<tr><td>Mike</td><td>97902</td><td>Trendy</td></tr>",
                            "<tr><td>Mila</td><td>28047</td><td>Trendy</td></tr>",
                            "<tr><td>Mildred</td><td>195666</td><td>Trendy</td></tr>",
                            "<tr><td>Miles</td><td>5249</td><td>Trendy</td></tr>",
                            "<tr><td>Miranda</td><td>11434</td><td>Trendy</td></tr>",
                            "<tr><td>Misty</td><td>34935</td><td>Trendy</td></tr>",
                            "<tr><td>Mitchell</td><td>5370</td><td>Trendy</td></tr>",
                            "<tr><td>Monica</td><td>111143</td><td>Trendy</td></tr>",
                            "<tr><td>Morgan</td><td>157320</td><td>Trendy</td></tr>",
                            "<tr><td>Nancy</td><td>854761</td><td>Semi-trendy</td></tr>",
                            "<tr><td>Natalie</td><td>266634</td><td>Semi-trendy</td></tr>",
                            "<tr><td>Nathan</td><td>493746</td><td>Semi-trendy</td></tr>",
                            "<tr><td>Nathaniel</td><td>103671</td><td>Trendy</td></tr>",
                            "<tr><td>Nevaeh</td><td>42926</td><td>Trendy</td></tr>",
                            "<tr><td>Nicholas</td><td>777269</td><td>Semi-trendy</td></tr>",
                            "<tr><td>Nicole</td><td>533803</td><td>Semi-trendy</td></tr>",
                            "<tr><td>Noah</td><td>389490</td><td>Semi-trendy</td></tr>",
                            "<tr><td>Nolan</td><td>38147</td><td>Trendy</td></tr>",
                            "<tr><td>Nora</td><td>34285</td><td>Trendy</td></tr>",
                            "<tr><td>Norma</td><td>144522</td><td>Semi-trendy</td></tr>",
                            "<tr><td>Norman</td><td>47596</td><td>Trendy</td></tr>",
                            "<tr><td>Oliver</td><td>107511</td><td>Trendy</td></tr>",
                            "<tr><td>Olivia</td><td>429118</td><td>Semi-trendy</td></tr>",
                            "<tr><td>Owen</td><td>151569</td><td>Trendy</td></tr>",
                            "<tr><td>Paige</td><td>48894</td><td>Trendy</td></tr>",
                            "<tr><td>Paisley</td><td>5085</td><td>Trendy</td></tr>",
                            "<tr><td>Pamela</td><td>524481</td><td>Semi-trendy</td></tr>",
                            "<tr><td>Parker</td><td>27453</td><td>Trendy</td></tr>",
                            "<tr><td>Patricia</td><td>1479802</td><td>Semi-classic</td></tr>",
                            "<tr><td>Patrick</td><td>559661</td><td>Semi-classic</td></tr>",
                            "<tr><td>Paul</td><td>1218996</td><td>Semi-classic</td></tr>",
                            "<tr><td>Paula</td><td>196090</td><td>Semi-trendy</td></tr>",
                            "<tr><td>Pauline</td><td>64073</td><td>Trendy</td></tr>",
                            "<tr><td>Peggy</td><td>220586</td><td>Semi-trendy</td></tr>",
                            "<tr><td>Penelope</td><td>43409</td><td>Trendy</td></tr>",
                            "<tr><td>Penny</td><td>10128</td><td>Trendy</td></tr>",
                            "<tr><td>Peter</td><td>388795</td><td>Semi-classic</td></tr>",
                            "<tr><td>Peyton</td><td>5315</td><td>Trendy</td></tr>",
                            "<tr><td>Philip</td><td>100415</td><td>Trendy</td></tr>",
                            "<tr><td>Phillip</td><td>86811</td><td>Trendy</td></tr>",
                            "<tr><td>Phyllis</td><td>251517</td><td>Semi-trendy</td></tr>",
                            "<tr><td>Rachel</td><td>434626</td><td>Semi-trendy</td></tr>",
                            "<tr><td>Ralph</td><td>273663</td><td>Semi-trendy</td></tr>",
                            "<tr><td>Randall</td><td>89055</td><td>Trendy</td></tr>",
                            "<tr><td>Randy</td><td>215094</td><td>Trendy</td></tr>",
                            "<tr><td>Raymond</td><td>541922</td><td>Semi-classic</td></tr>",
                            "<tr><td>Rebecca</td><td>638458</td><td>Semi-classic</td></tr>",
                            "<tr><td>Regina</td><td>10003</td><td>Trendy</td></tr>",
                            "<tr><td>Renee</td><td>61185</td><td>Trendy</td></tr>",
                            "<tr><td>Rhonda</td><td>157706</td><td>Trendy</td></tr>",
                            "<tr><td>Richard</td><td>2414838</td><td>Classic</td></tr>",
                            "<tr><td>Rick</td><td>5462</td><td>Trendy</td></tr>",
                            "<tr><td>Ricky</td><td>119547</td><td>Trendy</td></tr>",
                            "<tr><td>Riley</td><td>73607</td><td>Trendy</td></tr>",
                            "<tr><td>Rita</td><td>125877</td><td>Semi-trendy</td></tr>",
                            "<tr><td>Robert</td><td>4495199</td><td>Classic</td></tr>",
                            "<tr><td>Robin</td><td>210806</td><td>Trendy</td></tr>",
                            "<tr><td>Rodney</td><td>125500</td><td>Trendy</td></tr>",
                            "<tr><td>Roger</td><td>314531</td><td>Semi-trendy</td></tr>",
                            "<tr><td>Ronald</td><td>974343</td><td>Semi-classic</td></tr>",
                            "<tr><td>Ronnie</td><td>45564</td><td>Trendy</td></tr>",
                            "<tr><td>Rose</td><td>248527</td><td>Semi-trendy</td></tr>",
                            "<tr><td>Roy</td><td>227920</td><td>Semi-trendy</td></tr>",
                            "<tr><td>Ruby</td><td>93528</td><td>Trendy</td></tr>",
                            "<tr><td>Russell</td><td>128647</td><td>Semi-trendy</td></tr>",
                            "<tr><td>Ruth</td><td>475908</td><td>Semi-trendy</td></tr>",
                            "<tr><td>Ryan</td><td>926995</td><td>Semi-trendy</td></tr>",
                            "<tr><td>Sabrina</td><td>11589</td><td>Trendy</td></tr>",
                            "<tr><td>Sally</td><td>30713</td><td>Trendy</td></tr>",
                            "<tr><td>Samantha</td><td>514826</td><td>Semi-trendy</td></tr>",
                            "<tr><td>Samuel</td><td>539556</td><td>Semi-classic</td></tr>",
                            "<tr><td>Sandra</td><td>783878</td><td>Semi-trendy</td></tr>",
                            "<tr><td>Santiago</td><td>5036</td><td>Trendy</td></tr>",
                            "<tr><td>Sara</td><td>226696</td><td>Semi-trendy</td></tr>",
                            "<tr><td>Sarah</td><td>777519</td><td>Semi-trendy</td></tr>",
                            "<tr><td>Savannah</td><td>134405</td><td>Semi-trendy</td></tr>",
                            "<tr><td>Scarlett</td><td>54329</td><td>Trendy</td></tr>",
                            "<tr><td>Scott</td><td>704468</td><td>Semi-trendy</td></tr>",
                            "<tr><td>Sean</td><td>372082</td><td>Semi-trendy</td></tr>",
                            "<tr><td>Sebastian</td><td>130244</td><td>Trendy</td></tr>",
                            "<tr><td>Seth</td><td>35423</td><td>Trendy</td></tr>",
                            "<tr><td>Shane</td><td>52869</td><td>Trendy</td></tr>",
                            "<tr><td>Shannon</td><td>231132</td><td>Semi-trendy</td></tr>",
                            "<tr><td>Sharon</td><td>647989</td><td>Semi-trendy</td></tr>",
                            "<tr><td>Shaun</td><td>6107</td><td>Trendy</td></tr>",
                            "<tr><td>Shawn</td><td>215326</td><td>Semi-trendy</td></tr>",
                            "<tr><td>Sheila</td><td>154361</td><td>Semi-trendy</td></tr>",
                            "<tr><td>Shelby</td><td>68474</td><td>Trendy</td></tr>",
                            "<tr><td>Sherri</td><td>10819</td><td>Trendy</td></tr>",
                            "<tr><td>Sherry</td><td>173913</td><td>Semi-trendy</td></tr>",
                            "<tr><td>Shirley</td><td>615887</td><td>Semi-trendy</td></tr>",
                            "<tr><td>Sierra</td><td>38980</td><td>Trendy</td></tr>",
                            "<tr><td>Skylar</td><td>10408</td><td>Trendy</td></tr>",
                            "<tr><td>Sofia</td><td>117208</td><td>Trendy</td></tr>",
                            "<tr><td>Sophia</td><td>318523</td><td>Semi-trendy</td></tr>",
                            "<tr><td>Stacey</td><td>67483</td><td>Trendy</td></tr>",
                            "<tr><td>Stacy</td><td>86835</td><td>Trendy</td></tr>",
                            "<tr><td>Stanley</td><td>95152</td><td>Trendy</td></tr>",
                            "<tr><td>Stella</td><td>10217</td><td>Trendy</td></tr>",
                            "<tr><td>Stephanie</td><td>651976</td><td>Semi-trendy</td></tr>",
                            "<tr><td>Stephen</td><td>753958</td><td>Semi-classic</td></tr>",
                            "<tr><td>Steve</td><td>114750</td><td>Trendy</td></tr>",
                            "<tr><td>Steven</td><td>1216819</td><td>Semi-classic</td></tr>",
                            "<tr><td>Sue</td><td>10450</td><td>Trendy</td></tr>",
                            "<tr><td>Susan</td><td>1025728</td><td>Semi-trendy</td></tr>",
                            "<tr><td>Suzanne</td><td>109387</td><td>Trendy</td></tr>",
                            "<tr><td>Sydney</td><td>117279</td><td>Trendy</td></tr>",
                            "<tr><td>Tammy</td><td>296905</td><td>Trendy</td></tr>",
                            "<tr><td>Tanya</td><td>22407</td><td>Trendy</td></tr>",
                            "<tr><td>Tara</td><td>107987</td><td>Trendy</td></tr>",
                            "<tr><td>Taylor</td><td>323699</td><td>Semi-trendy</td></tr>",
                            "<tr><td>Teresa</td><td>298059</td><td>Semi-trendy</td></tr>",
                            "<tr><td>Terri</td><td>80961</td><td>Trendy</td></tr>",
                            "<tr><td>Terry</td><td>346213</td><td>Semi-trendy</td></tr>",
                            "<tr><td>Thelma</td><td>74017</td><td>Trendy</td></tr>",
                            "<tr><td>Theodore</td><td>29464</td><td>Trendy</td></tr>",
                            "<tr><td>Theresa</td><td>225262</td><td>Semi-trendy</td></tr>",
                            "<tr><td>Thomas</td><td>2166802</td><td>Classic</td></tr>",
                            "<tr><td>Tiffany</td><td>283969</td><td>Semi-trendy</td></tr>",
                            "<tr><td>Tim</td><td>36165</td><td>Trendy</td></tr>",
                            "<tr><td>Timothy</td><td>1001771</td><td>Semi-classic</td></tr>",
                            "<tr><td>Tina</td><td>227252</td><td>Semi-trendy</td></tr>",
                            "<tr><td>Todd</td><td>207137</td><td>Trendy</td></tr>",
                            "<tr><td>Tom</td><td>5061</td><td>Trendy</td></tr>",
                            "<tr><td>Tony</td><td>96417</td><td>Trendy</td></tr>",
                            "<tr><td>Tonya</td><td>58234</td><td>Trendy</td></tr>",
                            "<tr><td>Tracey</td><td>16979</td><td>Trendy</td></tr>",
                            "<tr><td>Tracy</td><td>199320</td><td>Trendy</td></tr>",
                            "<tr><td>Travis</td><td>218731</td><td>Semi-trendy</td></tr>",
                            "<tr><td>Trevor</td><td>76138</td><td>Trendy</td></tr>",
                            "<tr><td>Trinity</td><td>16217</td><td>Trendy</td></tr>",
                            "<tr><td>Tristan</td><td>27212</td><td>Trendy</td></tr>",
                            "<tr><td>Troy</td><td>82294</td><td>Trendy</td></tr>",
                            "<tr><td>Tyler</td><td>548624</td><td>Semi-trendy</td></tr>",
                            "<tr><td>Valerie</td><td>70039</td><td>Trendy</td></tr>",
                            "<tr><td>Vanessa</td><td>119596</td><td>Trendy</td></tr>",
                            "<tr><td>Vicki</td><td>94504</td><td>Trendy</td></tr>",
                            "<tr><td>Vickie</td><td>49252</td><td>Trendy</td></tr>",
                            "<tr><td>Victoria</td><td>347794</td><td>Semi-trendy</td></tr>",
                            "<tr><td>Vincent</td><td>23419</td><td>Trendy</td></tr>",
                            "<tr><td>Violet</td><td>10471</td><td>Trendy</td></tr>",
                            "<tr><td>Virginia</td><td>441418</td><td>Semi-trendy</td></tr>",
                            "<tr><td>Walter</td><td>378194</td><td>Semi-trendy</td></tr>",
                            "<tr><td>Wanda</td><td>125458</td><td>Trendy</td></tr>",
                            "<tr><td>Warren</td><td>13290</td><td>Trendy</td></tr>",
                            "<tr><td>Wayne</td><td>211347</td><td>Semi-trendy</td></tr>",
                            "<tr><td>Wendy</td><td>159446</td><td>Trendy</td></tr>",
                            "<tr><td>Whitney</td><td>43759</td><td>Trendy</td></tr>",
                            "<tr><td>William</td><td>3614424</td><td>Classic</td></tr>",
                            "<tr><td>Willie</td><td>274564</td><td>Semi-trendy</td></tr>",
                            "<tr><td>Wyatt</td><td>128168</td><td>Trendy</td></tr>",
                            "<tr><td>Xavier</td><td>51892</td><td>Trendy</td></tr>",
                            "<tr><td>Zachary</td><td>483955</td><td>Semi-trendy</td></tr>",
                            "<tr><td>Zoe</td><td>78773</td><td>Trendy</td></tr>",
                            "<tr><td>Zoey</td><td>70140</td><td>Trendy</td></tr>",
                            "</table>"
                        ]
                    }
                }
            ],
            "execution_count": 27
        },
        {
            "cell_type": "markdown",
            "source": [
                "## 3. Top-ranked female names since 1920\n",
                "<p>Did you find your favorite American celebrity's name on the popularity chart? Was it classic or trendy? How do you think the name Henry did? What about Jaxon?</p>\n",
                "<p>Since we didn't get many traditionally female names in our classic American names search in the first task, let's limit our search to names which were given to female babies. </p>\n",
                "<p>We can use this opportunity to practice window functions by assigning a rank to female names based on the number of babies that have ever been given that name. What are the top-ranked female names since 1920?</p>"
            ],
            "metadata": {
                "dc": {
                    "key": "22"
                },
                "deletable": false,
                "editable": false,
                "run_control": {
                    "frozen": true
                },
                "tags": [
                    "context"
                ],
                "azdata_cell_guid": "07d0c65b-9d02-4ab7-86df-804a09a29246"
            }
        },
        {
            "cell_type": "code",
            "source": [
                "SELECT TOP 10\n",
                "    RANK() OVER (ORDER BY SUM(num) DESC) AS name_rank,\n",
                "    first_name,\n",
                "    SUM(num) AS total_num\n",
                "FROM Projects.dbo.usa_baby_names\n",
                "WHERE sex = 'F'\n",
                "GROUP BY first_name\n",
                "ORDER BY total_num DESC"
            ],
            "metadata": {
                "dc": {
                    "key": "22"
                },
                "tags": [
                    "sample_code"
                ],
                "azdata_cell_guid": "e5d0ea0d-ee8e-4263-b14d-24c1b9c82293",
                "language": "sql"
            },
            "outputs": [
                {
                    "output_type": "display_data",
                    "data": {
                        "text/html": "(10 rows affected)"
                    },
                    "metadata": {}
                },
                {
                    "output_type": "display_data",
                    "data": {
                        "text/html": "Total execution time: 00:00:00.012"
                    },
                    "metadata": {}
                },
                {
                    "output_type": "execute_result",
                    "metadata": {},
                    "execution_count": 28,
                    "data": {
                        "application/vnd.dataresource+json": {
                            "schema": {
                                "fields": [
                                    {
                                        "name": "name_rank"
                                    },
                                    {
                                        "name": "first_name"
                                    },
                                    {
                                        "name": "total_num"
                                    }
                                ]
                            },
                            "data": [
                                {
                                    "name_rank": "1",
                                    "first_name": "Mary",
                                    "total_num": "3215850"
                                },
                                {
                                    "name_rank": "2",
                                    "first_name": "Patricia",
                                    "total_num": "1479802"
                                },
                                {
                                    "name_rank": "3",
                                    "first_name": "Elizabeth",
                                    "total_num": "1436286"
                                },
                                {
                                    "name_rank": "4",
                                    "first_name": "Jennifer",
                                    "total_num": "1404743"
                                },
                                {
                                    "name_rank": "5",
                                    "first_name": "Linda",
                                    "total_num": "1361021"
                                },
                                {
                                    "name_rank": "6",
                                    "first_name": "Barbara",
                                    "total_num": "1343901"
                                },
                                {
                                    "name_rank": "7",
                                    "first_name": "Susan",
                                    "total_num": "1025728"
                                },
                                {
                                    "name_rank": "8",
                                    "first_name": "Jessica",
                                    "total_num": "994210"
                                },
                                {
                                    "name_rank": "9",
                                    "first_name": "Lisa",
                                    "total_num": "920119"
                                },
                                {
                                    "name_rank": "10",
                                    "first_name": "Betty",
                                    "total_num": "893396"
                                }
                            ]
                        },
                        "text/html": [
                            "<table>",
                            "<tr><th>name_rank</th><th>first_name</th><th>total_num</th></tr>",
                            "<tr><td>1</td><td>Mary</td><td>3215850</td></tr>",
                            "<tr><td>2</td><td>Patricia</td><td>1479802</td></tr>",
                            "<tr><td>3</td><td>Elizabeth</td><td>1436286</td></tr>",
                            "<tr><td>4</td><td>Jennifer</td><td>1404743</td></tr>",
                            "<tr><td>5</td><td>Linda</td><td>1361021</td></tr>",
                            "<tr><td>6</td><td>Barbara</td><td>1343901</td></tr>",
                            "<tr><td>7</td><td>Susan</td><td>1025728</td></tr>",
                            "<tr><td>8</td><td>Jessica</td><td>994210</td></tr>",
                            "<tr><td>9</td><td>Lisa</td><td>920119</td></tr>",
                            "<tr><td>10</td><td>Betty</td><td>893396</td></tr>",
                            "</table>"
                        ]
                    }
                }
            ],
            "execution_count": 28
        },
        {
            "cell_type": "markdown",
            "source": [
                "## 4. Picking a baby name\n",
                "<p>Perhaps a friend has heard of our work analyzing baby names and would like help choosing a name for her baby, a girl. She doesn't like any of the top-ranked names we found in the previous task. </p>\n",
                "<p>She's set on a traditionally female name ending in the letter 'a' since she's heard that vowels in baby names are trendy. She's also looking for a name that has been popular in the years since 2015. </p>\n",
                "<p>Let's see what we can do to find some options for this friend!</p>"
            ],
            "metadata": {
                "dc": {
                    "key": "29"
                },
                "deletable": false,
                "editable": false,
                "run_control": {
                    "frozen": true
                },
                "tags": [
                    "context"
                ],
                "azdata_cell_guid": "7e538e72-d174-4bc5-9af2-9db3eb7a0fe2"
            }
        },
        {
            "cell_type": "code",
            "source": [
                "SELECT first_name\n",
                "FROM Projects.dbo.usa_baby_names\n",
                "WHERE sex = 'F' AND year > 2015\n",
                "    AND first_name LIKE '%a'\n",
                "GROUP BY first_name\n",
                "ORDER BY SUM(num) DESC"
            ],
            "metadata": {
                "dc": {
                    "key": "29"
                },
                "tags": [
                    "sample_code"
                ],
                "azdata_cell_guid": "8aa5df14-34f5-4a4a-9a29-edb9d2c1db75",
                "language": "sql"
            },
            "outputs": [
                {
                    "output_type": "display_data",
                    "data": {
                        "text/html": "(19 rows affected)"
                    },
                    "metadata": {}
                },
                {
                    "output_type": "display_data",
                    "data": {
                        "text/html": "Total execution time: 00:00:00.010"
                    },
                    "metadata": {}
                },
                {
                    "output_type": "execute_result",
                    "metadata": {},
                    "execution_count": 29,
                    "data": {
                        "application/vnd.dataresource+json": {
                            "schema": {
                                "fields": [
                                    {
                                        "name": "first_name"
                                    }
                                ]
                            },
                            "data": [
                                {
                                    "first_name": "Olivia"
                                },
                                {
                                    "first_name": "Emma"
                                },
                                {
                                    "first_name": "Ava"
                                },
                                {
                                    "first_name": "Sophia"
                                },
                                {
                                    "first_name": "Isabella"
                                },
                                {
                                    "first_name": "Mia"
                                },
                                {
                                    "first_name": "Amelia"
                                },
                                {
                                    "first_name": "Ella"
                                },
                                {
                                    "first_name": "Sofia"
                                },
                                {
                                    "first_name": "Camila"
                                },
                                {
                                    "first_name": "Aria"
                                },
                                {
                                    "first_name": "Victoria"
                                },
                                {
                                    "first_name": "Layla"
                                },
                                {
                                    "first_name": "Nora"
                                },
                                {
                                    "first_name": "Mila"
                                },
                                {
                                    "first_name": "Luna"
                                },
                                {
                                    "first_name": "Stella"
                                },
                                {
                                    "first_name": "Gianna"
                                },
                                {
                                    "first_name": "Aurora"
                                }
                            ]
                        },
                        "text/html": [
                            "<table>",
                            "<tr><th>first_name</th></tr>",
                            "<tr><td>Olivia</td></tr>",
                            "<tr><td>Emma</td></tr>",
                            "<tr><td>Ava</td></tr>",
                            "<tr><td>Sophia</td></tr>",
                            "<tr><td>Isabella</td></tr>",
                            "<tr><td>Mia</td></tr>",
                            "<tr><td>Amelia</td></tr>",
                            "<tr><td>Ella</td></tr>",
                            "<tr><td>Sofia</td></tr>",
                            "<tr><td>Camila</td></tr>",
                            "<tr><td>Aria</td></tr>",
                            "<tr><td>Victoria</td></tr>",
                            "<tr><td>Layla</td></tr>",
                            "<tr><td>Nora</td></tr>",
                            "<tr><td>Mila</td></tr>",
                            "<tr><td>Luna</td></tr>",
                            "<tr><td>Stella</td></tr>",
                            "<tr><td>Gianna</td></tr>",
                            "<tr><td>Aurora</td></tr>",
                            "</table>"
                        ]
                    }
                }
            ],
            "execution_count": 29
        },
        {
            "cell_type": "markdown",
            "source": [
                "## 5. The Olivia expansion\n",
                "<p>Based on the results in the previous task, we can see that Olivia is the most popular female name ending in 'A' since 2015. When did the name Olivia become so popular?</p>\n",
                "<p>Let's explore the rise of the name Olivia with the help of a window function.</p>"
            ],
            "metadata": {
                "dc": {
                    "key": "36"
                },
                "deletable": false,
                "editable": false,
                "run_control": {
                    "frozen": true
                },
                "tags": [
                    "context"
                ],
                "azdata_cell_guid": "d1a6fac1-52f8-45fe-bb2a-687413830553"
            }
        },
        {
            "cell_type": "code",
            "source": [
                "SELECT year, first_name, num,\n",
                "    SUM(num) OVER (ORDER BY year) AS cumulative_olivias\n",
                "FROM Projects.dbo.usa_baby_names\n",
                "WHERE first_name = 'Olivia'\n",
                "ORDER BY year"
            ],
            "metadata": {
                "dc": {
                    "key": "36"
                },
                "tags": [
                    "sample_code"
                ],
                "azdata_cell_guid": "7d726427-8ca7-4044-b23f-78b1c837d9fa",
                "language": "sql"
            },
            "outputs": [
                {
                    "output_type": "display_data",
                    "data": {
                        "text/html": "(30 rows affected)"
                    },
                    "metadata": {}
                },
                {
                    "output_type": "display_data",
                    "data": {
                        "text/html": "Total execution time: 00:00:00.020"
                    },
                    "metadata": {}
                },
                {
                    "output_type": "execute_result",
                    "metadata": {},
                    "execution_count": 30,
                    "data": {
                        "application/vnd.dataresource+json": {
                            "schema": {
                                "fields": [
                                    {
                                        "name": "year"
                                    },
                                    {
                                        "name": "first_name"
                                    },
                                    {
                                        "name": "num"
                                    },
                                    {
                                        "name": "cumulative_olivias"
                                    }
                                ]
                            },
                            "data": [
                                {
                                    "year": "1991",
                                    "first_name": "Olivia",
                                    "num": "5601",
                                    "cumulative_olivias": "5601"
                                },
                                {
                                    "year": "1992",
                                    "first_name": "Olivia",
                                    "num": "5809",
                                    "cumulative_olivias": "11410"
                                },
                                {
                                    "year": "1993",
                                    "first_name": "Olivia",
                                    "num": "6340",
                                    "cumulative_olivias": "17750"
                                },
                                {
                                    "year": "1994",
                                    "first_name": "Olivia",
                                    "num": "6434",
                                    "cumulative_olivias": "24184"
                                },
                                {
                                    "year": "1995",
                                    "first_name": "Olivia",
                                    "num": "7624",
                                    "cumulative_olivias": "31808"
                                },
                                {
                                    "year": "1996",
                                    "first_name": "Olivia",
                                    "num": "8124",
                                    "cumulative_olivias": "39932"
                                },
                                {
                                    "year": "1997",
                                    "first_name": "Olivia",
                                    "num": "9477",
                                    "cumulative_olivias": "49409"
                                },
                                {
                                    "year": "1998",
                                    "first_name": "Olivia",
                                    "num": "10610",
                                    "cumulative_olivias": "60019"
                                },
                                {
                                    "year": "1999",
                                    "first_name": "Olivia",
                                    "num": "11255",
                                    "cumulative_olivias": "71274"
                                },
                                {
                                    "year": "2000",
                                    "first_name": "Olivia",
                                    "num": "12852",
                                    "cumulative_olivias": "84126"
                                },
                                {
                                    "year": "2001",
                                    "first_name": "Olivia",
                                    "num": "13977",
                                    "cumulative_olivias": "98103"
                                },
                                {
                                    "year": "2002",
                                    "first_name": "Olivia",
                                    "num": "14630",
                                    "cumulative_olivias": "112733"
                                },
                                {
                                    "year": "2003",
                                    "first_name": "Olivia",
                                    "num": "16152",
                                    "cumulative_olivias": "128885"
                                },
                                {
                                    "year": "2004",
                                    "first_name": "Olivia",
                                    "num": "16106",
                                    "cumulative_olivias": "144991"
                                },
                                {
                                    "year": "2005",
                                    "first_name": "Olivia",
                                    "num": "15694",
                                    "cumulative_olivias": "160685"
                                },
                                {
                                    "year": "2006",
                                    "first_name": "Olivia",
                                    "num": "15501",
                                    "cumulative_olivias": "176186"
                                },
                                {
                                    "year": "2007",
                                    "first_name": "Olivia",
                                    "num": "16584",
                                    "cumulative_olivias": "192770"
                                },
                                {
                                    "year": "2008",
                                    "first_name": "Olivia",
                                    "num": "17084",
                                    "cumulative_olivias": "209854"
                                },
                                {
                                    "year": "2009",
                                    "first_name": "Olivia",
                                    "num": "17438",
                                    "cumulative_olivias": "227292"
                                },
                                {
                                    "year": "2010",
                                    "first_name": "Olivia",
                                    "num": "17029",
                                    "cumulative_olivias": "244321"
                                },
                                {
                                    "year": "2011",
                                    "first_name": "Olivia",
                                    "num": "17327",
                                    "cumulative_olivias": "261648"
                                },
                                {
                                    "year": "2012",
                                    "first_name": "Olivia",
                                    "num": "17320",
                                    "cumulative_olivias": "278968"
                                },
                                {
                                    "year": "2013",
                                    "first_name": "Olivia",
                                    "num": "18439",
                                    "cumulative_olivias": "297407"
                                },
                                {
                                    "year": "2014",
                                    "first_name": "Olivia",
                                    "num": "19823",
                                    "cumulative_olivias": "317230"
                                },
                                {
                                    "year": "2015",
                                    "first_name": "Olivia",
                                    "num": "19710",
                                    "cumulative_olivias": "336940"
                                },
                                {
                                    "year": "2016",
                                    "first_name": "Olivia",
                                    "num": "19380",
                                    "cumulative_olivias": "356320"
                                },
                                {
                                    "year": "2017",
                                    "first_name": "Olivia",
                                    "num": "18744",
                                    "cumulative_olivias": "375064"
                                },
                                {
                                    "year": "2018",
                                    "first_name": "Olivia",
                                    "num": "18011",
                                    "cumulative_olivias": "393075"
                                },
                                {
                                    "year": "2019",
                                    "first_name": "Olivia",
                                    "num": "18508",
                                    "cumulative_olivias": "411583"
                                },
                                {
                                    "year": "2020",
                                    "first_name": "Olivia",
                                    "num": "17535",
                                    "cumulative_olivias": "429118"
                                }
                            ]
                        },
                        "text/html": [
                            "<table>",
                            "<tr><th>year</th><th>first_name</th><th>num</th><th>cumulative_olivias</th></tr>",
                            "<tr><td>1991</td><td>Olivia</td><td>5601</td><td>5601</td></tr>",
                            "<tr><td>1992</td><td>Olivia</td><td>5809</td><td>11410</td></tr>",
                            "<tr><td>1993</td><td>Olivia</td><td>6340</td><td>17750</td></tr>",
                            "<tr><td>1994</td><td>Olivia</td><td>6434</td><td>24184</td></tr>",
                            "<tr><td>1995</td><td>Olivia</td><td>7624</td><td>31808</td></tr>",
                            "<tr><td>1996</td><td>Olivia</td><td>8124</td><td>39932</td></tr>",
                            "<tr><td>1997</td><td>Olivia</td><td>9477</td><td>49409</td></tr>",
                            "<tr><td>1998</td><td>Olivia</td><td>10610</td><td>60019</td></tr>",
                            "<tr><td>1999</td><td>Olivia</td><td>11255</td><td>71274</td></tr>",
                            "<tr><td>2000</td><td>Olivia</td><td>12852</td><td>84126</td></tr>",
                            "<tr><td>2001</td><td>Olivia</td><td>13977</td><td>98103</td></tr>",
                            "<tr><td>2002</td><td>Olivia</td><td>14630</td><td>112733</td></tr>",
                            "<tr><td>2003</td><td>Olivia</td><td>16152</td><td>128885</td></tr>",
                            "<tr><td>2004</td><td>Olivia</td><td>16106</td><td>144991</td></tr>",
                            "<tr><td>2005</td><td>Olivia</td><td>15694</td><td>160685</td></tr>",
                            "<tr><td>2006</td><td>Olivia</td><td>15501</td><td>176186</td></tr>",
                            "<tr><td>2007</td><td>Olivia</td><td>16584</td><td>192770</td></tr>",
                            "<tr><td>2008</td><td>Olivia</td><td>17084</td><td>209854</td></tr>",
                            "<tr><td>2009</td><td>Olivia</td><td>17438</td><td>227292</td></tr>",
                            "<tr><td>2010</td><td>Olivia</td><td>17029</td><td>244321</td></tr>",
                            "<tr><td>2011</td><td>Olivia</td><td>17327</td><td>261648</td></tr>",
                            "<tr><td>2012</td><td>Olivia</td><td>17320</td><td>278968</td></tr>",
                            "<tr><td>2013</td><td>Olivia</td><td>18439</td><td>297407</td></tr>",
                            "<tr><td>2014</td><td>Olivia</td><td>19823</td><td>317230</td></tr>",
                            "<tr><td>2015</td><td>Olivia</td><td>19710</td><td>336940</td></tr>",
                            "<tr><td>2016</td><td>Olivia</td><td>19380</td><td>356320</td></tr>",
                            "<tr><td>2017</td><td>Olivia</td><td>18744</td><td>375064</td></tr>",
                            "<tr><td>2018</td><td>Olivia</td><td>18011</td><td>393075</td></tr>",
                            "<tr><td>2019</td><td>Olivia</td><td>18508</td><td>411583</td></tr>",
                            "<tr><td>2020</td><td>Olivia</td><td>17535</td><td>429118</td></tr>",
                            "</table>"
                        ]
                    }
                }
            ],
            "execution_count": 30
        },
        {
            "cell_type": "markdown",
            "source": [
                "## 6. Many males with the same name\n",
                "<p>Wow, Olivia has had a meteoric rise! Let's take a look at traditionally male names now. We saw in the first task that there are nine traditionally male names given to at least 5,000 babies every single year in our 101-year dataset! Those names are classics, but showing up in the dataset every year doesn't necessarily mean that the timeless names were the most popular. Let's explore popular male names a little further.</p>\n",
                "<p>In the next two tasks, we will build up to listing every year along with the most popular male name in that year. This presents a common problem: how do we find the greatest X in a group? Or, in the context of this problem, how do we find the male name given to the highest number of babies in a year? </p>\n",
                "<p>In SQL, one approach is to use a subquery. We can first write a query that selects the <code>year</code> and the maximum <code>num</code> of babies given any single male name in that year. For example, in 1989, the male name given to the highest number of babies was given to 65,339 babies. We'll write this query in this task. In the next task, we can use the code from this task as a subquery to look up the <code>first_name</code> that was given to 65,339 babies in 1989… as well as the top male first name for all other years!</p>"
            ],
            "metadata": {
                "dc": {
                    "key": "43"
                },
                "deletable": false,
                "editable": false,
                "run_control": {
                    "frozen": true
                },
                "tags": [
                    "context"
                ],
                "azdata_cell_guid": "367a8ce8-3b9c-497e-a77e-152a9c9b0e8c"
            }
        },
        {
            "cell_type": "code",
            "source": [
                "SELECT year, MAX(num) AS max_num\n",
                "FROM Projects.dbo.usa_baby_names\n",
                "WHERE sex = 'M'\n",
                "GROUP BY year"
            ],
            "metadata": {
                "dc": {
                    "key": "43"
                },
                "tags": [
                    "sample_code"
                ],
                "azdata_cell_guid": "b66f1df2-41f1-49d7-8d42-84c564eceee9",
                "language": "sql"
            },
            "outputs": [
                {
                    "output_type": "display_data",
                    "data": {
                        "text/html": "(101 rows affected)"
                    },
                    "metadata": {}
                },
                {
                    "output_type": "display_data",
                    "data": {
                        "text/html": "Total execution time: 00:00:00.014"
                    },
                    "metadata": {}
                },
                {
                    "output_type": "execute_result",
                    "metadata": {},
                    "execution_count": 31,
                    "data": {
                        "application/vnd.dataresource+json": {
                            "schema": {
                                "fields": [
                                    {
                                        "name": "year"
                                    },
                                    {
                                        "name": "max_num"
                                    }
                                ]
                            },
                            "data": [
                                {
                                    "year": "1921",
                                    "max_num": "58215"
                                },
                                {
                                    "year": "1998",
                                    "max_num": "36616"
                                },
                                {
                                    "year": "1938",
                                    "max_num": "62269"
                                },
                                {
                                    "year": "1950",
                                    "max_num": "86229"
                                },
                                {
                                    "year": "1990",
                                    "max_num": "65302"
                                },
                                {
                                    "year": "1944",
                                    "max_num": "76954"
                                },
                                {
                                    "year": "2004",
                                    "max_num": "27886"
                                },
                                {
                                    "year": "1930",
                                    "max_num": "62149"
                                },
                                {
                                    "year": "1981",
                                    "max_num": "68776"
                                },
                                {
                                    "year": "2010",
                                    "max_num": "22139"
                                },
                                {
                                    "year": "1961",
                                    "max_num": "86917"
                                },
                                {
                                    "year": "1924",
                                    "max_num": "60801"
                                },
                                {
                                    "year": "1967",
                                    "max_num": "82440"
                                },
                                {
                                    "year": "1987",
                                    "max_num": "63654"
                                },
                                {
                                    "year": "1941",
                                    "max_num": "66743"
                                },
                                {
                                    "year": "1947",
                                    "max_num": "94764"
                                },
                                {
                                    "year": "2001",
                                    "max_num": "32554"
                                },
                                {
                                    "year": "2007",
                                    "max_num": "24292"
                                },
                                {
                                    "year": "1978",
                                    "max_num": "67157"
                                },
                                {
                                    "year": "1984",
                                    "max_num": "67745"
                                },
                                {
                                    "year": "1958",
                                    "max_num": "90564"
                                },
                                {
                                    "year": "1927",
                                    "max_num": "61671"
                                },
                                {
                                    "year": "1964",
                                    "max_num": "82642"
                                },
                                {
                                    "year": "2013",
                                    "max_num": "18266"
                                },
                                {
                                    "year": "1970",
                                    "max_num": "85291"
                                },
                                {
                                    "year": "1942",
                                    "max_num": "77174"
                                },
                                {
                                    "year": "1996",
                                    "max_num": "38365"
                                },
                                {
                                    "year": "1936",
                                    "max_num": "58499"
                                },
                                {
                                    "year": "1953",
                                    "max_num": "86247"
                                },
                                {
                                    "year": "1959",
                                    "max_num": "85224"
                                },
                                {
                                    "year": "2002",
                                    "max_num": "30579"
                                },
                                {
                                    "year": "2008",
                                    "max_num": "22603"
                                },
                                {
                                    "year": "1979",
                                    "max_num": "67742"
                                },
                                {
                                    "year": "1973",
                                    "max_num": "67842"
                                },
                                {
                                    "year": "1965",
                                    "max_num": "81021"
                                },
                                {
                                    "year": "1945",
                                    "max_num": "74460"
                                },
                                {
                                    "year": "2016",
                                    "max_num": "19154"
                                },
                                {
                                    "year": "1922",
                                    "max_num": "57280"
                                },
                                {
                                    "year": "1939",
                                    "max_num": "59653"
                                },
                                {
                                    "year": "1985",
                                    "max_num": "64924"
                                },
                                {
                                    "year": "1999",
                                    "max_num": "35367"
                                },
                                {
                                    "year": "1993",
                                    "max_num": "49554"
                                },
                                {
                                    "year": "1933",
                                    "max_num": "54223"
                                },
                                {
                                    "year": "1982",
                                    "max_num": "68244"
                                },
                                {
                                    "year": "1956",
                                    "max_num": "90665"
                                },
                                {
                                    "year": "2005",
                                    "max_num": "25837"
                                },
                                {
                                    "year": "1976",
                                    "max_num": "66947"
                                },
                                {
                                    "year": "1962",
                                    "max_num": "85041"
                                },
                                {
                                    "year": "2019",
                                    "max_num": "20555"
                                },
                                {
                                    "year": "1940",
                                    "max_num": "62476"
                                },
                                {
                                    "year": "1988",
                                    "max_num": "64150"
                                },
                                {
                                    "year": "2000",
                                    "max_num": "34483"
                                },
                                {
                                    "year": "1948",
                                    "max_num": "88589"
                                },
                                {
                                    "year": "1994",
                                    "max_num": "44472"
                                },
                                {
                                    "year": "1957",
                                    "max_num": "92718"
                                },
                                {
                                    "year": "1934",
                                    "max_num": "55834"
                                },
                                {
                                    "year": "1977",
                                    "max_num": "67609"
                                },
                                {
                                    "year": "1928",
                                    "max_num": "60703"
                                },
                                {
                                    "year": "1971",
                                    "max_num": "77599"
                                },
                                {
                                    "year": "2014",
                                    "max_num": "19319"
                                },
                                {
                                    "year": "2020",
                                    "max_num": "19659"
                                },
                                {
                                    "year": "1951",
                                    "max_num": "87261"
                                },
                                {
                                    "year": "1997",
                                    "max_num": "37549"
                                },
                                {
                                    "year": "1937",
                                    "max_num": "61842"
                                },
                                {
                                    "year": "1991",
                                    "max_num": "60793"
                                },
                                {
                                    "year": "1954",
                                    "max_num": "88576"
                                },
                                {
                                    "year": "1960",
                                    "max_num": "85933"
                                },
                                {
                                    "year": "2003",
                                    "max_num": "29643"
                                },
                                {
                                    "year": "1931",
                                    "max_num": "60518"
                                },
                                {
                                    "year": "1980",
                                    "max_num": "68704"
                                },
                                {
                                    "year": "1925",
                                    "max_num": "60897"
                                },
                                {
                                    "year": "1974",
                                    "max_num": "67580"
                                },
                                {
                                    "year": "2011",
                                    "max_num": "20378"
                                },
                                {
                                    "year": "1968",
                                    "max_num": "81995"
                                },
                                {
                                    "year": "2017",
                                    "max_num": "18824"
                                },
                                {
                                    "year": "1969",
                                    "max_num": "85201"
                                },
                                {
                                    "year": "1946",
                                    "max_num": "87439"
                                },
                                {
                                    "year": "1923",
                                    "max_num": "57469"
                                },
                                {
                                    "year": "1952",
                                    "max_num": "87063"
                                },
                                {
                                    "year": "1986",
                                    "max_num": "64224"
                                },
                                {
                                    "year": "1992",
                                    "max_num": "54397"
                                },
                                {
                                    "year": "1983",
                                    "max_num": "68010"
                                },
                                {
                                    "year": "1932",
                                    "max_num": "59265"
                                },
                                {
                                    "year": "2006",
                                    "max_num": "24850"
                                },
                                {
                                    "year": "1955",
                                    "max_num": "88372"
                                },
                                {
                                    "year": "1963",
                                    "max_num": "83778"
                                },
                                {
                                    "year": "1975",
                                    "max_num": "68451"
                                },
                                {
                                    "year": "1926",
                                    "max_num": "61130"
                                },
                                {
                                    "year": "2012",
                                    "max_num": "19088"
                                },
                                {
                                    "year": "1920",
                                    "max_num": "56914"
                                },
                                {
                                    "year": "2018",
                                    "max_num": "19924"
                                },
                                {
                                    "year": "1949",
                                    "max_num": "86865"
                                },
                                {
                                    "year": "1989",
                                    "max_num": "65399"
                                },
                                {
                                    "year": "1995",
                                    "max_num": "41399"
                                },
                                {
                                    "year": "1943",
                                    "max_num": "80274"
                                },
                                {
                                    "year": "1935",
                                    "max_num": "56522"
                                },
                                {
                                    "year": "1929",
                                    "max_num": "59804"
                                },
                                {
                                    "year": "2009",
                                    "max_num": "21184"
                                },
                                {
                                    "year": "1966",
                                    "max_num": "79990"
                                },
                                {
                                    "year": "1972",
                                    "max_num": "71401"
                                },
                                {
                                    "year": "2015",
                                    "max_num": "19650"
                                }
                            ]
                        },
                        "text/html": [
                            "<table>",
                            "<tr><th>year</th><th>max_num</th></tr>",
                            "<tr><td>1921</td><td>58215</td></tr>",
                            "<tr><td>1998</td><td>36616</td></tr>",
                            "<tr><td>1938</td><td>62269</td></tr>",
                            "<tr><td>1950</td><td>86229</td></tr>",
                            "<tr><td>1990</td><td>65302</td></tr>",
                            "<tr><td>1944</td><td>76954</td></tr>",
                            "<tr><td>2004</td><td>27886</td></tr>",
                            "<tr><td>1930</td><td>62149</td></tr>",
                            "<tr><td>1981</td><td>68776</td></tr>",
                            "<tr><td>2010</td><td>22139</td></tr>",
                            "<tr><td>1961</td><td>86917</td></tr>",
                            "<tr><td>1924</td><td>60801</td></tr>",
                            "<tr><td>1967</td><td>82440</td></tr>",
                            "<tr><td>1987</td><td>63654</td></tr>",
                            "<tr><td>1941</td><td>66743</td></tr>",
                            "<tr><td>1947</td><td>94764</td></tr>",
                            "<tr><td>2001</td><td>32554</td></tr>",
                            "<tr><td>2007</td><td>24292</td></tr>",
                            "<tr><td>1978</td><td>67157</td></tr>",
                            "<tr><td>1984</td><td>67745</td></tr>",
                            "<tr><td>1958</td><td>90564</td></tr>",
                            "<tr><td>1927</td><td>61671</td></tr>",
                            "<tr><td>1964</td><td>82642</td></tr>",
                            "<tr><td>2013</td><td>18266</td></tr>",
                            "<tr><td>1970</td><td>85291</td></tr>",
                            "<tr><td>1942</td><td>77174</td></tr>",
                            "<tr><td>1996</td><td>38365</td></tr>",
                            "<tr><td>1936</td><td>58499</td></tr>",
                            "<tr><td>1953</td><td>86247</td></tr>",
                            "<tr><td>1959</td><td>85224</td></tr>",
                            "<tr><td>2002</td><td>30579</td></tr>",
                            "<tr><td>2008</td><td>22603</td></tr>",
                            "<tr><td>1979</td><td>67742</td></tr>",
                            "<tr><td>1973</td><td>67842</td></tr>",
                            "<tr><td>1965</td><td>81021</td></tr>",
                            "<tr><td>1945</td><td>74460</td></tr>",
                            "<tr><td>2016</td><td>19154</td></tr>",
                            "<tr><td>1922</td><td>57280</td></tr>",
                            "<tr><td>1939</td><td>59653</td></tr>",
                            "<tr><td>1985</td><td>64924</td></tr>",
                            "<tr><td>1999</td><td>35367</td></tr>",
                            "<tr><td>1993</td><td>49554</td></tr>",
                            "<tr><td>1933</td><td>54223</td></tr>",
                            "<tr><td>1982</td><td>68244</td></tr>",
                            "<tr><td>1956</td><td>90665</td></tr>",
                            "<tr><td>2005</td><td>25837</td></tr>",
                            "<tr><td>1976</td><td>66947</td></tr>",
                            "<tr><td>1962</td><td>85041</td></tr>",
                            "<tr><td>2019</td><td>20555</td></tr>",
                            "<tr><td>1940</td><td>62476</td></tr>",
                            "<tr><td>1988</td><td>64150</td></tr>",
                            "<tr><td>2000</td><td>34483</td></tr>",
                            "<tr><td>1948</td><td>88589</td></tr>",
                            "<tr><td>1994</td><td>44472</td></tr>",
                            "<tr><td>1957</td><td>92718</td></tr>",
                            "<tr><td>1934</td><td>55834</td></tr>",
                            "<tr><td>1977</td><td>67609</td></tr>",
                            "<tr><td>1928</td><td>60703</td></tr>",
                            "<tr><td>1971</td><td>77599</td></tr>",
                            "<tr><td>2014</td><td>19319</td></tr>",
                            "<tr><td>2020</td><td>19659</td></tr>",
                            "<tr><td>1951</td><td>87261</td></tr>",
                            "<tr><td>1997</td><td>37549</td></tr>",
                            "<tr><td>1937</td><td>61842</td></tr>",
                            "<tr><td>1991</td><td>60793</td></tr>",
                            "<tr><td>1954</td><td>88576</td></tr>",
                            "<tr><td>1960</td><td>85933</td></tr>",
                            "<tr><td>2003</td><td>29643</td></tr>",
                            "<tr><td>1931</td><td>60518</td></tr>",
                            "<tr><td>1980</td><td>68704</td></tr>",
                            "<tr><td>1925</td><td>60897</td></tr>",
                            "<tr><td>1974</td><td>67580</td></tr>",
                            "<tr><td>2011</td><td>20378</td></tr>",
                            "<tr><td>1968</td><td>81995</td></tr>",
                            "<tr><td>2017</td><td>18824</td></tr>",
                            "<tr><td>1969</td><td>85201</td></tr>",
                            "<tr><td>1946</td><td>87439</td></tr>",
                            "<tr><td>1923</td><td>57469</td></tr>",
                            "<tr><td>1952</td><td>87063</td></tr>",
                            "<tr><td>1986</td><td>64224</td></tr>",
                            "<tr><td>1992</td><td>54397</td></tr>",
                            "<tr><td>1983</td><td>68010</td></tr>",
                            "<tr><td>1932</td><td>59265</td></tr>",
                            "<tr><td>2006</td><td>24850</td></tr>",
                            "<tr><td>1955</td><td>88372</td></tr>",
                            "<tr><td>1963</td><td>83778</td></tr>",
                            "<tr><td>1975</td><td>68451</td></tr>",
                            "<tr><td>1926</td><td>61130</td></tr>",
                            "<tr><td>2012</td><td>19088</td></tr>",
                            "<tr><td>1920</td><td>56914</td></tr>",
                            "<tr><td>2018</td><td>19924</td></tr>",
                            "<tr><td>1949</td><td>86865</td></tr>",
                            "<tr><td>1989</td><td>65399</td></tr>",
                            "<tr><td>1995</td><td>41399</td></tr>",
                            "<tr><td>1943</td><td>80274</td></tr>",
                            "<tr><td>1935</td><td>56522</td></tr>",
                            "<tr><td>1929</td><td>59804</td></tr>",
                            "<tr><td>2009</td><td>21184</td></tr>",
                            "<tr><td>1966</td><td>79990</td></tr>",
                            "<tr><td>1972</td><td>71401</td></tr>",
                            "<tr><td>2015</td><td>19650</td></tr>",
                            "</table>"
                        ]
                    }
                }
            ],
            "execution_count": 31
        },
        {
            "cell_type": "markdown",
            "source": [
                "## 7. Top male names over the years\n",
                "<p>In the previous task, we found the maximum number of babies given any one male name in each year. Incredibly, the most popular name each year varied from being given to less than 20,000 babies to being given to more than 90,000! </p>\n",
                "<p>In this task, we find out what that top male name is for each year in our dataset. </p>"
            ],
            "metadata": {
                "dc": {
                    "key": "50"
                },
                "deletable": false,
                "editable": false,
                "run_control": {
                    "frozen": true
                },
                "tags": [
                    "context"
                ],
                "azdata_cell_guid": "f4be81c4-f273-4e12-a83f-fd05d69e0c1a"
            }
        },
        {
            "cell_type": "code",
            "source": [
                "SELECT b.year, b.first_name, b.num\n",
                "FROM Projects.dbo.usa_baby_names AS b\n",
                "INNER JOIN (\n",
                "    SELECT year, MAX(num) as max_num\n",
                "    FROM Projects.dbo.usa_baby_names\n",
                "    WHERE sex = 'M'\n",
                "    GROUP BY year) AS subquery \n",
                "ON subquery.year = b.year \n",
                "    AND subquery.max_num = b.num\n",
                "ORDER BY year DESC"
            ],
            "metadata": {
                "dc": {
                    "key": "50"
                },
                "tags": [
                    "sample_code"
                ],
                "azdata_cell_guid": "4103c5d1-47a6-4baa-9dfe-551fd3d4fb84",
                "language": "sql"
            },
            "outputs": [
                {
                    "output_type": "display_data",
                    "data": {
                        "text/html": "(101 rows affected)"
                    },
                    "metadata": {}
                },
                {
                    "output_type": "display_data",
                    "data": {
                        "text/html": "Total execution time: 00:00:00.022"
                    },
                    "metadata": {}
                },
                {
                    "output_type": "execute_result",
                    "metadata": {},
                    "execution_count": 32,
                    "data": {
                        "application/vnd.dataresource+json": {
                            "schema": {
                                "fields": [
                                    {
                                        "name": "year"
                                    },
                                    {
                                        "name": "first_name"
                                    },
                                    {
                                        "name": "num"
                                    }
                                ]
                            },
                            "data": [
                                {
                                    "year": "2020",
                                    "first_name": "Liam",
                                    "num": "19659"
                                },
                                {
                                    "year": "2019",
                                    "first_name": "Liam",
                                    "num": "20555"
                                },
                                {
                                    "year": "2018",
                                    "first_name": "Liam",
                                    "num": "19924"
                                },
                                {
                                    "year": "2017",
                                    "first_name": "Liam",
                                    "num": "18824"
                                },
                                {
                                    "year": "2016",
                                    "first_name": "Noah",
                                    "num": "19154"
                                },
                                {
                                    "year": "2015",
                                    "first_name": "Noah",
                                    "num": "19650"
                                },
                                {
                                    "year": "2014",
                                    "first_name": "Noah",
                                    "num": "19319"
                                },
                                {
                                    "year": "2013",
                                    "first_name": "Noah",
                                    "num": "18266"
                                },
                                {
                                    "year": "2012",
                                    "first_name": "Jacob",
                                    "num": "19088"
                                },
                                {
                                    "year": "2011",
                                    "first_name": "Jacob",
                                    "num": "20378"
                                },
                                {
                                    "year": "2010",
                                    "first_name": "Jacob",
                                    "num": "22139"
                                },
                                {
                                    "year": "2009",
                                    "first_name": "Jacob",
                                    "num": "21184"
                                },
                                {
                                    "year": "2008",
                                    "first_name": "Jacob",
                                    "num": "22603"
                                },
                                {
                                    "year": "2007",
                                    "first_name": "Jacob",
                                    "num": "24292"
                                },
                                {
                                    "year": "2006",
                                    "first_name": "Jacob",
                                    "num": "24850"
                                },
                                {
                                    "year": "2005",
                                    "first_name": "Jacob",
                                    "num": "25837"
                                },
                                {
                                    "year": "2004",
                                    "first_name": "Jacob",
                                    "num": "27886"
                                },
                                {
                                    "year": "2003",
                                    "first_name": "Jacob",
                                    "num": "29643"
                                },
                                {
                                    "year": "2002",
                                    "first_name": "Jacob",
                                    "num": "30579"
                                },
                                {
                                    "year": "2001",
                                    "first_name": "Jacob",
                                    "num": "32554"
                                },
                                {
                                    "year": "2000",
                                    "first_name": "Jacob",
                                    "num": "34483"
                                },
                                {
                                    "year": "1999",
                                    "first_name": "Jacob",
                                    "num": "35367"
                                },
                                {
                                    "year": "1998",
                                    "first_name": "Michael",
                                    "num": "36616"
                                },
                                {
                                    "year": "1997",
                                    "first_name": "Michael",
                                    "num": "37549"
                                },
                                {
                                    "year": "1996",
                                    "first_name": "Michael",
                                    "num": "38365"
                                },
                                {
                                    "year": "1995",
                                    "first_name": "Michael",
                                    "num": "41399"
                                },
                                {
                                    "year": "1994",
                                    "first_name": "Michael",
                                    "num": "44472"
                                },
                                {
                                    "year": "1993",
                                    "first_name": "Michael",
                                    "num": "49554"
                                },
                                {
                                    "year": "1992",
                                    "first_name": "Michael",
                                    "num": "54397"
                                },
                                {
                                    "year": "1991",
                                    "first_name": "Michael",
                                    "num": "60793"
                                },
                                {
                                    "year": "1990",
                                    "first_name": "Michael",
                                    "num": "65302"
                                },
                                {
                                    "year": "1989",
                                    "first_name": "Michael",
                                    "num": "65399"
                                },
                                {
                                    "year": "1988",
                                    "first_name": "Michael",
                                    "num": "64150"
                                },
                                {
                                    "year": "1987",
                                    "first_name": "Michael",
                                    "num": "63654"
                                },
                                {
                                    "year": "1986",
                                    "first_name": "Michael",
                                    "num": "64224"
                                },
                                {
                                    "year": "1985",
                                    "first_name": "Michael",
                                    "num": "64924"
                                },
                                {
                                    "year": "1984",
                                    "first_name": "Michael",
                                    "num": "67745"
                                },
                                {
                                    "year": "1983",
                                    "first_name": "Michael",
                                    "num": "68010"
                                },
                                {
                                    "year": "1982",
                                    "first_name": "Michael",
                                    "num": "68244"
                                },
                                {
                                    "year": "1981",
                                    "first_name": "Michael",
                                    "num": "68776"
                                },
                                {
                                    "year": "1980",
                                    "first_name": "Michael",
                                    "num": "68704"
                                },
                                {
                                    "year": "1979",
                                    "first_name": "Michael",
                                    "num": "67742"
                                },
                                {
                                    "year": "1978",
                                    "first_name": "Michael",
                                    "num": "67157"
                                },
                                {
                                    "year": "1977",
                                    "first_name": "Michael",
                                    "num": "67609"
                                },
                                {
                                    "year": "1976",
                                    "first_name": "Michael",
                                    "num": "66947"
                                },
                                {
                                    "year": "1975",
                                    "first_name": "Michael",
                                    "num": "68451"
                                },
                                {
                                    "year": "1974",
                                    "first_name": "Michael",
                                    "num": "67580"
                                },
                                {
                                    "year": "1973",
                                    "first_name": "Michael",
                                    "num": "67842"
                                },
                                {
                                    "year": "1972",
                                    "first_name": "Michael",
                                    "num": "71401"
                                },
                                {
                                    "year": "1971",
                                    "first_name": "Michael",
                                    "num": "77599"
                                },
                                {
                                    "year": "1970",
                                    "first_name": "Michael",
                                    "num": "85291"
                                },
                                {
                                    "year": "1969",
                                    "first_name": "Michael",
                                    "num": "85201"
                                },
                                {
                                    "year": "1968",
                                    "first_name": "Michael",
                                    "num": "81995"
                                },
                                {
                                    "year": "1967",
                                    "first_name": "Michael",
                                    "num": "82440"
                                },
                                {
                                    "year": "1966",
                                    "first_name": "Michael",
                                    "num": "79990"
                                },
                                {
                                    "year": "1965",
                                    "first_name": "Michael",
                                    "num": "81021"
                                },
                                {
                                    "year": "1964",
                                    "first_name": "Michael",
                                    "num": "82642"
                                },
                                {
                                    "year": "1963",
                                    "first_name": "Michael",
                                    "num": "83778"
                                },
                                {
                                    "year": "1962",
                                    "first_name": "Michael",
                                    "num": "85041"
                                },
                                {
                                    "year": "1961",
                                    "first_name": "Michael",
                                    "num": "86917"
                                },
                                {
                                    "year": "1960",
                                    "first_name": "David",
                                    "num": "85933"
                                },
                                {
                                    "year": "1959",
                                    "first_name": "Michael",
                                    "num": "85224"
                                },
                                {
                                    "year": "1958",
                                    "first_name": "Michael",
                                    "num": "90564"
                                },
                                {
                                    "year": "1957",
                                    "first_name": "Michael",
                                    "num": "92718"
                                },
                                {
                                    "year": "1956",
                                    "first_name": "Michael",
                                    "num": "90665"
                                },
                                {
                                    "year": "1955",
                                    "first_name": "Michael",
                                    "num": "88372"
                                },
                                {
                                    "year": "1954",
                                    "first_name": "Michael",
                                    "num": "88576"
                                },
                                {
                                    "year": "1953",
                                    "first_name": "Robert",
                                    "num": "86247"
                                },
                                {
                                    "year": "1952",
                                    "first_name": "James",
                                    "num": "87063"
                                },
                                {
                                    "year": "1951",
                                    "first_name": "James",
                                    "num": "87261"
                                },
                                {
                                    "year": "1950",
                                    "first_name": "James",
                                    "num": "86229"
                                },
                                {
                                    "year": "1949",
                                    "first_name": "James",
                                    "num": "86865"
                                },
                                {
                                    "year": "1948",
                                    "first_name": "James",
                                    "num": "88589"
                                },
                                {
                                    "year": "1947",
                                    "first_name": "James",
                                    "num": "94764"
                                },
                                {
                                    "year": "1946",
                                    "first_name": "James",
                                    "num": "87439"
                                },
                                {
                                    "year": "1945",
                                    "first_name": "James",
                                    "num": "74460"
                                },
                                {
                                    "year": "1944",
                                    "first_name": "James",
                                    "num": "76954"
                                },
                                {
                                    "year": "1943",
                                    "first_name": "James",
                                    "num": "80274"
                                },
                                {
                                    "year": "1942",
                                    "first_name": "James",
                                    "num": "77174"
                                },
                                {
                                    "year": "1941",
                                    "first_name": "James",
                                    "num": "66743"
                                },
                                {
                                    "year": "1940",
                                    "first_name": "James",
                                    "num": "62476"
                                },
                                {
                                    "year": "1939",
                                    "first_name": "Robert",
                                    "num": "59653"
                                },
                                {
                                    "year": "1938",
                                    "first_name": "Robert",
                                    "num": "62269"
                                },
                                {
                                    "year": "1937",
                                    "first_name": "Robert",
                                    "num": "61842"
                                },
                                {
                                    "year": "1936",
                                    "first_name": "Robert",
                                    "num": "58499"
                                },
                                {
                                    "year": "1935",
                                    "first_name": "Robert",
                                    "num": "56522"
                                },
                                {
                                    "year": "1934",
                                    "first_name": "Robert",
                                    "num": "55834"
                                },
                                {
                                    "year": "1933",
                                    "first_name": "Robert",
                                    "num": "54223"
                                },
                                {
                                    "year": "1932",
                                    "first_name": "Robert",
                                    "num": "59265"
                                },
                                {
                                    "year": "1931",
                                    "first_name": "Robert",
                                    "num": "60518"
                                },
                                {
                                    "year": "1930",
                                    "first_name": "Robert",
                                    "num": "62149"
                                },
                                {
                                    "year": "1929",
                                    "first_name": "Robert",
                                    "num": "59804"
                                },
                                {
                                    "year": "1928",
                                    "first_name": "Robert",
                                    "num": "60703"
                                },
                                {
                                    "year": "1927",
                                    "first_name": "Robert",
                                    "num": "61671"
                                },
                                {
                                    "year": "1926",
                                    "first_name": "Robert",
                                    "num": "61130"
                                },
                                {
                                    "year": "1925",
                                    "first_name": "Robert",
                                    "num": "60897"
                                },
                                {
                                    "year": "1924",
                                    "first_name": "Robert",
                                    "num": "60801"
                                },
                                {
                                    "year": "1923",
                                    "first_name": "John",
                                    "num": "57469"
                                },
                                {
                                    "year": "1922",
                                    "first_name": "John",
                                    "num": "57280"
                                },
                                {
                                    "year": "1921",
                                    "first_name": "John",
                                    "num": "58215"
                                },
                                {
                                    "year": "1920",
                                    "first_name": "John",
                                    "num": "56914"
                                }
                            ]
                        },
                        "text/html": [
                            "<table>",
                            "<tr><th>year</th><th>first_name</th><th>num</th></tr>",
                            "<tr><td>2020</td><td>Liam</td><td>19659</td></tr>",
                            "<tr><td>2019</td><td>Liam</td><td>20555</td></tr>",
                            "<tr><td>2018</td><td>Liam</td><td>19924</td></tr>",
                            "<tr><td>2017</td><td>Liam</td><td>18824</td></tr>",
                            "<tr><td>2016</td><td>Noah</td><td>19154</td></tr>",
                            "<tr><td>2015</td><td>Noah</td><td>19650</td></tr>",
                            "<tr><td>2014</td><td>Noah</td><td>19319</td></tr>",
                            "<tr><td>2013</td><td>Noah</td><td>18266</td></tr>",
                            "<tr><td>2012</td><td>Jacob</td><td>19088</td></tr>",
                            "<tr><td>2011</td><td>Jacob</td><td>20378</td></tr>",
                            "<tr><td>2010</td><td>Jacob</td><td>22139</td></tr>",
                            "<tr><td>2009</td><td>Jacob</td><td>21184</td></tr>",
                            "<tr><td>2008</td><td>Jacob</td><td>22603</td></tr>",
                            "<tr><td>2007</td><td>Jacob</td><td>24292</td></tr>",
                            "<tr><td>2006</td><td>Jacob</td><td>24850</td></tr>",
                            "<tr><td>2005</td><td>Jacob</td><td>25837</td></tr>",
                            "<tr><td>2004</td><td>Jacob</td><td>27886</td></tr>",
                            "<tr><td>2003</td><td>Jacob</td><td>29643</td></tr>",
                            "<tr><td>2002</td><td>Jacob</td><td>30579</td></tr>",
                            "<tr><td>2001</td><td>Jacob</td><td>32554</td></tr>",
                            "<tr><td>2000</td><td>Jacob</td><td>34483</td></tr>",
                            "<tr><td>1999</td><td>Jacob</td><td>35367</td></tr>",
                            "<tr><td>1998</td><td>Michael</td><td>36616</td></tr>",
                            "<tr><td>1997</td><td>Michael</td><td>37549</td></tr>",
                            "<tr><td>1996</td><td>Michael</td><td>38365</td></tr>",
                            "<tr><td>1995</td><td>Michael</td><td>41399</td></tr>",
                            "<tr><td>1994</td><td>Michael</td><td>44472</td></tr>",
                            "<tr><td>1993</td><td>Michael</td><td>49554</td></tr>",
                            "<tr><td>1992</td><td>Michael</td><td>54397</td></tr>",
                            "<tr><td>1991</td><td>Michael</td><td>60793</td></tr>",
                            "<tr><td>1990</td><td>Michael</td><td>65302</td></tr>",
                            "<tr><td>1989</td><td>Michael</td><td>65399</td></tr>",
                            "<tr><td>1988</td><td>Michael</td><td>64150</td></tr>",
                            "<tr><td>1987</td><td>Michael</td><td>63654</td></tr>",
                            "<tr><td>1986</td><td>Michael</td><td>64224</td></tr>",
                            "<tr><td>1985</td><td>Michael</td><td>64924</td></tr>",
                            "<tr><td>1984</td><td>Michael</td><td>67745</td></tr>",
                            "<tr><td>1983</td><td>Michael</td><td>68010</td></tr>",
                            "<tr><td>1982</td><td>Michael</td><td>68244</td></tr>",
                            "<tr><td>1981</td><td>Michael</td><td>68776</td></tr>",
                            "<tr><td>1980</td><td>Michael</td><td>68704</td></tr>",
                            "<tr><td>1979</td><td>Michael</td><td>67742</td></tr>",
                            "<tr><td>1978</td><td>Michael</td><td>67157</td></tr>",
                            "<tr><td>1977</td><td>Michael</td><td>67609</td></tr>",
                            "<tr><td>1976</td><td>Michael</td><td>66947</td></tr>",
                            "<tr><td>1975</td><td>Michael</td><td>68451</td></tr>",
                            "<tr><td>1974</td><td>Michael</td><td>67580</td></tr>",
                            "<tr><td>1973</td><td>Michael</td><td>67842</td></tr>",
                            "<tr><td>1972</td><td>Michael</td><td>71401</td></tr>",
                            "<tr><td>1971</td><td>Michael</td><td>77599</td></tr>",
                            "<tr><td>1970</td><td>Michael</td><td>85291</td></tr>",
                            "<tr><td>1969</td><td>Michael</td><td>85201</td></tr>",
                            "<tr><td>1968</td><td>Michael</td><td>81995</td></tr>",
                            "<tr><td>1967</td><td>Michael</td><td>82440</td></tr>",
                            "<tr><td>1966</td><td>Michael</td><td>79990</td></tr>",
                            "<tr><td>1965</td><td>Michael</td><td>81021</td></tr>",
                            "<tr><td>1964</td><td>Michael</td><td>82642</td></tr>",
                            "<tr><td>1963</td><td>Michael</td><td>83778</td></tr>",
                            "<tr><td>1962</td><td>Michael</td><td>85041</td></tr>",
                            "<tr><td>1961</td><td>Michael</td><td>86917</td></tr>",
                            "<tr><td>1960</td><td>David</td><td>85933</td></tr>",
                            "<tr><td>1959</td><td>Michael</td><td>85224</td></tr>",
                            "<tr><td>1958</td><td>Michael</td><td>90564</td></tr>",
                            "<tr><td>1957</td><td>Michael</td><td>92718</td></tr>",
                            "<tr><td>1956</td><td>Michael</td><td>90665</td></tr>",
                            "<tr><td>1955</td><td>Michael</td><td>88372</td></tr>",
                            "<tr><td>1954</td><td>Michael</td><td>88576</td></tr>",
                            "<tr><td>1953</td><td>Robert</td><td>86247</td></tr>",
                            "<tr><td>1952</td><td>James</td><td>87063</td></tr>",
                            "<tr><td>1951</td><td>James</td><td>87261</td></tr>",
                            "<tr><td>1950</td><td>James</td><td>86229</td></tr>",
                            "<tr><td>1949</td><td>James</td><td>86865</td></tr>",
                            "<tr><td>1948</td><td>James</td><td>88589</td></tr>",
                            "<tr><td>1947</td><td>James</td><td>94764</td></tr>",
                            "<tr><td>1946</td><td>James</td><td>87439</td></tr>",
                            "<tr><td>1945</td><td>James</td><td>74460</td></tr>",
                            "<tr><td>1944</td><td>James</td><td>76954</td></tr>",
                            "<tr><td>1943</td><td>James</td><td>80274</td></tr>",
                            "<tr><td>1942</td><td>James</td><td>77174</td></tr>",
                            "<tr><td>1941</td><td>James</td><td>66743</td></tr>",
                            "<tr><td>1940</td><td>James</td><td>62476</td></tr>",
                            "<tr><td>1939</td><td>Robert</td><td>59653</td></tr>",
                            "<tr><td>1938</td><td>Robert</td><td>62269</td></tr>",
                            "<tr><td>1937</td><td>Robert</td><td>61842</td></tr>",
                            "<tr><td>1936</td><td>Robert</td><td>58499</td></tr>",
                            "<tr><td>1935</td><td>Robert</td><td>56522</td></tr>",
                            "<tr><td>1934</td><td>Robert</td><td>55834</td></tr>",
                            "<tr><td>1933</td><td>Robert</td><td>54223</td></tr>",
                            "<tr><td>1932</td><td>Robert</td><td>59265</td></tr>",
                            "<tr><td>1931</td><td>Robert</td><td>60518</td></tr>",
                            "<tr><td>1930</td><td>Robert</td><td>62149</td></tr>",
                            "<tr><td>1929</td><td>Robert</td><td>59804</td></tr>",
                            "<tr><td>1928</td><td>Robert</td><td>60703</td></tr>",
                            "<tr><td>1927</td><td>Robert</td><td>61671</td></tr>",
                            "<tr><td>1926</td><td>Robert</td><td>61130</td></tr>",
                            "<tr><td>1925</td><td>Robert</td><td>60897</td></tr>",
                            "<tr><td>1924</td><td>Robert</td><td>60801</td></tr>",
                            "<tr><td>1923</td><td>John</td><td>57469</td></tr>",
                            "<tr><td>1922</td><td>John</td><td>57280</td></tr>",
                            "<tr><td>1921</td><td>John</td><td>58215</td></tr>",
                            "<tr><td>1920</td><td>John</td><td>56914</td></tr>",
                            "</table>"
                        ]
                    }
                }
            ],
            "execution_count": 32
        },
        {
            "cell_type": "markdown",
            "source": [
                "## 8. The most years at number one\n",
                "<p>Noah and Liam have ruled the roost in the last few years, but if we scroll down in the results, it looks like Michael and Jacob have also spent a good number of years as the top name! Which name has been number one for the largest number of years? Let's use a common table expression to find out. </p>"
            ],
            "metadata": {
                "dc": {
                    "key": "57"
                },
                "deletable": false,
                "editable": false,
                "run_control": {
                    "frozen": true
                },
                "tags": [
                    "context"
                ],
                "azdata_cell_guid": "0c872002-e4cc-4295-ae75-dbb033d09634"
            }
        },
        {
            "cell_type": "code",
            "source": [
                "WITH top_male_names AS (\n",
                "    SELECT b.year, b.first_name, b.num\n",
                "    FROM Projects.dbo.usa_baby_names AS b\n",
                "    INNER JOIN (\n",
                "        SELECT year, MAX(num) num\n",
                "        FROM Projects.dbo.usa_baby_names\n",
                "        WHERE sex = 'M'\n",
                "        GROUP BY year) AS subquery \n",
                "    ON subquery.year = b.year \n",
                "        AND subquery.num = b.num\n",
                ")\n",
                "\n",
                "SELECT\n",
                "    tmn.first_name,\n",
                "    COUNT(tmn.first_name) AS count_top_name\n",
                "FROM top_male_names AS tmn\n",
                "GROUP BY tmn.first_name\n",
                "ORDER BY count_top_name DESC"
            ],
            "metadata": {
                "dc": {
                    "key": "57"
                },
                "tags": [
                    "sample_code"
                ],
                "azdata_cell_guid": "1ec466af-dedf-4c97-8683-dbadfd29aba9",
                "language": "sql"
            },
            "outputs": [
                {
                    "output_type": "display_data",
                    "data": {
                        "text/html": "(8 rows affected)"
                    },
                    "metadata": {}
                },
                {
                    "output_type": "display_data",
                    "data": {
                        "text/html": "Total execution time: 00:00:00.021"
                    },
                    "metadata": {}
                },
                {
                    "output_type": "execute_result",
                    "metadata": {},
                    "execution_count": 33,
                    "data": {
                        "application/vnd.dataresource+json": {
                            "schema": {
                                "fields": [
                                    {
                                        "name": "first_name"
                                    },
                                    {
                                        "name": "count_top_name"
                                    }
                                ]
                            },
                            "data": [
                                {
                                    "first_name": "Michael",
                                    "count_top_name": "44"
                                },
                                {
                                    "first_name": "Robert",
                                    "count_top_name": "17"
                                },
                                {
                                    "first_name": "Jacob",
                                    "count_top_name": "14"
                                },
                                {
                                    "first_name": "James",
                                    "count_top_name": "13"
                                },
                                {
                                    "first_name": "John",
                                    "count_top_name": "4"
                                },
                                {
                                    "first_name": "Liam",
                                    "count_top_name": "4"
                                },
                                {
                                    "first_name": "Noah",
                                    "count_top_name": "4"
                                },
                                {
                                    "first_name": "David",
                                    "count_top_name": "1"
                                }
                            ]
                        },
                        "text/html": [
                            "<table>",
                            "<tr><th>first_name</th><th>count_top_name</th></tr>",
                            "<tr><td>Michael</td><td>44</td></tr>",
                            "<tr><td>Robert</td><td>17</td></tr>",
                            "<tr><td>Jacob</td><td>14</td></tr>",
                            "<tr><td>James</td><td>13</td></tr>",
                            "<tr><td>John</td><td>4</td></tr>",
                            "<tr><td>Liam</td><td>4</td></tr>",
                            "<tr><td>Noah</td><td>4</td></tr>",
                            "<tr><td>David</td><td>1</td></tr>",
                            "</table>"
                        ]
                    }
                }
            ],
            "execution_count": 33
        }
    ]
}