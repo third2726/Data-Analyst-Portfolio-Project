{
    "metadata": {
        "kernelspec": {
            "name": "SQL",
            "display_name": "SQL",
            "language": "sql"
        },
        "language_info": {
            "name": "sql",
            "version": ""
        }
    },
    "nbformat_minor": 2,
    "nbformat": 4,
    "cells": [
        {
            "cell_type": "markdown",
            "source": [
                "# **Exploratory Data Analysis using SQL**"
            ],
            "metadata": {
                "azdata_cell_guid": "250fc2bf-5901-4379-b3f2-06cfde8494c9"
            },
            "attachments": {}
        },
        {
            "cell_type": "markdown",
            "source": [
                "## Analyzing Apple App Store Datasets\n",
                "\n",
                "The project is centered around conducting in-depth exploratory data analysis using SQL to provide valuable insights and actionable recommendations specifically catered to app developers."
            ],
            "metadata": {
                "azdata_cell_guid": "23884800-8220-4857-bcba-c3c9785ff567"
            },
            "attachments": {}
        },
        {
            "cell_type": "markdown",
            "source": [
                "check the number of unique apps in both tables"
            ],
            "metadata": {
                "azdata_cell_guid": "d6e6b93f-e22c-4e3b-b52e-b4f2e7cc20f0"
            },
            "attachments": {}
        },
        {
            "cell_type": "code",
            "source": [
                "--displays the number of unique value in the column id from the table AppleStore\n",
                "SELECT \n",
                "    COUNT(DISTINCT id) AS UniqueAppsIDs\n",
                "FROM \n",
                "    Projects.dbo.AppleStore\n",
                "\n",
                "----displays the number of unique value in the column id from the table appleStore_description\n",
                "SELECT \n",
                "    COUNT(DISTINCT id) AS UniqueAppsIDs\n",
                "FROM \n",
                "    Projects.dbo.appleStore_description"
            ],
            "metadata": {
                "azdata_cell_guid": "3e1f3a77-4024-4454-8191-dc9d4d955ffc",
                "language": "sql"
            },
            "outputs": [
                {
                    "output_type": "display_data",
                    "data": {
                        "text/html": "(1 row affected)"
                    },
                    "metadata": {}
                },
                {
                    "output_type": "display_data",
                    "data": {
                        "text/html": "(1 row affected)"
                    },
                    "metadata": {}
                },
                {
                    "output_type": "display_data",
                    "data": {
                        "text/html": "Total execution time: 00:00:00.090"
                    },
                    "metadata": {}
                },
                {
                    "output_type": "execute_result",
                    "metadata": {},
                    "execution_count": 1,
                    "data": {
                        "application/vnd.dataresource+json": {
                            "schema": {
                                "fields": [
                                    {
                                        "name": "UniqueAppsIDs"
                                    }
                                ]
                            },
                            "data": [
                                {
                                    "UniqueAppsIDs": "7197"
                                }
                            ]
                        },
                        "text/html": [
                            "<table>",
                            "<tr><th>UniqueAppsIDs</th></tr>",
                            "<tr><td>7197</td></tr>",
                            "</table>"
                        ]
                    }
                },
                {
                    "output_type": "execute_result",
                    "metadata": {},
                    "execution_count": 1,
                    "data": {
                        "application/vnd.dataresource+json": {
                            "schema": {
                                "fields": [
                                    {
                                        "name": "UniqueAppsIDs"
                                    }
                                ]
                            },
                            "data": [
                                {
                                    "UniqueAppsIDs": "7197"
                                }
                            ]
                        },
                        "text/html": [
                            "<table>",
                            "<tr><th>UniqueAppsIDs</th></tr>",
                            "<tr><td>7197</td></tr>",
                            "</table>"
                        ]
                    }
                }
            ],
            "execution_count": 1
        },
        {
            "cell_type": "markdown",
            "source": [
                "check for any missing values in key fields"
            ],
            "metadata": {
                "azdata_cell_guid": "c399e98a-f4bb-42eb-b942-ebccb6682296",
                "language": "sql"
            },
            "attachments": {}
        },
        {
            "cell_type": "code",
            "source": [
                "--display the number of missing values on track_name, user_rating, and prime_genre columns on AppleStore table\n",
                "SELECT \n",
                "    COUNT(*) AS MissingValues\n",
                "FROM   \n",
                "    Projects.dbo.AppleStore\n",
                "WHERE \n",
                "    track_name IS NULL OR user_rating IS NULL OR prime_genre IS NULL\n",
                "\n",
                "--display the number of missing values on app_desc column on appleStore_description table\n",
                "SELECT \n",
                "    COUNT(*) AS MissingValues\n",
                "FROM   \n",
                "    Projects.dbo.appleStore_description\n",
                "WHERE \n",
                "    app_desc IS NULL "
            ],
            "metadata": {
                "azdata_cell_guid": "602eef9a-feb2-47d9-a5d3-07d62689d104",
                "language": "sql",
                "tags": []
            },
            "outputs": [
                {
                    "output_type": "display_data",
                    "data": {
                        "text/html": "(1 row affected)"
                    },
                    "metadata": {}
                },
                {
                    "output_type": "display_data",
                    "data": {
                        "text/html": "(1 row affected)"
                    },
                    "metadata": {}
                },
                {
                    "output_type": "display_data",
                    "data": {
                        "text/html": "Total execution time: 00:00:00.151"
                    },
                    "metadata": {}
                },
                {
                    "output_type": "execute_result",
                    "metadata": {},
                    "execution_count": 2,
                    "data": {
                        "application/vnd.dataresource+json": {
                            "schema": {
                                "fields": [
                                    {
                                        "name": "MissingValues"
                                    }
                                ]
                            },
                            "data": [
                                {
                                    "MissingValues": "0"
                                }
                            ]
                        },
                        "text/html": [
                            "<table>",
                            "<tr><th>MissingValues</th></tr>",
                            "<tr><td>0</td></tr>",
                            "</table>"
                        ]
                    }
                },
                {
                    "output_type": "execute_result",
                    "metadata": {},
                    "execution_count": 2,
                    "data": {
                        "application/vnd.dataresource+json": {
                            "schema": {
                                "fields": [
                                    {
                                        "name": "MissingValues"
                                    }
                                ]
                            },
                            "data": [
                                {
                                    "MissingValues": "0"
                                }
                            ]
                        },
                        "text/html": [
                            "<table>",
                            "<tr><th>MissingValues</th></tr>",
                            "<tr><td>0</td></tr>",
                            "</table>"
                        ]
                    }
                }
            ],
            "execution_count": 2
        },
        {
            "cell_type": "markdown",
            "source": [
                "find out the number of apps per genre"
            ],
            "metadata": {
                "azdata_cell_guid": "b482bf43-7b6e-4302-8a5f-d285c76a445d",
                "language": "sql"
            },
            "attachments": {}
        },
        {
            "cell_type": "code",
            "source": [
                "--displays the number of apps per genre in descending order\n",
                "SELECT\n",
                "    prime_genre,\n",
                "    COUNT(id) AS NumberOfApps\n",
                "FROM\n",
                "    Projects.dbo.AppleStore\n",
                "GROUP BY \n",
                "    prime_genre\n",
                "ORDER BY \n",
                "    NumberOfApps DESC"
            ],
            "metadata": {
                "azdata_cell_guid": "df64f910-ee9c-462e-99f5-853ca3fc5a21",
                "language": "sql"
            },
            "outputs": [
                {
                    "output_type": "display_data",
                    "data": {
                        "text/html": "(23 rows affected)"
                    },
                    "metadata": {}
                },
                {
                    "output_type": "display_data",
                    "data": {
                        "text/html": "Total execution time: 00:00:00.012"
                    },
                    "metadata": {}
                },
                {
                    "output_type": "execute_result",
                    "metadata": {},
                    "execution_count": 3,
                    "data": {
                        "application/vnd.dataresource+json": {
                            "schema": {
                                "fields": [
                                    {
                                        "name": "prime_genre"
                                    },
                                    {
                                        "name": "NumberOfApps"
                                    }
                                ]
                            },
                            "data": [
                                {
                                    "prime_genre": "Games",
                                    "NumberOfApps": "3862"
                                },
                                {
                                    "prime_genre": "Entertainment",
                                    "NumberOfApps": "535"
                                },
                                {
                                    "prime_genre": "Education",
                                    "NumberOfApps": "453"
                                },
                                {
                                    "prime_genre": "Photo & Video",
                                    "NumberOfApps": "349"
                                },
                                {
                                    "prime_genre": "Utilities",
                                    "NumberOfApps": "248"
                                },
                                {
                                    "prime_genre": "Health & Fitness",
                                    "NumberOfApps": "180"
                                },
                                {
                                    "prime_genre": "Productivity",
                                    "NumberOfApps": "178"
                                },
                                {
                                    "prime_genre": "Social Networking",
                                    "NumberOfApps": "167"
                                },
                                {
                                    "prime_genre": "Lifestyle",
                                    "NumberOfApps": "144"
                                },
                                {
                                    "prime_genre": "Music",
                                    "NumberOfApps": "138"
                                },
                                {
                                    "prime_genre": "Shopping",
                                    "NumberOfApps": "122"
                                },
                                {
                                    "prime_genre": "Sports",
                                    "NumberOfApps": "114"
                                },
                                {
                                    "prime_genre": "Book",
                                    "NumberOfApps": "112"
                                },
                                {
                                    "prime_genre": "Finance",
                                    "NumberOfApps": "104"
                                },
                                {
                                    "prime_genre": "Travel",
                                    "NumberOfApps": "81"
                                },
                                {
                                    "prime_genre": "News",
                                    "NumberOfApps": "75"
                                },
                                {
                                    "prime_genre": "Weather",
                                    "NumberOfApps": "72"
                                },
                                {
                                    "prime_genre": "Reference",
                                    "NumberOfApps": "64"
                                },
                                {
                                    "prime_genre": "Food & Drink",
                                    "NumberOfApps": "63"
                                },
                                {
                                    "prime_genre": "Business",
                                    "NumberOfApps": "57"
                                },
                                {
                                    "prime_genre": "Navigation",
                                    "NumberOfApps": "46"
                                },
                                {
                                    "prime_genre": "Medical",
                                    "NumberOfApps": "23"
                                },
                                {
                                    "prime_genre": "Catalogs",
                                    "NumberOfApps": "10"
                                }
                            ]
                        },
                        "text/html": [
                            "<table>",
                            "<tr><th>prime_genre</th><th>NumberOfApps</th></tr>",
                            "<tr><td>Games</td><td>3862</td></tr>",
                            "<tr><td>Entertainment</td><td>535</td></tr>",
                            "<tr><td>Education</td><td>453</td></tr>",
                            "<tr><td>Photo &amp; Video</td><td>349</td></tr>",
                            "<tr><td>Utilities</td><td>248</td></tr>",
                            "<tr><td>Health &amp; Fitness</td><td>180</td></tr>",
                            "<tr><td>Productivity</td><td>178</td></tr>",
                            "<tr><td>Social Networking</td><td>167</td></tr>",
                            "<tr><td>Lifestyle</td><td>144</td></tr>",
                            "<tr><td>Music</td><td>138</td></tr>",
                            "<tr><td>Shopping</td><td>122</td></tr>",
                            "<tr><td>Sports</td><td>114</td></tr>",
                            "<tr><td>Book</td><td>112</td></tr>",
                            "<tr><td>Finance</td><td>104</td></tr>",
                            "<tr><td>Travel</td><td>81</td></tr>",
                            "<tr><td>News</td><td>75</td></tr>",
                            "<tr><td>Weather</td><td>72</td></tr>",
                            "<tr><td>Reference</td><td>64</td></tr>",
                            "<tr><td>Food &amp; Drink</td><td>63</td></tr>",
                            "<tr><td>Business</td><td>57</td></tr>",
                            "<tr><td>Navigation</td><td>46</td></tr>",
                            "<tr><td>Medical</td><td>23</td></tr>",
                            "<tr><td>Catalogs</td><td>10</td></tr>",
                            "</table>"
                        ]
                    }
                }
            ],
            "execution_count": 3
        },
        {
            "cell_type": "markdown",
            "source": [
                "get an overview of the apps' rating"
            ],
            "metadata": {
                "azdata_cell_guid": "ec31d0b9-f227-49bd-8515-053f5d81a627",
                "language": "sql"
            },
            "attachments": {}
        },
        {
            "cell_type": "code",
            "source": [
                "SELECT\n",
                "    MIN(user_rating) AS MinUserRating,\n",
                "    MAX(user_rating) AS MaxUserRating,\n",
                "    AVG(user_rating) AS AvgUserRating\n",
                "FROM \n",
                "    Projects.dbo.AppleStore"
            ],
            "metadata": {
                "azdata_cell_guid": "246ab7c7-b5f0-47de-b519-74dfc2d1dc7d",
                "language": "sql"
            },
            "outputs": [
                {
                    "output_type": "display_data",
                    "data": {
                        "text/html": "(1 row affected)"
                    },
                    "metadata": {}
                },
                {
                    "output_type": "display_data",
                    "data": {
                        "text/html": "Total execution time: 00:00:00.016"
                    },
                    "metadata": {}
                },
                {
                    "output_type": "execute_result",
                    "metadata": {},
                    "execution_count": 4,
                    "data": {
                        "application/vnd.dataresource+json": {
                            "schema": {
                                "fields": [
                                    {
                                        "name": "MinUserRating"
                                    },
                                    {
                                        "name": "MaxUserRating"
                                    },
                                    {
                                        "name": "AvgUserRating"
                                    }
                                ]
                            },
                            "data": [
                                {
                                    "MinUserRating": "0",
                                    "MaxUserRating": "5",
                                    "AvgUserRating": "3.526955675976101"
                                }
                            ]
                        },
                        "text/html": [
                            "<table>",
                            "<tr><th>MinUserRating</th><th>MaxUserRating</th><th>AvgUserRating</th></tr>",
                            "<tr><td>0</td><td>5</td><td>3.526955675976101</td></tr>",
                            "</table>"
                        ]
                    }
                }
            ],
            "execution_count": 4
        },
        {
            "cell_type": "markdown",
            "source": [
                "Determine whether paid apps have higher ratings than free apps"
            ],
            "metadata": {
                "azdata_cell_guid": "e0c70b94-9107-4ca0-9c85-f68a8e25bf15",
                "language": "sql"
            },
            "attachments": {}
        },
        {
            "cell_type": "code",
            "source": [
                "--get each average rating of paid and free apps\n",
                "SELECT\n",
                "    CASE \n",
                "        WHEN price > 0 THEN 'Paid'\n",
                "        ELSE 'Free' \n",
                "    END AS App_Type,\n",
                "    AVG(user_rating) AS AvgRating\n",
                "FROM \n",
                "    Projects.dbo.AppleStore\n",
                "--repeating same case expression because App_Type doesn't get recognize in group by section\n",
                "GROUP BY\n",
                "    CASE \n",
                "        WHEN price > 0 THEN 'Paid'\n",
                "        ELSE 'Free' \n",
                "    END"
            ],
            "metadata": {
                "azdata_cell_guid": "8423b9de-36e3-4b53-92b4-51ccd8d09ef7",
                "language": "sql",
                "tags": []
            },
            "outputs": [
                {
                    "output_type": "display_data",
                    "data": {
                        "text/html": "(2 rows affected)"
                    },
                    "metadata": {}
                },
                {
                    "output_type": "display_data",
                    "data": {
                        "text/html": "Total execution time: 00:00:00.034"
                    },
                    "metadata": {}
                },
                {
                    "output_type": "execute_result",
                    "metadata": {},
                    "execution_count": 5,
                    "data": {
                        "application/vnd.dataresource+json": {
                            "schema": {
                                "fields": [
                                    {
                                        "name": "App_Type"
                                    },
                                    {
                                        "name": "AvgRating"
                                    }
                                ]
                            },
                            "data": [
                                {
                                    "App_Type": "Paid",
                                    "AvgRating": "3.720948742438714"
                                },
                                {
                                    "App_Type": "Free",
                                    "AvgRating": "3.3767258382642997"
                                }
                            ]
                        },
                        "text/html": [
                            "<table>",
                            "<tr><th>App_Type</th><th>AvgRating</th></tr>",
                            "<tr><td>Paid</td><td>3.720948742438714</td></tr>",
                            "<tr><td>Free</td><td>3.3767258382642997</td></tr>",
                            "</table>"
                        ]
                    }
                }
            ],
            "execution_count": 5
        },
        {
            "cell_type": "markdown",
            "source": [
                "check if apps with more supported languages have higher ratings "
            ],
            "metadata": {
                "azdata_cell_guid": "6970a246-ecbd-4b52-9038-3d691eb8bda9",
                "language": "sql"
            },
            "attachments": {}
        },
        {
            "cell_type": "code",
            "source": [
                "-- CTE named LanguageBracketCTE calculates the LanguageBracket using the CASE expression and includes the user_rating column.\n",
                "WITH LanguageBracketCTE AS (\n",
                "    SELECT \n",
                "        CASE\n",
                "            WHEN lang_num < 10 THEN '<10 languages'\n",
                "            WHEN lang_num BETWEEN 10 AND 30 THEN '10 - 30 Languages'\n",
                "            ELSE '>30 languages'\n",
                "        END AS LanguageBracket,\n",
                "        user_rating\n",
                "    FROM \n",
                "        Projects.dbo.AppleStore\n",
                ")\n",
                "--The main SELECT statement then performs the aggregation on the LanguageBracket column and calculates the average user rating for each bracket.\n",
                "SELECT\n",
                "    LanguageBracket,\n",
                "    AVG(user_rating) AS AvgRating\n",
                "FROM \n",
                "    LanguageBracketCTE\n",
                "GROUP BY \n",
                "    LanguageBracket\n",
                "ORDER BY \n",
                "    AvgRating DESC;"
            ],
            "metadata": {
                "azdata_cell_guid": "aeb6c481-8f98-464e-9467-c725fc7875b6",
                "language": "sql",
                "tags": []
            },
            "outputs": [
                {
                    "output_type": "display_data",
                    "data": {
                        "text/html": "(3 rows affected)"
                    },
                    "metadata": {}
                },
                {
                    "output_type": "display_data",
                    "data": {
                        "text/html": "Total execution time: 00:00:00.046"
                    },
                    "metadata": {}
                },
                {
                    "output_type": "execute_result",
                    "metadata": {},
                    "execution_count": 6,
                    "data": {
                        "application/vnd.dataresource+json": {
                            "schema": {
                                "fields": [
                                    {
                                        "name": "LanguageBracket"
                                    },
                                    {
                                        "name": "AvgRating"
                                    }
                                ]
                            },
                            "data": [
                                {
                                    "LanguageBracket": "10 - 30 Languages",
                                    "AvgRating": "4.1305120910384066"
                                },
                                {
                                    "LanguageBracket": ">30 languages",
                                    "AvgRating": "3.7777777777777777"
                                },
                                {
                                    "LanguageBracket": "<10 languages",
                                    "AvgRating": "3.368327402135231"
                                }
                            ]
                        },
                        "text/html": [
                            "<table>",
                            "<tr><th>LanguageBracket</th><th>AvgRating</th></tr>",
                            "<tr><td>10 - 30 Languages</td><td>4.1305120910384066</td></tr>",
                            "<tr><td>&gt;30 languages</td><td>3.7777777777777777</td></tr>",
                            "<tr><td>&lt;10 languages</td><td>3.368327402135231</td></tr>",
                            "</table>"
                        ]
                    }
                }
            ],
            "execution_count": 6
        },
        {
            "cell_type": "markdown",
            "source": [
                "check genres with low ratings"
            ],
            "metadata": {
                "azdata_cell_guid": "a3999786-7552-4a2d-ab35-63852250cbdc",
                "language": "sql"
            },
            "attachments": {}
        },
        {
            "cell_type": "code",
            "source": [
                "SELECT TOP 10\n",
                "    prime_genre,\n",
                "    AVG(user_rating) AS AvgRating\n",
                "FROM \n",
                "    Projects.dbo.AppleStore\n",
                "GROUP BY\n",
                "    prime_genre\n",
                "ORDER BY \n",
                "    AvgRating"
            ],
            "metadata": {
                "azdata_cell_guid": "3687be1f-a5f0-4be2-9d66-2fbbf0941e2e",
                "language": "sql",
                "tags": []
            },
            "outputs": [
                {
                    "output_type": "display_data",
                    "data": {
                        "text/html": "(10 rows affected)"
                    },
                    "metadata": {}
                },
                {
                    "output_type": "display_data",
                    "data": {
                        "text/html": "Total execution time: 00:00:00.025"
                    },
                    "metadata": {}
                },
                {
                    "output_type": "execute_result",
                    "metadata": {},
                    "execution_count": 7,
                    "data": {
                        "application/vnd.dataresource+json": {
                            "schema": {
                                "fields": [
                                    {
                                        "name": "prime_genre"
                                    },
                                    {
                                        "name": "AvgRating"
                                    }
                                ]
                            },
                            "data": [
                                {
                                    "prime_genre": "Catalogs",
                                    "AvgRating": "2.1"
                                },
                                {
                                    "prime_genre": "Finance",
                                    "AvgRating": "2.4326923076923075"
                                },
                                {
                                    "prime_genre": "Book",
                                    "AvgRating": "2.4776785714285716"
                                },
                                {
                                    "prime_genre": "Navigation",
                                    "AvgRating": "2.6847826086956523"
                                },
                                {
                                    "prime_genre": "Lifestyle",
                                    "AvgRating": "2.8055555555555554"
                                },
                                {
                                    "prime_genre": "News",
                                    "AvgRating": "2.98"
                                },
                                {
                                    "prime_genre": "Sports",
                                    "AvgRating": "2.982456140350877"
                                },
                                {
                                    "prime_genre": "Social Networking",
                                    "AvgRating": "2.9850299401197606"
                                },
                                {
                                    "prime_genre": "Food & Drink",
                                    "AvgRating": "3.1825396825396823"
                                },
                                {
                                    "prime_genre": "Entertainment",
                                    "AvgRating": "3.2467289719626167"
                                }
                            ]
                        },
                        "text/html": [
                            "<table>",
                            "<tr><th>prime_genre</th><th>AvgRating</th></tr>",
                            "<tr><td>Catalogs</td><td>2.1</td></tr>",
                            "<tr><td>Finance</td><td>2.4326923076923075</td></tr>",
                            "<tr><td>Book</td><td>2.4776785714285716</td></tr>",
                            "<tr><td>Navigation</td><td>2.6847826086956523</td></tr>",
                            "<tr><td>Lifestyle</td><td>2.8055555555555554</td></tr>",
                            "<tr><td>News</td><td>2.98</td></tr>",
                            "<tr><td>Sports</td><td>2.982456140350877</td></tr>",
                            "<tr><td>Social Networking</td><td>2.9850299401197606</td></tr>",
                            "<tr><td>Food &amp; Drink</td><td>3.1825396825396823</td></tr>",
                            "<tr><td>Entertainment</td><td>3.2467289719626167</td></tr>",
                            "</table>"
                        ]
                    }
                }
            ],
            "execution_count": 7
        },
        {
            "cell_type": "markdown",
            "source": [
                "check if there is a correlation between the length of the app description and the user rating"
            ],
            "metadata": {
                "azdata_cell_guid": "eeefbe79-ccd5-409f-852e-f0a9436b5b23",
                "language": "sql"
            },
            "attachments": {}
        },
        {
            "cell_type": "code",
            "source": [
                "--the CTE named DescriptionLengthCTE calculates the DescLengthBracket using the CASE expression and includes the id column\n",
                "WITH DescriptionLengthCTE AS (\n",
                "    SELECT \n",
                "        CASE \n",
                "            WHEN LEN(app_desc) < 500 THEN 'Short'\n",
                "            WHEN LEN(app_desc) BETWEEN 500 AND 1000 THEN 'Medium'\n",
                "            ELSE 'Long'\n",
                "        END AS DescLengthBracket,\n",
                "        id\n",
                "    FROM \n",
                "        Projects.dbo.appleStore_description\n",
                ")\n",
                "--The main SELECT statement then performs the aggregation on the DescLengthBracket column and calculates the average user rating for each description length bracket\n",
                "SELECT\n",
                "    DescLengthBracket,\n",
                "    AVG(S.user_rating) AS AvgRating\n",
                "FROM \n",
                "    DescriptionLengthCTE D\n",
                "JOIN Projects.dbo.AppleStore AS S\n",
                "ON D.id = S.id\n",
                "GROUP BY \n",
                "    DescLengthBracket\n",
                "ORDER BY \n",
                "    AvgRating"
            ],
            "metadata": {
                "azdata_cell_guid": "df0c7de2-0e8a-4941-b126-0123adc165e3",
                "language": "sql"
            },
            "outputs": [
                {
                    "output_type": "display_data",
                    "data": {
                        "text/html": "(3 rows affected)"
                    },
                    "metadata": {}
                },
                {
                    "output_type": "display_data",
                    "data": {
                        "text/html": "Total execution time: 00:00:00.068"
                    },
                    "metadata": {}
                },
                {
                    "output_type": "execute_result",
                    "metadata": {},
                    "execution_count": 8,
                    "data": {
                        "application/vnd.dataresource+json": {
                            "schema": {
                                "fields": [
                                    {
                                        "name": "DescLengthBracket"
                                    },
                                    {
                                        "name": "AvgRating"
                                    }
                                ]
                            },
                            "data": [
                                {
                                    "DescLengthBracket": "Short",
                                    "AvgRating": "2.533613445378151"
                                },
                                {
                                    "DescLengthBracket": "Medium",
                                    "AvgRating": "3.232809430255403"
                                },
                                {
                                    "DescLengthBracket": "Long",
                                    "AvgRating": "3.855946944988041"
                                }
                            ]
                        },
                        "text/html": [
                            "<table>",
                            "<tr><th>DescLengthBracket</th><th>AvgRating</th></tr>",
                            "<tr><td>Short</td><td>2.533613445378151</td></tr>",
                            "<tr><td>Medium</td><td>3.232809430255403</td></tr>",
                            "<tr><td>Long</td><td>3.855946944988041</td></tr>",
                            "</table>"
                        ]
                    }
                }
            ],
            "execution_count": 8
        },
        {
            "cell_type": "markdown",
            "source": [
                "check the top-rated apps for each genre"
            ],
            "metadata": {
                "azdata_cell_guid": "c37179cc-5052-4495-b829-65389952aab6",
                "language": "sql"
            },
            "attachments": {}
        },
        {
            "cell_type": "code",
            "source": [
                "SELECT\n",
                "    prime_genre,\n",
                "    track_name,\n",
                "    user_rating\n",
                "FROM (\n",
                "        SELECT \n",
                "            prime_genre,\n",
                "            track_name,\n",
                "            user_rating,\n",
                "            RANK() OVER (PARTITION BY prime_genre ORDER BY user_rating DESC, rating_count_tot DESC) AS rank \n",
                "        FROM \n",
                "            Projects.dbo.AppleStore\n",
                "     ) AS a \n",
                "WHERE \n",
                "    a.rank = 1"
            ],
            "metadata": {
                "azdata_cell_guid": "9aafddb1-7b8d-440c-a070-659d3162a078",
                "language": "sql"
            },
            "outputs": [
                {
                    "output_type": "display_data",
                    "data": {
                        "text/html": "(23 rows affected)"
                    },
                    "metadata": {}
                },
                {
                    "output_type": "display_data",
                    "data": {
                        "text/html": "Total execution time: 00:00:00.038"
                    },
                    "metadata": {}
                },
                {
                    "output_type": "execute_result",
                    "metadata": {},
                    "execution_count": 9,
                    "data": {
                        "application/vnd.dataresource+json": {
                            "schema": {
                                "fields": [
                                    {
                                        "name": "prime_genre"
                                    },
                                    {
                                        "name": "track_name"
                                    },
                                    {
                                        "name": "user_rating"
                                    }
                                ]
                            },
                            "data": [
                                {
                                    "prime_genre": "Book",
                                    "track_name": "Color Therapy Adult Coloring Book for Adults",
                                    "user_rating": "5"
                                },
                                {
                                    "prime_genre": "Business",
                                    "track_name": "TurboScan™ Pro - document & receipt scanner: scan multiple pages and photos to PDF",
                                    "user_rating": "5"
                                },
                                {
                                    "prime_genre": "Catalogs",
                                    "track_name": "CPlus for Craigslist app - mobile classifieds",
                                    "user_rating": "5"
                                },
                                {
                                    "prime_genre": "Education",
                                    "track_name": "Elevate - Brain Training and Games",
                                    "user_rating": "5"
                                },
                                {
                                    "prime_genre": "Entertainment",
                                    "track_name": "Bruh-Button",
                                    "user_rating": "5"
                                },
                                {
                                    "prime_genre": "Finance",
                                    "track_name": "Credit Karma: Free Credit Scores, Reports & Alerts",
                                    "user_rating": "5"
                                },
                                {
                                    "prime_genre": "Food & Drink",
                                    "track_name": "Domino's Pizza USA",
                                    "user_rating": "5"
                                },
                                {
                                    "prime_genre": "Games",
                                    "track_name": "Head Soccer",
                                    "user_rating": "5"
                                },
                                {
                                    "prime_genre": "Health & Fitness",
                                    "track_name": "Yoga Studio",
                                    "user_rating": "5"
                                },
                                {
                                    "prime_genre": "Lifestyle",
                                    "track_name": "ipsy - Makeup, subscription and beauty tips",
                                    "user_rating": "5"
                                },
                                {
                                    "prime_genre": "Medical",
                                    "track_name": "Blink Health",
                                    "user_rating": "5"
                                },
                                {
                                    "prime_genre": "Music",
                                    "track_name": "Tenuto",
                                    "user_rating": "5"
                                },
                                {
                                    "prime_genre": "Navigation",
                                    "track_name": "parkOmator – for Apple Watch meter expiration timer, notifications & GPS navigator to car location",
                                    "user_rating": "5"
                                },
                                {
                                    "prime_genre": "News",
                                    "track_name": "The Guardian",
                                    "user_rating": "5"
                                },
                                {
                                    "prime_genre": "Photo & Video",
                                    "track_name": "Pic Collage - Picture Editor & Photo Collage Maker",
                                    "user_rating": "5"
                                },
                                {
                                    "prime_genre": "Productivity",
                                    "track_name": "VPN Proxy Master - Unlimited WiFi security VPN",
                                    "user_rating": "5"
                                },
                                {
                                    "prime_genre": "Reference",
                                    "track_name": "Sky Guide: View Stars Night or Day",
                                    "user_rating": "5"
                                },
                                {
                                    "prime_genre": "Shopping",
                                    "track_name": "Zappos: shop shoes & clothes, fast free shipping",
                                    "user_rating": "5"
                                },
                                {
                                    "prime_genre": "Social Networking",
                                    "track_name": "We Heart It - Fashion, wallpapers, quotes, tattoos",
                                    "user_rating": "5"
                                },
                                {
                                    "prime_genre": "Sports",
                                    "track_name": "J23 - Jordan Release Dates and History",
                                    "user_rating": "5"
                                },
                                {
                                    "prime_genre": "Travel",
                                    "track_name": "Urlaubspiraten",
                                    "user_rating": "5"
                                },
                                {
                                    "prime_genre": "Utilities",
                                    "track_name": "Flashlight Ⓞ",
                                    "user_rating": "5"
                                },
                                {
                                    "prime_genre": "Weather",
                                    "track_name": "NOAA Hi-Def Radar Pro -  Storm Warnings, Hurricane Tracker & Weather Forecast",
                                    "user_rating": "5"
                                }
                            ]
                        },
                        "text/html": [
                            "<table>",
                            "<tr><th>prime_genre</th><th>track_name</th><th>user_rating</th></tr>",
                            "<tr><td>Book</td><td>Color Therapy Adult Coloring Book for Adults</td><td>5</td></tr>",
                            "<tr><td>Business</td><td>TurboScan™ Pro - document &amp; receipt scanner: scan multiple pages and photos to PDF</td><td>5</td></tr>",
                            "<tr><td>Catalogs</td><td>CPlus for Craigslist app - mobile classifieds</td><td>5</td></tr>",
                            "<tr><td>Education</td><td>Elevate - Brain Training and Games</td><td>5</td></tr>",
                            "<tr><td>Entertainment</td><td>Bruh-Button</td><td>5</td></tr>",
                            "<tr><td>Finance</td><td>Credit Karma: Free Credit Scores, Reports &amp; Alerts</td><td>5</td></tr>",
                            "<tr><td>Food &amp; Drink</td><td>Domino&#39;s Pizza USA</td><td>5</td></tr>",
                            "<tr><td>Games</td><td>Head Soccer</td><td>5</td></tr>",
                            "<tr><td>Health &amp; Fitness</td><td>Yoga Studio</td><td>5</td></tr>",
                            "<tr><td>Lifestyle</td><td>ipsy - Makeup, subscription and beauty tips</td><td>5</td></tr>",
                            "<tr><td>Medical</td><td>Blink Health</td><td>5</td></tr>",
                            "<tr><td>Music</td><td>Tenuto</td><td>5</td></tr>",
                            "<tr><td>Navigation</td><td>parkOmator – for Apple Watch meter expiration timer, notifications &amp; GPS navigator to car location</td><td>5</td></tr>",
                            "<tr><td>News</td><td>The Guardian</td><td>5</td></tr>",
                            "<tr><td>Photo &amp; Video</td><td>Pic Collage - Picture Editor &amp; Photo Collage Maker</td><td>5</td></tr>",
                            "<tr><td>Productivity</td><td>VPN Proxy Master - Unlimited WiFi security VPN</td><td>5</td></tr>",
                            "<tr><td>Reference</td><td>Sky Guide: View Stars Night or Day</td><td>5</td></tr>",
                            "<tr><td>Shopping</td><td>Zappos: shop shoes &amp; clothes, fast free shipping</td><td>5</td></tr>",
                            "<tr><td>Social Networking</td><td>We Heart It - Fashion, wallpapers, quotes, tattoos</td><td>5</td></tr>",
                            "<tr><td>Sports</td><td>J23 - Jordan Release Dates and History</td><td>5</td></tr>",
                            "<tr><td>Travel</td><td>Urlaubspiraten</td><td>5</td></tr>",
                            "<tr><td>Utilities</td><td>Flashlight Ⓞ</td><td>5</td></tr>",
                            "<tr><td>Weather</td><td>NOAA Hi-Def Radar Pro -  Storm Warnings, Hurricane Tracker &amp; Weather Forecast</td><td>5</td></tr>",
                            "</table>"
                        ]
                    }
                }
            ],
            "execution_count": 9
        },
        {
            "cell_type": "markdown",
            "source": [
                "# **Findings**\n",
                "\n",
                "### \n",
                "\n",
                "1. <span style=\"font-family: -apple-system, BlinkMacSystemFont, sans-serif; color: var(--vscode-foreground);\">Paid apps tend to receive higher ratings from users.</span>\n",
                "\n",
                "1. <span style=\"font-family: -apple-system, BlinkMacSystemFont, sans-serif; color: var(--vscode-foreground);\">Apps that support between 10 and 30 languages generally receive better ratings.</span>\n",
                "\n",
                "1. <span style=\"font-family: -apple-system, BlinkMacSystemFont, sans-serif; color: var(--vscode-foreground);\">Finance and book genre apps tend to have lower ratings compared to other genres.</span>\n",
                "\n",
                "1. <span style=\"font-family: -apple-system, BlinkMacSystemFont, sans-serif; color: var(--vscode-foreground);\">Apps with more detailed and longer descriptions typically receive better ratings.</span>\n",
                "\n",
                "1. <span style=\"font-family: -apple-system, BlinkMacSystemFont, sans-serif; color: var(--vscode-foreground);\">For a new app, it's important to target an average rating of at least 3.5 to ensure a good user response.</span>\n",
                "\n",
                "1. <span style=\"font-family: -apple-system, BlinkMacSystemFont, sans-serif; color: var(--vscode-foreground);\">The competition is fierce in the games and entertainment genres, so it's important to stand out with unique features.</span>"
            ],
            "metadata": {
                "azdata_cell_guid": "f618dea4-0351-46e6-9230-8f5cfccbd6de",
                "language": "sql"
            },
            "attachments": {}
        }
    ]
}